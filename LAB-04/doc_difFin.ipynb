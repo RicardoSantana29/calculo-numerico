{
 "cells": [
  {
   "cell_type": "markdown",
   "metadata": {},
   "source": [
    "#### <center>Programa: difFin<center>\n",
    "#### <center>por: Juan Carlos Jiménez Bedolla<center>"
   ]
  },
  {
   "cell_type": "markdown",
   "metadata": {},
   "source": [
    "### A. Introducción\n",
    "\n",
    "El código dado define una función llamada difer que calcula diferencias numéricas de un conjunto de datos dado. La función toma cuatro parámetros: x, y, tipo y orden. Los parámetros x e y representan los datos de entrada, mientras que tipo y orden son parámetros opcionales que controlan el tipo y orden de las diferencias a calcular.\n",
    "\n",
    "La función calcula diferencias utilizando tres métodos diferentes: diferencias hacia atrás, diferencias centradas y diferencias hacia adelante. El método específico utilizado depende de los valores de los parámetros tipo y orden.\n",
    "\n",
    "La función fue extraida de la siguiente bibliografía:\n",
    "\n",
    "**Métodos numéricos usando Python**, *Jiménez J.*, Universidad Nacional Autónoma de México Facultad de Química, 2022 (1era edición)"
   ]
  },
  {
   "cell_type": "markdown",
   "metadata": {},
   "source": [
    "### B. difFin\n",
    "\n",
    "#### Entrada:\n",
    "\n",
    "* x: Representa los valores de la variable independiente.\n",
    "* y: Representa los valores de la variable dependiente.\n",
    "* tipo (opcional): Controla el tipo de diferencia a calcular. Puede tomar los siguientes valores:\n",
    "    * -1: Diferencia hacia atrás.\n",
    "    * 0: Diferencia centrada.\n",
    "    * 1: Diferencia hacia adelante. El valor predeterminado es 0 (diferencia centrada).\n",
    "* orden (opcional): Controla el orden de la diferencia a calcular. Puede tomar los siguientes valores:\n",
    "    * 1: Primer orden.\n",
    "    * 2: Segundo orden. El valor predeterminado es 1 (primer orden).\n",
    "\n",
    "#### Salida:\n",
    "\n",
    "* Lista que contiene las diferencias calculadas según los parámetros de entrada. El tamaño de la lista de salida depende del tamaño de los datos de entrada x y y."
   ]
  },
  {
   "cell_type": "markdown",
   "metadata": {},
   "source": [
    "### C. Programa\n",
    "\n",
    "* El programa comienza obteniendo el tamaño del arreglo \"x\" utilizando el método \"size\" y lo asigna a la variable \"n\". Luego, utiliza una serie de condicionales para determinar qué tipo de diferencia calcular y realiza los cálculos correspondientes.\n",
    "\n",
    "\n",
    "    * Si el valor de \"tipo\" es -1, se calculan diferencias hacia atrás. Si el valor de \"orden\" es 1, se utiliza la fórmula de diferencia hacia atrás de primer orden, que calcula la diferencia entre los elementos consecutivos de \"y\" dividida por la diferencia entre los elementos consecutivos de \"x\". Si el valor de \"orden\" es 2, se utiliza la fórmula de diferencia hacia atrás de segundo orden, que calcula la diferencia entre los elementos de \"y\" en tres posiciones consecutivas dividida por el cuadrado de la diferencia entre los elementos consecutivos de \"x\".\n",
    "\n",
    "\n",
    "    * Si el valor de \"tipo\" es 0, se calculan diferencias centradas. Si el valor de \"orden\" es 1, se utiliza la fórmula de diferencia centrada de primer orden, que calcula la diferencia entre los elementos de \"y\" en posiciones adyacentes dividida por el doble de la diferencia entre los elementos consecutivos de \"x\". Si el valor de \"orden\" es 2, se utiliza la fórmula de diferencia centrada de segundo orden, que calcula la diferencia entre los elementos de \"y\" en posiciones adyacentes y separadas por un elemento dividida por el cuadrado de la diferencia entre los elementos consecutivos de \"x\".\n",
    "\n",
    "\n",
    "    * Si el valor de \"tipo\" es 1, se calculan diferencias hacia adelante. Si el valor de \"orden\" es 1, se utiliza la fórmula de diferencia hacia adelante de primer orden, que calcula la diferencia entre los elementos de \"y\" en posiciones adyacentes dividida por la diferencia entre los elementos de \"x\" en posiciones adyacentes. Si el valor de \"orden\" es 2, se utiliza la fórmula de diferencia hacia adelante de segundo orden, que calcula la diferencia entre los elementos de \"y\" en posiciones separadas por dos elementos dividida por el cuadrado de la diferencia entre los elementos consecutivos de \"x\".\n",
    "\n",
    "\n",
    "* Si ninguno de los valores de \"tipo\" coincide con los casos anteriores, se genera un error indicando que el parámetro \"tipo\" es incorrecto.\n",
    "\n",
    "\n",
    "* En cada caso, se utiliza una comprensión de lista para calcular las diferencias correspondientes y se devuelve una lista que contiene las diferencias calculadas según los parámetros de entrada.\n",
    "\n",
    "\n",
    "* Es importante tener en cuenta que el tamaño de la lista de salida depende del tamaño de los datos de entrada \"x\" y \"y\"."
   ]
  },
  {
   "cell_type": "markdown",
   "metadata": {},
   "source": [
    "### D. Código"
   ]
  },
  {
   "cell_type": "code",
   "execution_count": 1,
   "metadata": {},
   "outputs": [],
   "source": [
    "def difer(x, y, tipo = 0, orden = 1):\n",
    "    # tipo = (-1: Diferecia hacia atras , 0: Centrada , 1: Diferencia hacia adelante )\n",
    "    # orden = (1: Primer orden , 2: Segundo orden )\n",
    "\n",
    "    n=x. size #shape\n",
    "    if tipo == -1: # Diferencias hacia atras\n",
    "        if orden ==1:\n",
    "            return [(y[i]-y[i -1]) /(x[i]-x[i -1]) for i in range (1,n)]\n",
    "        elif orden ==2:\n",
    "            return [(y[i] -2*y[i -1]+ y[i -2]) /(x[i]-x[i -1])**2 for i in range (2,n)]\n",
    "        else :\n",
    "            raise ValueError ( ' Parametro <Orden> incorrecto ')\n",
    "    elif tipo == 0: # Diferencias centradas\n",
    "        if orden ==1:\n",
    "            return [(y[i+1] -y[i-1]) / (2*(x[i]-x[i -1])) for i in range (1,n -1) ]\n",
    "        elif orden ==2:\n",
    "            return [(y[i +1] -2* y[i]+y[i -1]) /(x[i]-x[i -1])**2 for i in range (1,n -1) ]\n",
    "        else :\n",
    "            raise ValueError ( ' Parametro <Orden> incorrecto ')\n",
    "    elif tipo ==1: # Diferencias hacia adelante\n",
    "        if orden ==1:\n",
    "            return [(y[i+1] -y[i]) /(x[i+1] -x[i]) for i in range (n -1) ]\n",
    "        elif orden ==2:\n",
    "            return [(y[i +2] -2* y[i +1]+ y[i]) /(x[i]-x[i -1]) **2 for i in range (0,n -2) ]\n",
    "        else :\n",
    "            raise ValueError ( ' Parametro <Orden> incorrecto ')\n",
    "    else :\n",
    "        raise ValueError ( ' Parametro <Tipo > incorrecto ')"
   ]
  }
 ],
 "metadata": {
  "kernelspec": {
   "display_name": "Python 3.7.6 32-bit",
   "language": "python",
   "name": "python3"
  },
  "language_info": {
   "codemirror_mode": {
    "name": "ipython",
    "version": 3
   },
   "file_extension": ".py",
   "mimetype": "text/x-python",
   "name": "python",
   "nbconvert_exporter": "python",
   "pygments_lexer": "ipython3",
   "version": "3.7.6"
  },
  "orig_nbformat": 4,
  "vscode": {
   "interpreter": {
    "hash": "788400b204fe04ac0104141e50cea79f99506ff2986f70a747d8d3a42cb0b336"
   }
  }
 },
 "nbformat": 4,
 "nbformat_minor": 2
}
