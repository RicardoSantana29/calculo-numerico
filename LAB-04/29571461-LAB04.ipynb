{
 "cells": [
  {
   "cell_type": "markdown",
   "metadata": {},
   "source": [
    "### **Universidad Central de Venezuela**\n",
    "### **Facultad de Ingeniería**\n",
    "### **Escuela de Ingeniería Eléctrica**\n",
    "\n",
    "## <center>**Laboratorio N°4**<center>\n",
    "\n",
    "<div style='text-align: right;'>\n",
    "    <h4>Periodo 2023-3</h4>\n",
    "    <i>12/02/2023<br>CI 29571461 Ricardo Santana</i>\n",
    "</div>\n",
    "\n",
    "### **1. Introducción**\n",
    "\n",
    "Tanto en ciencias como en ingeniería, e incluso en otras áreas como la economía, dinámica social, etc; se estudian sistemas que cambian y por tanto existe el interés de entender la manera en que ocurren esos cambios. En la formación básica de ingeniería y ciencias, la matemática del cambio se aborda formalmente en los cursos de cálculo diferencial e integral.\n",
    "\n",
    "Al modelar sistemas a través del cálculo diferencial e integral se presentan ecuaciones que nos permiten resolver una problematica, estas ecuaciones pueden presentar derivadas e integrales de distinto orden y complejidad que a veces suelen complicarse al tratar de resolverlas manualmente, tanto es así que es necesario recurrir a herramientas computacionales  o métodos que nos permitan calcular tales expresiones de una forma sencilla y practica.\n",
    "\n",
    "Entre los diversos métodos numericos que nos facilita derivar e integrar una función cabe mencionar el método de diferencias finitas, el cual se basa en la definición de la derivada; por otro lado, para integrar se cuenta con el método del trapecio o de Simpson; entre muchos otros. Además, las derivadas y las integrales de los polinomios se obtienen y evalúan con facilidad. No debería sorprender, entonces, que muchos procedimientos para aproximar derivadas e integrales utilicen los polinomios que aproximan la función. Todo lo anterior considerando un error estimado pequeño que puede despreciarse según la aplicación del método numerico utilizado."
   ]
  },
  {
   "cell_type": "markdown",
   "metadata": {},
   "source": [
    "### **2. Marco Teórico**\n",
    "\n",
    "#### **2.1. Diferenciación** [1]\n",
    "\n",
    "##### **2.1.1. Teorema del valor medio**\n",
    "\n",
    "La aparición de $\\xi$, un punto entre $x_i$ y $x_{i+1}$, sugiere una conexión entre este resultado y el teorema del valor medio, el cual establece que un arco entre dos puntos, existe al menos un punto en el cual la tangente del arco es paralelo a la secante entre ambos puntos.\n",
    "\n",
    "Si la función f es continua en el intervalo $[x_i;x_{i+1}]$ y diferenciable en $(x_i;x_{i+1})$, entonces existe un punto $\\xi$ tal que\n",
    "\n",
    "$$f'(\\xi) = \\frac{f(x_{i+1})-f(x_i)}{x_{i+1}-x_i}$$\n",
    "\n",
    "La serie de Taylor de orden cero es\n",
    "\n",
    "$$f (x_{i+1}) \\cong f (x_i)+R_0$$\n",
    "\n",
    "Donde $R_0 = f'(\\xi)h y h = x_{i+1} - x_i$ entonces\n",
    "\n",
    "$$f (x_{i+1}) \\cong f (x_i) + f'(\\xi)(x_{i+1} - x_i)$$\n",
    "\n",
    "Donde $\\xi$ está entre $x_{i}$ y $x_{i+1}$. Éste es el teorema del punto medio, el cual se usa para probar el teorema de Taylor.\n",
    "\n",
    "##### **2.1.2. Diferencias hacia adelante**\n",
    "\n",
    "Si truncamos la serie de Taylor de primer orden tenemos\n",
    "\n",
    "$$f (x_{i+1}) \\cong f (x_i) + f'(x_i)(x_{i+1} - x_i) + R_1$$\n",
    "\n",
    "donde\n",
    "\n",
    "$$R_1 = {f'(\\xi) \\over 2}h^2$$\n",
    "\n",
    "$${R_1 \\over h} = {f'(\\xi) \\over 2}h$$\n",
    "\n",
    "Rearreglando\n",
    "\n",
    "$$f'(x_i) = \\frac{f(x_{i+1})-f(x_i)}{h} - {R_1 \\over h}$$\n",
    "\n",
    "$$\\left| \\overline{\\underline{f'(x_i) = \\frac{f(x_{i+1})-f(x_i)}{h} + O(h)}} \\right| \\;\\;\\;\\;\\; (1)$$\n",
    "\n",
    "##### **2.1.3. Diferencias hacia atrás**\n",
    "\n",
    "La serie de Taylor se puede expresar hacia atrás para calcular el valor previo basado en el valor actual.\n",
    "\n",
    "$$f(x_{i-1}) = f (x_i) - f'(x_i)h + {f''(x_i) \\over 2!}h^2 - {f'''(xi) \\over 3!}h^3 + \\dotso$$\n",
    "\n",
    "Truncando la serie de primer orden\n",
    "\n",
    "$$f (x_{i-1}) \\cong f (x_i) - f'(x_i)h + R_1$$\n",
    "\n",
    "Rearreglando\n",
    "\n",
    "$$f'(x_i) = \\frac{f(x_i)-f(x_{i-1})}{h} - {R_1 \\over h}$$\n",
    "\n",
    "$$\\left| \\overline{\\underline{f'(x_i) = \\frac{f(x_i)-f(x_{i-1})}{h} + O(h)}} \\right| \\;\\;\\;\\;\\; (2)$$\n",
    "\n",
    "##### **2.1.4. Diferencias centradas**\n",
    "\n",
    "La tercera forma para aproximar la primera derivada es restando la diferencia hacia adelante y la diferencia hacia atrás.\n",
    "\n",
    "$$\\begin{split}\n",
    "    f(x_{i+1}) & = f (x_i) + f'(x_i)h + {f''(x_i) \\over 2!}h^2 + {f'''(xi) \\over 3!}h^3 + \\dotso \\\\\n",
    "    f(x_{i-1}) & = f (x_i) - f'(x_i)h + {f''(x_i) \\over 2!}h^2 - {f'''(xi) \\over 3!}h^3 + \\dotso \\\\\n",
    "    f(x_{i+1}) - f(x_{i-1}) & = 2f'(x_i)h + {2f'''(xi) \\over 3!}h^3 + \\dotso \\\\\n",
    "\\end{split}$$\n",
    "\n",
    "Rearreglando\n",
    "\n",
    "$$\\left| \\overline{\\underline{f'(x_i) = \\frac{f(x_{i+1}) - f(x_{i-1})}{2h} + O(h^2)}} \\right| \\;\\;\\;\\;\\; (3)$$\n",
    "\n",
    "##### **2.1.4. Diferencias de 2° orden**\n",
    "\n",
    "Para aproximar la derivada de segundo orden, escribiremos la expansión de la serie de Taylor hacia adelante para $f (x_{i+2})$ en términos de $f (x_i)$\n",
    "\n",
    "$$f(x_{i+2}) = f (x_i) + f'(x_i)(2h) + {f''(x_i) \\over 2!}(2h)^2 + {f'''(xi) \\over 3!}(2h)^3 + \\dotso$$\n",
    "\n",
    "Truncamos la serie de segundo orden\n",
    "\n",
    "$$f(x_{i+2}) \\approx f (x_i) + 2f'(x_i)h + 2f''(x_i)h^2 + R_2$$\n",
    "\n",
    "Truncando la diferencia hacia adelante de segundo orden y multiplicando por 2\n",
    "\n",
    "$$2f(x_{i+1}) \\approx 2f (x_i) + 2f'(x_i)h + f''(x_i)h^2 + 2R_2$$\n",
    "\n",
    "Restando de la ecuación anterior tenemos\n",
    "\n",
    "$$f(x_{i+2}) - 2f(x_{i+1}) = -f(x_i) + f''(x_i)h^2 - R_2$$\n",
    "\n",
    "Rearreglando\n",
    "\n",
    "$$f''(x_i) = \\frac{f(x_{i+2}) - 2f(x_{i+1}) + f(x_i)}{h^2} + {R_2 \\over h^2}$$\n",
    "\n",
    "El residuo se puede escribir como\n",
    "\n",
    "$$R_2 = {f'''(\\xi) \\over 3!}h^3$$\n",
    "\n",
    "$${R_2 \\over h^2} = {f'''(\\xi) \\over 3!}h = O(h)$$\n",
    "\n",
    "Por lo tanto\n",
    "\n",
    "$$\\left| \\overline{\\underline{f'(x_i) = \\frac{f(x_{i+2}) - 2f(x_{i+1}) + f(x_i)}{h^2} + O(h)}} \\right| \\;\\;\\;\\;\\; (4)$$\n",
    "\n",
    "Seguimos el mismo procedimiento para la derivada de 2° orden para la diferencia hacia atrás\n",
    "\n",
    "$$\\left| \\overline{\\underline{f'(x_i) = \\frac{f(x_i) - 2f(x_{i-1}) + f(x_{i-2})}{h^2} + O(h)}} \\right| \\;\\;\\;\\;\\; (5)$$\n",
    "\n",
    "y centrada\n",
    "\n",
    "$$\\left| \\overline{\\underline{f'(x_i) = \\frac{f(x_{i+1}) - 2f(x_i) + f(x_{i-1})}{h^2} + O(h)}} \\right| \\;\\;\\;\\;\\; (6)$$\n"
   ]
  },
  {
   "cell_type": "markdown",
   "metadata": {},
   "source": [
    "#### **2.2. Integración [2]**\n",
    "\n",
    "El método básico asociado con la aproximación de $\\int_a^b f(x)dx$ recibe el nombre de cuadratura numérica. Éste utiliza unasuma $\\sum_{i=0}^n a_if(x_i)$ para aproximar $\\int_a^b f(x)dx$.\n",
    "\n",
    "La idea básica es seleccionar un conjunto de nodos distintos $\\{ x_0, . . . , x_n\\}$ del intervalo $[a, b]$. Entonces integramos el polinomio interpolante de\n",
    "Lagrange\n",
    "\n",
    "$$P_n(x) = \\sum_{i=0}^n f (x_i )L_i (x)$$\n",
    "\n",
    "y su término de error de truncamiento sobre $[a, b]$ para obtener\n",
    "\n",
    "$$\\begin{split}\n",
    "\\displaystyle{\\int_a^b} f(x)dx & = \\displaystyle{\\int_a^b} \\displaystyle{\\sum_{i=0}^n} f(x_i)L_i(x)dx + \\displaystyle{\\int_a^b} \\displaystyle{\\prod_{i=0}^n} (x - x_i){f^{(n+1)}(\\xi(x)) \\over (n+1)!}dx \\\\\n",
    "& = \\displaystyle{\\sum_{i=0}^n}a_if(x_i) + {1 \\over (n+1)!} \\displaystyle{\\int_a^b} \\displaystyle{\\prod_{i=0}^n} (x - x_i)f^{(n+1)}(\\xi(x))dx\n",
    "\\end{split}$$\n",
    "\n",
    "donde $\\xi(x)$ se encuentra en $[a, b]$ para cada $x$ y\n",
    "\n",
    "$$a_i = \\displaystyle{\\int_a^b}L_i(x)dx, \\; para \\; cada \\; i = 0, 1, . . . , n.$$\n",
    "\n",
    "La fórmula de cuadratura es, por lo tanto,\n",
    "\n",
    "$$\\displaystyle{\\int_a^b} f(x)dx \\approx \\displaystyle{\\sum_{i=0}^n}a_if(x_i)$$\n",
    "\n",
    "con un error dado por\n",
    "\n",
    "$$E(f) = {1 \\over (n+1)!} \\displaystyle{\\int_a^b} \\displaystyle{\\prod_{i=0}^n} (x - x_i)f^{(n+1)}(\\xi(x))dx$$\n",
    "\n",
    "Consideremos las fórmulas producidas mediante el uso del primer y del segundo polinomios de Lagrange con nodos igualmente espaciados. Esto da la regla trapezoidal y la regla de Simpson, las cuales se presentan generalmente en cursos de cálculo.\n",
    "\n",
    "##### **2.2.1. La regla trapezoidal**\n",
    "\n",
    "Para derivar la regla trapezoidal (o regla del trapecio) para aproximar $\\int_a^b f(x)dx$, sean $x_0 = a$, $x_1 = b$, $h = b−a$ y utilice el polinomio de Lagrange\n",
    "\n",
    "$$P_1(x) = {(x − x_1) \\over (x_0 − x_1)} f(x_0) + {(x − x_0) \\over (x_1 − x_0)} f(x_1)$$\n",
    "\n",
    "Entonces\n",
    "\n",
    "$$\\begin{split}\n",
    "\\displaystyle{\\int_a^b}f(x)dx = & \\displaystyle{\\int_{x_0}^{x_1}}\\left[{(x − x_1) \\over (x_0 − x_1)} f(x_0) + {(x − x_0) \\over (x_1 − x_0)} f(x_1)\\right]dx \\\\ \n",
    "& + {1 \\over 2}\\displaystyle{\\int_{x_0}^{x_1}} f''(\\xi(x))(x-x_0)(x-x_1)dx\n",
    "\\end{split}$$\n",
    "\n",
    "El producto $(x −x_0)(x −x_1)$ no cambia de signo en $[x_0, x_1]$, por lo que el teorema del valor promedio ponderado para integrales se puede aplicar al término de error para obtener, para algunos $\\xi$ en $(x_0, x_1)$,\n",
    "\n",
    "$$\\begin{split}\n",
    "    \\displaystyle{\\int_{x_0}^{x_1}} f''(\\xi(x))(x-x_0)(x-x_1)dx & = f''(\\xi) \\displaystyle{\\int_{x_0}^{x_1}} (x-x_0)(x-x_1)dx \\\\\n",
    "    & = f''(\\xi) \\left[ {x^3 \\over 3} - {(x_1+x_0) \\over 2}x^2 + x_0x_1x\\right]_{x_0}^{x_1} \\\\\n",
    "    & = - {h^3 \\over 6}f''(\\xi)\n",
    "\\end{split}$$\n",
    "\n",
    "Por consiguiente, implica que\n",
    "\n",
    "$$\\begin{split}\n",
    "\\displaystyle{\\int_a^b}f(x)dx & = \\left[ {(x-x_1)^2 \\over 2(x_0-x_1)}f(x_0) + {(x-x_0)^2 \\over 2(x_1-x_0)}f(x_1)\\right]_{x_0}^{x_1} - {h^3 \\over 12}f''(\\xi) \\\\\n",
    "& = {(x_1 − x_0) \\over 2}[f(x_0) + f(x_1)] - {h^3 \\over 12}f''(\\xi)\n",
    "\\end{split}$$\n",
    "\n",
    "Por medio de la notación $h = x_1 − x_0$ obtenemos la siguiente regla:\n",
    "\n",
    "**Regla trapezoidal:**\n",
    "\n",
    "$$\\left| \\overline{\\underline{\\displaystyle{\\int_a^b}f(x)dx = {h \\over 2}[f(x_0) + f(x_1)] - {h^3 \\over 12}f''(\\xi)}} \\right| \\;\\;\\;\\;\\; (7)$$\n",
    "\n",
    "Esto recibe el nombre de regla trapezoidal porque cuando f es una función con valores positivos, $\\int_a^b f(x)dx$ se aproxima mediante el área de un trapecio.\n",
    "\n",
    "El término de error para la regla trapezoidal implica $f''$, por lo que la regla da el resultado exacto cuando se aplica a cualquier función cuya segunda derivada es idénticamente cero, es decir, cualquier polinomio de grado uno o menos.\n",
    "\n",
    "##### **2.2.2. Regla de Simpson**\n",
    "\n",
    "La regla de Simpson resulta de la integración sobre $[a, b]$ del segundo polinomio de Lagrange con nodos igualmente espaciados $x_0 = a$, $x_2 = b$, y $x_1 = a + h$, en donde $h = (b − a)/2$.\n",
    "\n",
    "Por lo tanto,\n",
    "\n",
    "$$\\begin{split}\n",
    "\\displaystyle{\\int_a^b}f(x)dx & = \\displaystyle{\\int_{x_0}^{x_2}}\\left[{(x − x_1)(x-x_2) \\over (x_0 − x_1)(x_0-x_2)} f(x_0) + {(x − x_0)(x-x_2) \\over (x_1 − x_0)(x_1-x_2)} f(x_1)\\right. \\\\ \n",
    "& + \\left. {(x − x_0)(x-x_1) \\over (x_2 − x_0)(x_2-x_1)} f(x_2) \\right] dx \\\\\n",
    "& + \\displaystyle{\\int_{x_0}^{x_2}}{(x-x_0)(x-x_1)(x-x_2) \\over 6}f^{(3)}(\\xi(x))dx \\\\\n",
    "\\end{split}$$\n",
    "\n",
    "Al deducir la regla de Simpson de esta forma, sin embargo, da un solo término de error $O(h^4)$ relacionado con $f^(3)$. Al aproximar el problema de otra forma, se puede derivar otro término de orden superior relacionado con $f^(4)$.\n",
    "\n",
    "Para ilustrar este método alternativo, suponga que $f$ se expande en el tercer polinomio de Taylor alrededor de $x_1$. Entonces, para cada $x$ en $[x_0, x_2]$, existe un número $\\xi(x)$ en $(x_0, x_2)$ con\n",
    "\n",
    "$$\\begin{split}\n",
    "    f (x) & = f (x_1) + f'(x_1)(x − x_1) + {f''(x_1) \\over 2}(x − x_1)^2 + {f'''(x_1) \\over 6}(x − x_1)^3 \\\\\n",
    "    & + {f^{(4)}(\\xi(x)) \\over 24}(x − x_1)^4 \\\\\n",
    "\\end{split}$$\n",
    "\n",
    "y\n",
    "\n",
    "$$\\begin{split}\n",
    "    \\displaystyle{\\int_{x_0}^{x_2}}f(x)dx = & \\left[ f (x_1)(x-x_1) + {f'(x_1) \\over 2}(x − x_1)^2 + {f''(x_1) \\over 6}(x − x_1)^3 \\right. \\\\\n",
    "    & \\left. + {f'''(x_1) \\over 24}(x − x_1)^4 \\right]_{x_0}^{x_2} + {1 \\over 24}\\displaystyle{\\int_{x_0}^{x_2}}f^{(4)}(\\xi(x))(x − x_1)^4dx \\;\\;\\;\\;\\;\\;\\;\\; (i)\n",
    "\\end{split}$$\n",
    "\n",
    "Puesto que $(x - x_1)^4$ nunca es negativo en $[x_0, x_2]$, el teorema de valor promedio ponderado para las integrales implica que\n",
    "\n",
    "$${1 \\over 24}\\displaystyle{\\int_{x_0}^{x_2}}f^{(4)}(\\xi(x))(x − x_1)^4dx = {f^{(4)}(\\xi_1) \\over 24}\\displaystyle{\\int_{x_0}^{x_2}}(x − x_1)^4dx = \\left. {f^{(4)}(\\xi_1) \\over 120}(x − x_1)^5 \\right]_{x_0}^{x_2}$$\n",
    "\n",
    "para algún número $\\xi_1$ en $(x_0, x_2)$.\n",
    "\n",
    "Sin embargo, $h = x_2 - x_1 = x_1 - x_0$, por lo que\n",
    "\n",
    "$$(x_2 - x_1)^2 - (x_1 - x_0)^2 = (x_2 - x_1)^4 - (x_1 - x_0)^4 = 0$$\n",
    "\n",
    "mientras\n",
    "\n",
    "$$(x_2 - x_1)^3 - (x_1 - x_0)^3 = 2h^3 \\; y \\; (x_2 - x_1)^5 - (x_1 - x_0)^5 = 2h^5$$\n",
    "\n",
    "Por consiguiente, la ecuación (i) se puede reescribir como\n",
    "\n",
    "$$\\displaystyle{\\int_{x_0}^{x_2}}f(x)dx = 2hf(x_1) + {h^3 \\over 3}f''(x_1) + {f^{(4)}(\\xi_1) \\over 60}h^5$$\n",
    "\n",
    "Ahora, si reemplazamos f''(x_1) por medio de la aproximación determinada en la ecuación de diferencias finitas de la sección 2.1, tenemos\n",
    "\n",
    "$$\\begin{split}\n",
    "    \\displaystyle{\\int_{x_0}^{x_2}}f(x)dx & = 2hf(x_1) + {h^3 \\over 3}\\left\\{ {1 \\over h^2}[f(x_0)-2f(x_1)+f(x_2)] - {h^2 \\over 12}f^{(4)}(\\xi_2)\\right\\} + {f^{(4)}(\\xi_1) \\over 60}h^5 \\\\\n",
    "    & = {h \\over 3}[f(x_0)+4f(x_1)+f(x_2)] - {h^5 \\over 12}\\left[ {1 \\over 3}f^{(4)}(\\xi_2) - {1 \\over 5}f^{(4)}(\\xi_1)\\right]\n",
    "\\end{split}$$\n",
    "\n",
    "**Regla de Simpson:**\n",
    "\n",
    "$$\\left| \\overline{\\underline{\\displaystyle{\\int_{x_0}^{x_2}}f(x)dx = {h \\over 3}[f(x_0)+4f(x_1)+f(x_2)] - {h^5 \\over 90}f^{(4)}(\\xi)|}} \\right| \\;\\;\\;\\;\\; (1)$$\n",
    "\n",
    "El término de error en la regla de Simpson implica la cuarta derivada de $f$, por lo que da resultados exactos cuando se aplica a cualquier polinomio de grado tres o menos."
   ]
  },
  {
   "cell_type": "markdown",
   "metadata": {},
   "source": [
    "#### **2.3. Estimación de errores**\n",
    "\n",
    "El error, según el método aplicado, se estimará a través del término $O(h^n)$ relacionado a los modelos del (1) al (8), tal que $\\xi \\rightarrow 0$ para la diferenciación y $\\xi \\in [a,b]$ para la integración. Por otro lado el error se evaluará en la comparación del cálculo de la derivada o integral realizado con la libreria sympy de python, a través de las siguientes ecuaciones\n",
    "\n",
    "$$E(x_0) = |f'_{sympy}(x)]_{x=x_0} - f'_{calculado}(x_0)]_{x=x_0}|$$\n",
    "\n",
    "$$E(x_0) = \\left| \\left[ \\displaystyle{\\int_a^b} f_{sympy}(x)dx\\right]_{x=x_0} - \\left[ \\displaystyle{\\int_a^b} f_{calculada}(x)dx\\right]_{x=x_0} \\right|$$"
   ]
  },
  {
   "cell_type": "markdown",
   "metadata": {},
   "source": [
    "### **3. Práctica**\n",
    "\n",
    "#### **3.1. Programas a utilizar**"
   ]
  },
  {
   "cell_type": "code",
   "execution_count": 64,
   "metadata": {},
   "outputs": [],
   "source": [
    "#librerias necesarias\n",
    "import math as mt\n",
    "import random as rd\n",
    "import sympy as sp\n",
    "from sympy.abc import x,y,z\n",
    "import numpy as np\n",
    "import pandas as pd\n",
    "import sys\n",
    "x = sp.symbols('x')\n",
    "\n",
    "#programas diseñados\n",
    "ruta = 'C:\\\\Users\\\\Brayan Acosta\\\\Documents\\\\Semestre 2023-3\\\\Calculo Numerico\\\\Drive-Ric\\\\LAB-04'\n",
    "ruta_interpolar = 'C:\\\\Users\\\\Brayan Acosta\\\\Documents\\\\Semestre 2023-3\\\\Calculo Numerico\\\\Drive-Ric\\\\LAB-02'\n",
    "#print(sys.path)\n",
    "sys.path.append(ruta)\n",
    "sys.path.append(ruta_interpolar)\n",
    "from intg import *\n",
    "from difFin import *\n",
    "from interpolante import *"
   ]
  },
  {
   "cell_type": "markdown",
   "metadata": {},
   "source": [
    "#### **3.2. Problema por tabla de datos**"
   ]
  },
  {
   "cell_type": "code",
   "execution_count": 65,
   "metadata": {},
   "outputs": [
    {
     "data": {
      "text/html": [
       "<div>\n",
       "<style scoped>\n",
       "    .dataframe tbody tr th:only-of-type {\n",
       "        vertical-align: middle;\n",
       "    }\n",
       "\n",
       "    .dataframe tbody tr th {\n",
       "        vertical-align: top;\n",
       "    }\n",
       "\n",
       "    .dataframe thead th {\n",
       "        text-align: right;\n",
       "    }\n",
       "</style>\n",
       "<table border=\"1\" class=\"dataframe\">\n",
       "  <thead>\n",
       "    <tr style=\"text-align: right;\">\n",
       "      <th></th>\n",
       "      <th>x</th>\n",
       "      <th>f(x)</th>\n",
       "    </tr>\n",
       "  </thead>\n",
       "  <tbody>\n",
       "    <tr>\n",
       "      <th>0</th>\n",
       "      <td>1</td>\n",
       "      <td>0.500</td>\n",
       "    </tr>\n",
       "    <tr>\n",
       "      <th>1</th>\n",
       "      <td>2</td>\n",
       "      <td>0.143</td>\n",
       "    </tr>\n",
       "    <tr>\n",
       "      <th>2</th>\n",
       "      <td>3</td>\n",
       "      <td>0.071</td>\n",
       "    </tr>\n",
       "    <tr>\n",
       "      <th>3</th>\n",
       "      <td>4</td>\n",
       "      <td>0.044</td>\n",
       "    </tr>\n",
       "    <tr>\n",
       "      <th>4</th>\n",
       "      <td>5</td>\n",
       "      <td>0.029</td>\n",
       "    </tr>\n",
       "    <tr>\n",
       "      <th>5</th>\n",
       "      <td>6</td>\n",
       "      <td>0.021</td>\n",
       "    </tr>\n",
       "    <tr>\n",
       "      <th>6</th>\n",
       "      <td>7</td>\n",
       "      <td>0.016</td>\n",
       "    </tr>\n",
       "    <tr>\n",
       "      <th>7</th>\n",
       "      <td>8</td>\n",
       "      <td>0.013</td>\n",
       "    </tr>\n",
       "    <tr>\n",
       "      <th>8</th>\n",
       "      <td>9</td>\n",
       "      <td>0.010</td>\n",
       "    </tr>\n",
       "    <tr>\n",
       "      <th>9</th>\n",
       "      <td>10</td>\n",
       "      <td>0.008</td>\n",
       "    </tr>\n",
       "    <tr>\n",
       "      <th>10</th>\n",
       "      <td>11</td>\n",
       "      <td>0.007</td>\n",
       "    </tr>\n",
       "    <tr>\n",
       "      <th>11</th>\n",
       "      <td>12</td>\n",
       "      <td>0.006</td>\n",
       "    </tr>\n",
       "  </tbody>\n",
       "</table>\n",
       "</div>"
      ],
      "text/plain": [
       "     x   f(x)\n",
       "0    1  0.500\n",
       "1    2  0.143\n",
       "2    3  0.071\n",
       "3    4  0.044\n",
       "4    5  0.029\n",
       "5    6  0.021\n",
       "6    7  0.016\n",
       "7    8  0.013\n",
       "8    9  0.010\n",
       "9   10  0.008\n",
       "10  11  0.007\n",
       "11  12  0.006"
      ]
     },
     "execution_count": 65,
     "metadata": {},
     "output_type": "execute_result"
    }
   ],
   "source": [
    "df = pd.read_csv('datos.csv')\n",
    "x0 = df.iloc[:,0].to_numpy()\n",
    "fx0 = df.iloc[:,1].to_numpy()\n",
    "df"
   ]
  },
  {
   "cell_type": "markdown",
   "metadata": {},
   "source": [
    "##### **3.2.1. Primera derivada por diferencias finitas**\n",
    "\n",
    "**Tabla 1. Derivada por diferencias finitas**"
   ]
  },
  {
   "cell_type": "code",
   "execution_count": 66,
   "metadata": {},
   "outputs": [
    {
     "data": {
      "text/html": [
       "<div>\n",
       "<style scoped>\n",
       "    .dataframe tbody tr th:only-of-type {\n",
       "        vertical-align: middle;\n",
       "    }\n",
       "\n",
       "    .dataframe tbody tr th {\n",
       "        vertical-align: top;\n",
       "    }\n",
       "\n",
       "    .dataframe thead th {\n",
       "        text-align: right;\n",
       "    }\n",
       "</style>\n",
       "<table border=\"1\" class=\"dataframe\">\n",
       "  <thead>\n",
       "    <tr style=\"text-align: right;\">\n",
       "      <th></th>\n",
       "      <th>x</th>\n",
       "      <th>f(x)</th>\n",
       "      <th>f'(x)cen</th>\n",
       "      <th>f'(x)ade</th>\n",
       "      <th>f'(x)atr</th>\n",
       "    </tr>\n",
       "  </thead>\n",
       "  <tbody>\n",
       "    <tr>\n",
       "      <th>0</th>\n",
       "      <td>1</td>\n",
       "      <td>0.500</td>\n",
       "      <td>-0.2145</td>\n",
       "      <td>-0.357</td>\n",
       "      <td>-0.357</td>\n",
       "    </tr>\n",
       "    <tr>\n",
       "      <th>1</th>\n",
       "      <td>2</td>\n",
       "      <td>0.143</td>\n",
       "      <td>-0.0495</td>\n",
       "      <td>-0.072</td>\n",
       "      <td>-0.072</td>\n",
       "    </tr>\n",
       "    <tr>\n",
       "      <th>2</th>\n",
       "      <td>3</td>\n",
       "      <td>0.071</td>\n",
       "      <td>-0.0210</td>\n",
       "      <td>-0.027</td>\n",
       "      <td>-0.027</td>\n",
       "    </tr>\n",
       "    <tr>\n",
       "      <th>3</th>\n",
       "      <td>4</td>\n",
       "      <td>0.044</td>\n",
       "      <td>-0.0115</td>\n",
       "      <td>-0.015</td>\n",
       "      <td>-0.015</td>\n",
       "    </tr>\n",
       "    <tr>\n",
       "      <th>4</th>\n",
       "      <td>5</td>\n",
       "      <td>0.029</td>\n",
       "      <td>-0.0065</td>\n",
       "      <td>-0.008</td>\n",
       "      <td>-0.008</td>\n",
       "    </tr>\n",
       "    <tr>\n",
       "      <th>5</th>\n",
       "      <td>6</td>\n",
       "      <td>0.021</td>\n",
       "      <td>-0.0040</td>\n",
       "      <td>-0.005</td>\n",
       "      <td>-0.005</td>\n",
       "    </tr>\n",
       "    <tr>\n",
       "      <th>6</th>\n",
       "      <td>7</td>\n",
       "      <td>0.016</td>\n",
       "      <td>-0.0030</td>\n",
       "      <td>-0.003</td>\n",
       "      <td>-0.003</td>\n",
       "    </tr>\n",
       "    <tr>\n",
       "      <th>7</th>\n",
       "      <td>8</td>\n",
       "      <td>0.013</td>\n",
       "      <td>-0.0025</td>\n",
       "      <td>-0.003</td>\n",
       "      <td>-0.003</td>\n",
       "    </tr>\n",
       "    <tr>\n",
       "      <th>8</th>\n",
       "      <td>9</td>\n",
       "      <td>0.010</td>\n",
       "      <td>-0.0015</td>\n",
       "      <td>-0.002</td>\n",
       "      <td>-0.002</td>\n",
       "    </tr>\n",
       "    <tr>\n",
       "      <th>9</th>\n",
       "      <td>10</td>\n",
       "      <td>0.008</td>\n",
       "      <td>-0.0010</td>\n",
       "      <td>-0.001</td>\n",
       "      <td>-0.001</td>\n",
       "    </tr>\n",
       "    <tr>\n",
       "      <th>10</th>\n",
       "      <td>11</td>\n",
       "      <td>0.007</td>\n",
       "      <td>NaN</td>\n",
       "      <td>-0.001</td>\n",
       "      <td>-0.001</td>\n",
       "    </tr>\n",
       "    <tr>\n",
       "      <th>11</th>\n",
       "      <td>12</td>\n",
       "      <td>0.006</td>\n",
       "      <td>NaN</td>\n",
       "      <td>NaN</td>\n",
       "      <td>NaN</td>\n",
       "    </tr>\n",
       "  </tbody>\n",
       "</table>\n",
       "</div>"
      ],
      "text/plain": [
       "     x   f(x)  f'(x)cen  f'(x)ade  f'(x)atr\n",
       "0    1  0.500   -0.2145    -0.357    -0.357\n",
       "1    2  0.143   -0.0495    -0.072    -0.072\n",
       "2    3  0.071   -0.0210    -0.027    -0.027\n",
       "3    4  0.044   -0.0115    -0.015    -0.015\n",
       "4    5  0.029   -0.0065    -0.008    -0.008\n",
       "5    6  0.021   -0.0040    -0.005    -0.005\n",
       "6    7  0.016   -0.0030    -0.003    -0.003\n",
       "7    8  0.013   -0.0025    -0.003    -0.003\n",
       "8    9  0.010   -0.0015    -0.002    -0.002\n",
       "9   10  0.008   -0.0010    -0.001    -0.001\n",
       "10  11  0.007       NaN    -0.001    -0.001\n",
       "11  12  0.006       NaN       NaN       NaN"
      ]
     },
     "execution_count": 66,
     "metadata": {},
     "output_type": "execute_result"
    }
   ],
   "source": [
    "f_prima_cen = difer(x0, fx0, 0, 1)\n",
    "f_prima_ade = difer(x0, fx0, 1, 1)\n",
    "f_prima_atr = difer(x0, fx0, -1, 1)\n",
    "df_cen = pd.DataFrame(f_prima_cen, columns=[\"f'(x)cen\"])\n",
    "df_ade = pd.DataFrame(f_prima_ade, columns=[\"f'(x)ade\"])\n",
    "df_atr = pd.DataFrame(f_prima_atr, columns=[\"f'(x)atr\"])\n",
    "df_tabla1 = pd.concat([pd.DataFrame(x0,columns=['x']),pd.DataFrame(fx0,columns=['f(x)']),df_cen,df_ade,df_atr], axis=1)\n",
    "df_tabla1.to_csv('diferencias.csv', index=False)\n",
    "df_tabla1"
   ]
  },
  {
   "cell_type": "markdown",
   "metadata": {},
   "source": [
    "##### **3.2.2. Polinomio interpolante de Lagrange**"
   ]
  },
  {
   "cell_type": "code",
   "execution_count": 67,
   "metadata": {},
   "outputs": [
    {
     "name": "stdout",
     "output_type": "stream",
     "text": [
      "P(x) = \n"
     ]
    },
    {
     "data": {
      "text/latex": [
       "$\\displaystyle 4.43422318422323 \\cdot 10^{-9} x^{11} - 3.03681657848324 \\cdot 10^{-7} x^{10} + 9.03466710758377 \\cdot 10^{-6} x^{9} - 0.000152397486772488 x^{8} + 0.00158848131613758 x^{7} - 0.0103329050925927 x^{6} + 0.0386102554563496 x^{5} - 0.0479009810405657 x^{4} - 0.238595510361555 x^{3} + 1.25738658730157 x^{2} - 2.45361226551226 x + 1.953$"
      ],
      "text/plain": [
       "4.43422318422323e-9*x**11 - 3.03681657848324e-7*x**10 + 9.03466710758377e-6*x**9 - 0.000152397486772488*x**8 + 0.00158848131613758*x**7 - 0.0103329050925927*x**6 + 0.0386102554563496*x**5 - 0.0479009810405657*x**4 - 0.238595510361555*x**3 + 1.25738658730157*x**2 - 2.45361226551226*x + 1.953"
      ]
     },
     "execution_count": 67,
     "metadata": {},
     "output_type": "execute_result"
    }
   ],
   "source": [
    "#basandose en el laboratorio 2\n",
    "inst = data(x0, fx0)\n",
    "px = inst.polinomio_lagrange()\n",
    "print('P(x) = ')\n",
    "px"
   ]
  },
  {
   "cell_type": "code",
   "execution_count": 68,
   "metadata": {},
   "outputs": [
    {
     "data": {
      "image/png": "[encoded data removed]",
      "text/plain": [
       "<Figure size 640x480 with 1 Axes>"
      ]
     },
     "metadata": {},
     "output_type": "display_data"
    }
   ],
   "source": [
    "inst.graficar_pol_sp(px,'Polinomio interpolante de Lagrange')"
   ]
  },
  {
   "cell_type": "markdown",
   "metadata": {},
   "source": [
    "##### **3.2.3. Modelos de interpolación**"
   ]
  },
  {
   "cell_type": "markdown",
   "metadata": {},
   "source": [
    "**3.2.3.1. Modelos 1**\n",
    "\n",
    "$$y = \\frac{1}{ax^2 + bx + c}$$\n",
    "\n",
    "Linealizando\n",
    "\n",
    "$${1\\over y} = ax^2 + bx + c$$\n",
    "$$y_1 = ax^2 + bx + c$$\n",
    "\n",
    "Entonces al linealizar"
   ]
  },
  {
   "cell_type": "code",
   "execution_count": 69,
   "metadata": {},
   "outputs": [
    {
     "name": "stdout",
     "output_type": "stream",
     "text": [
      "datos linealizados para modelo 01\n"
     ]
    },
    {
     "data": {
      "text/html": [
       "<div>\n",
       "<style scoped>\n",
       "    .dataframe tbody tr th:only-of-type {\n",
       "        vertical-align: middle;\n",
       "    }\n",
       "\n",
       "    .dataframe tbody tr th {\n",
       "        vertical-align: top;\n",
       "    }\n",
       "\n",
       "    .dataframe thead th {\n",
       "        text-align: right;\n",
       "    }\n",
       "</style>\n",
       "<table border=\"1\" class=\"dataframe\">\n",
       "  <thead>\n",
       "    <tr style=\"text-align: right;\">\n",
       "      <th></th>\n",
       "      <th>x</th>\n",
       "      <th>y1</th>\n",
       "    </tr>\n",
       "  </thead>\n",
       "  <tbody>\n",
       "    <tr>\n",
       "      <th>0</th>\n",
       "      <td>1</td>\n",
       "      <td>2.000000</td>\n",
       "    </tr>\n",
       "    <tr>\n",
       "      <th>1</th>\n",
       "      <td>2</td>\n",
       "      <td>6.993007</td>\n",
       "    </tr>\n",
       "    <tr>\n",
       "      <th>2</th>\n",
       "      <td>3</td>\n",
       "      <td>14.084507</td>\n",
       "    </tr>\n",
       "    <tr>\n",
       "      <th>3</th>\n",
       "      <td>4</td>\n",
       "      <td>22.727273</td>\n",
       "    </tr>\n",
       "    <tr>\n",
       "      <th>4</th>\n",
       "      <td>5</td>\n",
       "      <td>34.482759</td>\n",
       "    </tr>\n",
       "    <tr>\n",
       "      <th>5</th>\n",
       "      <td>6</td>\n",
       "      <td>47.619048</td>\n",
       "    </tr>\n",
       "    <tr>\n",
       "      <th>6</th>\n",
       "      <td>7</td>\n",
       "      <td>62.500000</td>\n",
       "    </tr>\n",
       "    <tr>\n",
       "      <th>7</th>\n",
       "      <td>8</td>\n",
       "      <td>76.923077</td>\n",
       "    </tr>\n",
       "    <tr>\n",
       "      <th>8</th>\n",
       "      <td>9</td>\n",
       "      <td>100.000000</td>\n",
       "    </tr>\n",
       "    <tr>\n",
       "      <th>9</th>\n",
       "      <td>10</td>\n",
       "      <td>125.000000</td>\n",
       "    </tr>\n",
       "    <tr>\n",
       "      <th>10</th>\n",
       "      <td>11</td>\n",
       "      <td>142.857143</td>\n",
       "    </tr>\n",
       "    <tr>\n",
       "      <th>11</th>\n",
       "      <td>12</td>\n",
       "      <td>166.666667</td>\n",
       "    </tr>\n",
       "  </tbody>\n",
       "</table>\n",
       "</div>"
      ],
      "text/plain": [
       "     x          y1\n",
       "0    1    2.000000\n",
       "1    2    6.993007\n",
       "2    3   14.084507\n",
       "3    4   22.727273\n",
       "4    5   34.482759\n",
       "5    6   47.619048\n",
       "6    7   62.500000\n",
       "7    8   76.923077\n",
       "8    9  100.000000\n",
       "9   10  125.000000\n",
       "10  11  142.857143\n",
       "11  12  166.666667"
      ]
     },
     "execution_count": 69,
     "metadata": {},
     "output_type": "execute_result"
    }
   ],
   "source": [
    "y1 = 1/fx0\n",
    "dfx1 = pd.DataFrame(x0, columns=['x'])\n",
    "dfy1 = pd.DataFrame(y1)\n",
    "dfx1['y1'] = dfy1\n",
    "print('datos linealizados para modelo 01')\n",
    "dfx1"
   ]
  },
  {
   "cell_type": "code",
   "execution_count": 70,
   "metadata": {},
   "outputs": [
    {
     "name": "stdout",
     "output_type": "stream",
     "text": [
      "        2\n",
      "0.9967 x + 2.215 x - 1.562\n"
     ]
    }
   ],
   "source": [
    "mod1 = data(x0,y1)\n",
    "coe1, pol1 = mod1.polinomio_min_cuad(2)\n",
    "print(pol1)"
   ]
  },
  {
   "cell_type": "markdown",
   "metadata": {},
   "source": [
    "a = 0.9967, b = 2.215, c = - 1.562\n",
    "\n",
    "Entonces:\n",
    "\n",
    "$$g_1(x) = {1 \\over 0.9967x^2 + 2.215x + - 1.562}$$"
   ]
  },
  {
   "cell_type": "code",
   "execution_count": 71,
   "metadata": {},
   "outputs": [
    {
     "name": "stdout",
     "output_type": "stream",
     "text": [
      "error del modelo 01\n"
     ]
    },
    {
     "data": {
      "text/latex": [
       "$\\displaystyle 0.0112858272437337$"
      ],
      "text/plain": [
       "0.0112858272437337"
      ]
     },
     "execution_count": 71,
     "metadata": {},
     "output_type": "execute_result"
    }
   ],
   "source": [
    "g1 = 1 / (coe1[2]*(x**2) + coe1[1]*x + coe1[0])\n",
    "error1 = mod1.error(fx0, (g1.subs(x,i) for i in x0))\n",
    "print('error del modelo 01')\n",
    "error1"
   ]
  },
  {
   "cell_type": "markdown",
   "metadata": {},
   "source": [
    "**3.2.3.2. Modelos 2**\n",
    "\n",
    "$$y = ae^{bx}$$\n",
    "\n",
    "Linealizando\n",
    "\n",
    "$$Ln(y) = Ln(a) + bx$$\n",
    "$$y_2 = A + bx$$\n",
    "\n",
    "Entonces"
   ]
  },
  {
   "cell_type": "code",
   "execution_count": 72,
   "metadata": {},
   "outputs": [
    {
     "name": "stdout",
     "output_type": "stream",
     "text": [
      "datos linealizados para modelo 02\n"
     ]
    },
    {
     "data": {
      "text/html": [
       "<div>\n",
       "<style scoped>\n",
       "    .dataframe tbody tr th:only-of-type {\n",
       "        vertical-align: middle;\n",
       "    }\n",
       "\n",
       "    .dataframe tbody tr th {\n",
       "        vertical-align: top;\n",
       "    }\n",
       "\n",
       "    .dataframe thead th {\n",
       "        text-align: right;\n",
       "    }\n",
       "</style>\n",
       "<table border=\"1\" class=\"dataframe\">\n",
       "  <thead>\n",
       "    <tr style=\"text-align: right;\">\n",
       "      <th></th>\n",
       "      <th>x</th>\n",
       "      <th>y2</th>\n",
       "    </tr>\n",
       "  </thead>\n",
       "  <tbody>\n",
       "    <tr>\n",
       "      <th>0</th>\n",
       "      <td>1</td>\n",
       "      <td>-0.693147</td>\n",
       "    </tr>\n",
       "    <tr>\n",
       "      <th>1</th>\n",
       "      <td>2</td>\n",
       "      <td>-1.944911</td>\n",
       "    </tr>\n",
       "    <tr>\n",
       "      <th>2</th>\n",
       "      <td>3</td>\n",
       "      <td>-2.645075</td>\n",
       "    </tr>\n",
       "    <tr>\n",
       "      <th>3</th>\n",
       "      <td>4</td>\n",
       "      <td>-3.123566</td>\n",
       "    </tr>\n",
       "    <tr>\n",
       "      <th>4</th>\n",
       "      <td>5</td>\n",
       "      <td>-3.540459</td>\n",
       "    </tr>\n",
       "    <tr>\n",
       "      <th>5</th>\n",
       "      <td>6</td>\n",
       "      <td>-3.863233</td>\n",
       "    </tr>\n",
       "    <tr>\n",
       "      <th>6</th>\n",
       "      <td>7</td>\n",
       "      <td>-4.135167</td>\n",
       "    </tr>\n",
       "    <tr>\n",
       "      <th>7</th>\n",
       "      <td>8</td>\n",
       "      <td>-4.342806</td>\n",
       "    </tr>\n",
       "    <tr>\n",
       "      <th>8</th>\n",
       "      <td>9</td>\n",
       "      <td>-4.605170</td>\n",
       "    </tr>\n",
       "    <tr>\n",
       "      <th>9</th>\n",
       "      <td>10</td>\n",
       "      <td>-4.828314</td>\n",
       "    </tr>\n",
       "    <tr>\n",
       "      <th>10</th>\n",
       "      <td>11</td>\n",
       "      <td>-4.961845</td>\n",
       "    </tr>\n",
       "    <tr>\n",
       "      <th>11</th>\n",
       "      <td>12</td>\n",
       "      <td>-5.115996</td>\n",
       "    </tr>\n",
       "  </tbody>\n",
       "</table>\n",
       "</div>"
      ],
      "text/plain": [
       "     x        y2\n",
       "0    1 -0.693147\n",
       "1    2 -1.944911\n",
       "2    3 -2.645075\n",
       "3    4 -3.123566\n",
       "4    5 -3.540459\n",
       "5    6 -3.863233\n",
       "6    7 -4.135167\n",
       "7    8 -4.342806\n",
       "8    9 -4.605170\n",
       "9   10 -4.828314\n",
       "10  11 -4.961845\n",
       "11  12 -5.115996"
      ]
     },
     "execution_count": 72,
     "metadata": {},
     "output_type": "execute_result"
    }
   ],
   "source": [
    "y2 = np.log(fx0)\n",
    "dfx2 = pd.DataFrame(x0, columns=['x'])\n",
    "dfy2 = pd.DataFrame(y2)\n",
    "dfx2['y2'] = dfy2\n",
    "print('datos linealizados para modelo 02')\n",
    "dfx2"
   ]
  },
  {
   "cell_type": "code",
   "execution_count": 73,
   "metadata": {},
   "outputs": [
    {
     "name": "stdout",
     "output_type": "stream",
     "text": [
      " \n",
      "-0.3538 x - 1.351\n"
     ]
    }
   ],
   "source": [
    "mod2 = data(x0, y2)\n",
    "coe2, pol2 = mod2.polinomio_min_cuad(1)\n",
    "print(pol2)"
   ]
  },
  {
   "cell_type": "markdown",
   "metadata": {},
   "source": [
    "A = -1.351, b = -0.3538\n",
    "\n",
    "$$A = Ln(a) \\rightarrow a = e^A $$\n",
    "\n",
    "a = 0.2590\n",
    "\n",
    "Entonces:\n",
    "\n",
    "$$g_2(x) = 0.259e^{-0.3538x}$$"
   ]
  },
  {
   "cell_type": "code",
   "execution_count": 74,
   "metadata": {},
   "outputs": [
    {
     "name": "stdout",
     "output_type": "stream",
     "text": [
      "error del modelo 02\n"
     ]
    },
    {
     "data": {
      "text/latex": [
       "$\\displaystyle 0.102510694288111$"
      ],
      "text/plain": [
       "0.102510694288111"
      ]
     },
     "execution_count": 74,
     "metadata": {},
     "output_type": "execute_result"
    }
   ],
   "source": [
    "g2 = sp.exp(coe2[0])*sp.exp(coe2[1]*x)\n",
    "error2 = mod2.error(fx0, (g2.subs(x,i) for i in x0))\n",
    "print('error del modelo 02')\n",
    "error2"
   ]
  },
  {
   "cell_type": "markdown",
   "metadata": {},
   "source": [
    "**3.2.3.3. Modelos 3**\n",
    "\n",
    "$$y = ax^{-2b}$$\n",
    "\n",
    "Linealizando\n",
    "\n",
    "$$Ln(y) = Ln(a) - 2bLn(x)$$\n",
    "$$y_3 = A + Bx_3$$\n",
    "\n",
    "Entonces"
   ]
  },
  {
   "cell_type": "code",
   "execution_count": 75,
   "metadata": {},
   "outputs": [
    {
     "name": "stdout",
     "output_type": "stream",
     "text": [
      "datos linealizados para modelo 03\n"
     ]
    },
    {
     "data": {
      "text/html": [
       "<div>\n",
       "<style scoped>\n",
       "    .dataframe tbody tr th:only-of-type {\n",
       "        vertical-align: middle;\n",
       "    }\n",
       "\n",
       "    .dataframe tbody tr th {\n",
       "        vertical-align: top;\n",
       "    }\n",
       "\n",
       "    .dataframe thead th {\n",
       "        text-align: right;\n",
       "    }\n",
       "</style>\n",
       "<table border=\"1\" class=\"dataframe\">\n",
       "  <thead>\n",
       "    <tr style=\"text-align: right;\">\n",
       "      <th></th>\n",
       "      <th>x3</th>\n",
       "      <th>y3</th>\n",
       "    </tr>\n",
       "  </thead>\n",
       "  <tbody>\n",
       "    <tr>\n",
       "      <th>0</th>\n",
       "      <td>0.000000</td>\n",
       "      <td>-0.693147</td>\n",
       "    </tr>\n",
       "    <tr>\n",
       "      <th>1</th>\n",
       "      <td>0.693147</td>\n",
       "      <td>-1.944911</td>\n",
       "    </tr>\n",
       "    <tr>\n",
       "      <th>2</th>\n",
       "      <td>1.098612</td>\n",
       "      <td>-2.645075</td>\n",
       "    </tr>\n",
       "    <tr>\n",
       "      <th>3</th>\n",
       "      <td>1.386294</td>\n",
       "      <td>-3.123566</td>\n",
       "    </tr>\n",
       "    <tr>\n",
       "      <th>4</th>\n",
       "      <td>1.609438</td>\n",
       "      <td>-3.540459</td>\n",
       "    </tr>\n",
       "    <tr>\n",
       "      <th>5</th>\n",
       "      <td>1.791759</td>\n",
       "      <td>-3.863233</td>\n",
       "    </tr>\n",
       "    <tr>\n",
       "      <th>6</th>\n",
       "      <td>1.945910</td>\n",
       "      <td>-4.135167</td>\n",
       "    </tr>\n",
       "    <tr>\n",
       "      <th>7</th>\n",
       "      <td>2.079442</td>\n",
       "      <td>-4.342806</td>\n",
       "    </tr>\n",
       "    <tr>\n",
       "      <th>8</th>\n",
       "      <td>2.197225</td>\n",
       "      <td>-4.605170</td>\n",
       "    </tr>\n",
       "    <tr>\n",
       "      <th>9</th>\n",
       "      <td>2.302585</td>\n",
       "      <td>-4.828314</td>\n",
       "    </tr>\n",
       "    <tr>\n",
       "      <th>10</th>\n",
       "      <td>2.397895</td>\n",
       "      <td>-4.961845</td>\n",
       "    </tr>\n",
       "    <tr>\n",
       "      <th>11</th>\n",
       "      <td>2.484907</td>\n",
       "      <td>-5.115996</td>\n",
       "    </tr>\n",
       "  </tbody>\n",
       "</table>\n",
       "</div>"
      ],
      "text/plain": [
       "          x3        y3\n",
       "0   0.000000 -0.693147\n",
       "1   0.693147 -1.944911\n",
       "2   1.098612 -2.645075\n",
       "3   1.386294 -3.123566\n",
       "4   1.609438 -3.540459\n",
       "5   1.791759 -3.863233\n",
       "6   1.945910 -4.135167\n",
       "7   2.079442 -4.342806\n",
       "8   2.197225 -4.605170\n",
       "9   2.302585 -4.828314\n",
       "10  2.397895 -4.961845\n",
       "11  2.484907 -5.115996"
      ]
     },
     "execution_count": 75,
     "metadata": {},
     "output_type": "execute_result"
    }
   ],
   "source": [
    "y3 = np.log(fx0)\n",
    "x3 = np.log(x0)\n",
    "dfx3 = pd.DataFrame(x3, columns=['x3'])\n",
    "dfy3 = pd.DataFrame(y3)\n",
    "dfx3['y3'] = dfy3\n",
    "print('datos linealizados para modelo 03')\n",
    "dfx3"
   ]
  },
  {
   "cell_type": "code",
   "execution_count": 76,
   "metadata": {},
   "outputs": [
    {
     "name": "stdout",
     "output_type": "stream",
     "text": [
      " \n",
      "-1.778 x - 0.6879\n"
     ]
    }
   ],
   "source": [
    "mod3 = data(x3,y3)\n",
    "coe3, pol3 = mod3.polinomio_min_cuad(1)\n",
    "print(pol3)"
   ]
  },
  {
   "cell_type": "markdown",
   "metadata": {},
   "source": [
    "A = -0.6879, B = -1.778\n",
    "\n",
    "$$A = Ln(a) \\rightarrow a = e^A = e^{-0.6879} = 0.503$$\n",
    "$$B = -2b \\rightarrow b = - {B \\over 2} = - {-1.778 \\over 2} = 0.889$$\n",
    "\n",
    "a = 0.503, b = 0.889\n",
    "\n",
    "Entonces:\n",
    "\n",
    "$$g_3(x) = 0.503x^{-2(0.889)}$$"
   ]
  },
  {
   "cell_type": "code",
   "execution_count": 77,
   "metadata": {},
   "outputs": [
    {
     "name": "stdout",
     "output_type": "stream",
     "text": [
      "error del modelo 03\n"
     ]
    },
    {
     "data": {
      "text/latex": [
       "$\\displaystyle 2.1746357704114 \\cdot 10^{-5}$"
      ],
      "text/plain": [
       "2.17463577041140e-5"
      ]
     },
     "execution_count": 77,
     "metadata": {},
     "output_type": "execute_result"
    }
   ],
   "source": [
    "g3 = sp.exp(coe3[0])*(x**coe3[1])\n",
    "error3 = mod3.error(fx0, (g3.subs(x,i) for i in x0))\n",
    "print('error del modelo 03')\n",
    "error3"
   ]
  },
  {
   "cell_type": "markdown",
   "metadata": {},
   "source": [
    "Tabla errores de modelos\n",
    "\n",
    "| modelo    | 1         | 2         | 3         |\n",
    "|:---------:|:---------:|:---------:|:---------:|\n",
    "| error     |0.0112858272437337|0.102510694288111|2.1746357704114⋅$10^{−5}$|\n",
    "\n",
    "Debido a que el error del modelo 3 es menor respecto al de los otros modelos, el modelo 3 es el que mejor se ajusta a la data dada.\n",
    "\n",
    "$$g_3(x) = 0.503x^{-2(0.889)}$$"
   ]
  },
  {
   "cell_type": "markdown",
   "metadata": {},
   "source": [
    "#### **3.3. Valores de la derivada según modelos preestablecidos**"
   ]
  },
  {
   "cell_type": "code",
   "execution_count": 99,
   "metadata": {},
   "outputs": [
    {
     "name": "stdout",
     "output_type": "stream",
     "text": [
      "Tabla 2. diferencias finitas para polinomio interpolante P(x)\n"
     ]
    },
    {
     "data": {
      "text/html": [
       "<div>\n",
       "<style scoped>\n",
       "    .dataframe tbody tr th:only-of-type {\n",
       "        vertical-align: middle;\n",
       "    }\n",
       "\n",
       "    .dataframe tbody tr th {\n",
       "        vertical-align: top;\n",
       "    }\n",
       "\n",
       "    .dataframe thead th {\n",
       "        text-align: right;\n",
       "    }\n",
       "</style>\n",
       "<table border=\"1\" class=\"dataframe\">\n",
       "  <thead>\n",
       "    <tr style=\"text-align: right;\">\n",
       "      <th></th>\n",
       "      <th>x</th>\n",
       "      <th>p(x)</th>\n",
       "      <th>p'(x) por dif</th>\n",
       "      <th>p'(x) por sympy</th>\n",
       "    </tr>\n",
       "  </thead>\n",
       "  <tbody>\n",
       "    <tr>\n",
       "      <th>0</th>\n",
       "      <td>1</td>\n",
       "      <td>0.500</td>\n",
       "      <td>-0.357</td>\n",
       "      <td>-0.705197</td>\n",
       "    </tr>\n",
       "    <tr>\n",
       "      <th>1</th>\n",
       "      <td>2</td>\n",
       "      <td>0.143</td>\n",
       "      <td>-0.072</td>\n",
       "      <td>-0.140245</td>\n",
       "    </tr>\n",
       "    <tr>\n",
       "      <th>2</th>\n",
       "      <td>3</td>\n",
       "      <td>0.071</td>\n",
       "      <td>-0.027</td>\n",
       "      <td>-0.036631</td>\n",
       "    </tr>\n",
       "    <tr>\n",
       "      <th>3</th>\n",
       "      <td>4</td>\n",
       "      <td>0.044</td>\n",
       "      <td>-0.015</td>\n",
       "      <td>-0.020178</td>\n",
       "    </tr>\n",
       "    <tr>\n",
       "      <th>4</th>\n",
       "      <td>5</td>\n",
       "      <td>0.029</td>\n",
       "      <td>-0.008</td>\n",
       "      <td>-0.010556</td>\n",
       "    </tr>\n",
       "    <tr>\n",
       "      <th>5</th>\n",
       "      <td>6</td>\n",
       "      <td>0.021</td>\n",
       "      <td>-0.005</td>\n",
       "      <td>-0.006199</td>\n",
       "    </tr>\n",
       "    <tr>\n",
       "      <th>6</th>\n",
       "      <td>7</td>\n",
       "      <td>0.016</td>\n",
       "      <td>-0.003</td>\n",
       "      <td>-0.003823</td>\n",
       "    </tr>\n",
       "    <tr>\n",
       "      <th>7</th>\n",
       "      <td>8</td>\n",
       "      <td>0.013</td>\n",
       "      <td>-0.003</td>\n",
       "      <td>-0.002625</td>\n",
       "    </tr>\n",
       "    <tr>\n",
       "      <th>8</th>\n",
       "      <td>9</td>\n",
       "      <td>0.010</td>\n",
       "      <td>-0.002</td>\n",
       "      <td>-0.003248</td>\n",
       "    </tr>\n",
       "    <tr>\n",
       "      <th>9</th>\n",
       "      <td>10</td>\n",
       "      <td>0.008</td>\n",
       "      <td>-0.001</td>\n",
       "      <td>-0.000101</td>\n",
       "    </tr>\n",
       "    <tr>\n",
       "      <th>10</th>\n",
       "      <td>11</td>\n",
       "      <td>0.007</td>\n",
       "      <td>-0.001</td>\n",
       "      <td>-0.005606</td>\n",
       "    </tr>\n",
       "    <tr>\n",
       "      <th>11</th>\n",
       "      <td>12</td>\n",
       "      <td>0.006</td>\n",
       "      <td>NaN</td>\n",
       "      <td>0.040533</td>\n",
       "    </tr>\n",
       "  </tbody>\n",
       "</table>\n",
       "</div>"
      ],
      "text/plain": [
       "     x   p(x)  p'(x) por dif  p'(x) por sympy\n",
       "0    1  0.500         -0.357        -0.705197\n",
       "1    2  0.143         -0.072        -0.140245\n",
       "2    3  0.071         -0.027        -0.036631\n",
       "3    4  0.044         -0.015        -0.020178\n",
       "4    5  0.029         -0.008        -0.010556\n",
       "5    6  0.021         -0.005        -0.006199\n",
       "6    7  0.016         -0.003        -0.003823\n",
       "7    8  0.013         -0.003        -0.002625\n",
       "8    9  0.010         -0.002        -0.003248\n",
       "9   10  0.008         -0.001        -0.000101\n",
       "10  11  0.007         -0.001        -0.005606\n",
       "11  12  0.006            NaN         0.040533"
      ]
     },
     "execution_count": 99,
     "metadata": {},
     "output_type": "execute_result"
    }
   ],
   "source": [
    "#calculado\n",
    "px0 = sp.lambdify(x, px)\n",
    "y_px = px0(x0)\n",
    "px_prima = difer(x0,y_px,1,1)\n",
    "\n",
    "#verificación por sympy\n",
    "px_prima_sp = sp.diff(px, x)\n",
    "px0_prima_sp = sp.lambdify(x, px_prima_sp)\n",
    "\n",
    "#construyendo tabla\n",
    "df1 = pd.DataFrame(x0,columns=['x'])\n",
    "df2 = pd.DataFrame(y_px,columns=[\"p(x)\"])\n",
    "df3 = pd.DataFrame(px_prima,columns=[\"p'(x) por dif\"])\n",
    "df4 = pd.DataFrame(px0_prima_sp(x0), columns=[\"p'(x) por sympy\"])\n",
    "\n",
    "df_px = pd.concat([df1,df2,df3,df4], axis=1)\n",
    "df_px.to_csv('derivada_pol_inter.csv', index=False)\n",
    "\n",
    "print('Tabla 2. diferencias finitas para polinomio interpolante P(x)')\n",
    "df_px"
   ]
  },
  {
   "cell_type": "code",
   "execution_count": 100,
   "metadata": {},
   "outputs": [
    {
     "name": "stdout",
     "output_type": "stream",
     "text": [
      "Tabla 3. diferencias finitas para ajuste por mínimos cuadrados g3(x)\n"
     ]
    },
    {
     "data": {
      "text/html": [
       "<div>\n",
       "<style scoped>\n",
       "    .dataframe tbody tr th:only-of-type {\n",
       "        vertical-align: middle;\n",
       "    }\n",
       "\n",
       "    .dataframe tbody tr th {\n",
       "        vertical-align: top;\n",
       "    }\n",
       "\n",
       "    .dataframe thead th {\n",
       "        text-align: right;\n",
       "    }\n",
       "</style>\n",
       "<table border=\"1\" class=\"dataframe\">\n",
       "  <thead>\n",
       "    <tr style=\"text-align: right;\">\n",
       "      <th></th>\n",
       "      <th>x</th>\n",
       "      <th>g3(x)</th>\n",
       "      <th>g3'(x) por dif</th>\n",
       "      <th>g3'(x) por sympy</th>\n",
       "    </tr>\n",
       "  </thead>\n",
       "  <tbody>\n",
       "    <tr>\n",
       "      <th>0</th>\n",
       "      <td>1</td>\n",
       "      <td>0.502642</td>\n",
       "      <td>-0.356118</td>\n",
       "      <td>-0.893896</td>\n",
       "    </tr>\n",
       "    <tr>\n",
       "      <th>1</th>\n",
       "      <td>2</td>\n",
       "      <td>0.146524</td>\n",
       "      <td>-0.075280</td>\n",
       "      <td>-0.130289</td>\n",
       "    </tr>\n",
       "    <tr>\n",
       "      <th>2</th>\n",
       "      <td>3</td>\n",
       "      <td>0.071244</td>\n",
       "      <td>-0.028531</td>\n",
       "      <td>-0.042233</td>\n",
       "    </tr>\n",
       "    <tr>\n",
       "      <th>3</th>\n",
       "      <td>4</td>\n",
       "      <td>0.042713</td>\n",
       "      <td>-0.013991</td>\n",
       "      <td>-0.018990</td>\n",
       "    </tr>\n",
       "    <tr>\n",
       "      <th>4</th>\n",
       "      <td>5</td>\n",
       "      <td>0.028722</td>\n",
       "      <td>-0.007954</td>\n",
       "      <td>-0.010216</td>\n",
       "    </tr>\n",
       "    <tr>\n",
       "      <th>5</th>\n",
       "      <td>6</td>\n",
       "      <td>0.020768</td>\n",
       "      <td>-0.004980</td>\n",
       "      <td>-0.006156</td>\n",
       "    </tr>\n",
       "    <tr>\n",
       "      <th>6</th>\n",
       "      <td>7</td>\n",
       "      <td>0.015788</td>\n",
       "      <td>-0.003337</td>\n",
       "      <td>-0.004011</td>\n",
       "    </tr>\n",
       "    <tr>\n",
       "      <th>7</th>\n",
       "      <td>8</td>\n",
       "      <td>0.012451</td>\n",
       "      <td>-0.002353</td>\n",
       "      <td>-0.002768</td>\n",
       "    </tr>\n",
       "    <tr>\n",
       "      <th>8</th>\n",
       "      <td>9</td>\n",
       "      <td>0.010098</td>\n",
       "      <td>-0.001725</td>\n",
       "      <td>-0.001995</td>\n",
       "    </tr>\n",
       "    <tr>\n",
       "      <th>9</th>\n",
       "      <td>10</td>\n",
       "      <td>0.008373</td>\n",
       "      <td>-0.001305</td>\n",
       "      <td>-0.001489</td>\n",
       "    </tr>\n",
       "    <tr>\n",
       "      <th>10</th>\n",
       "      <td>11</td>\n",
       "      <td>0.007067</td>\n",
       "      <td>-0.001013</td>\n",
       "      <td>-0.001143</td>\n",
       "    </tr>\n",
       "    <tr>\n",
       "      <th>11</th>\n",
       "      <td>12</td>\n",
       "      <td>0.006054</td>\n",
       "      <td>NaN</td>\n",
       "      <td>-0.000897</td>\n",
       "    </tr>\n",
       "  </tbody>\n",
       "</table>\n",
       "</div>"
      ],
      "text/plain": [
       "     x     g3(x)  g3'(x) por dif  g3'(x) por sympy\n",
       "0    1  0.502642       -0.356118         -0.893896\n",
       "1    2  0.146524       -0.075280         -0.130289\n",
       "2    3  0.071244       -0.028531         -0.042233\n",
       "3    4  0.042713       -0.013991         -0.018990\n",
       "4    5  0.028722       -0.007954         -0.010216\n",
       "5    6  0.020768       -0.004980         -0.006156\n",
       "6    7  0.015788       -0.003337         -0.004011\n",
       "7    8  0.012451       -0.002353         -0.002768\n",
       "8    9  0.010098       -0.001725         -0.001995\n",
       "9   10  0.008373       -0.001305         -0.001489\n",
       "10  11  0.007067       -0.001013         -0.001143\n",
       "11  12  0.006054             NaN         -0.000897"
      ]
     },
     "execution_count": 100,
     "metadata": {},
     "output_type": "execute_result"
    }
   ],
   "source": [
    "#calculado\n",
    "g3x0 = sp.lambdify(x, g3)\n",
    "y_g3 = g3x0(x0)\n",
    "g3_prima = difer(x0,y_g3,1,1)\n",
    "\n",
    "#verificación por sympy\n",
    "g3_prima_sp = sp.diff(g3, x)\n",
    "g3x0_prima_sp = sp.lambdify(x, g3_prima_sp)\n",
    "\n",
    "#construyendo tabla\n",
    "df1 = pd.DataFrame(x0,columns=['x'])\n",
    "df2 = pd.DataFrame(y_g3,columns=[\"g3(x)\"])\n",
    "df3 = pd.DataFrame(g3_prima,columns=[\"g3'(x) por dif\"])\n",
    "df4 = pd.DataFrame(g3x0_prima_sp(x0), columns=[\"g3'(x) por sympy\"])\n",
    "\n",
    "df_g3 = pd.concat([df1,df2,df3,df4], axis=1)\n",
    "df_g3.to_csv('derivada_ajus_min.csv', index=False)\n",
    "\n",
    "print('Tabla 3. diferencias finitas para ajuste por mínimos cuadrados g3(x)')\n",
    "df_g3"
   ]
  },
  {
   "cell_type": "markdown",
   "metadata": {},
   "source": [
    "#### **3.4. Estimación de la integral**\n",
    "\n",
    "$$I = \\displaystyle{\\int_1^{12}} f (x) dx$$\n",
    "\n"
   ]
  },
  {
   "cell_type": "markdown",
   "metadata": {},
   "source": [
    "##### **3.4.1. Resolución por tabla de datos**"
   ]
  },
  {
   "cell_type": "code",
   "execution_count": 80,
   "metadata": {},
   "outputs": [],
   "source": [
    "#funcion que a cada valor x de la data, corresponde el f(x)\n",
    "def fx0_eval(x):\n",
    "    k = np.where(x0 == x)[0][0]\n",
    "    return fx0[k]\n",
    "\n",
    "#límites de la integral\n",
    "a,b = 1,12\n",
    "\n",
    "#instancia a utilizar\n",
    "inst1 = integrar(fx0_eval, a, b, len(x0)-1)"
   ]
  },
  {
   "cell_type": "markdown",
   "metadata": {},
   "source": [
    "**3.4.1.1. Método del trapecio**"
   ]
  },
  {
   "cell_type": "code",
   "execution_count": 81,
   "metadata": {},
   "outputs": [
    {
     "name": "stdout",
     "output_type": "stream",
     "text": [
      "I=\n"
     ]
    },
    {
     "data": {
      "text/plain": [
       "0.6150000000000001"
      ]
     },
     "execution_count": 81,
     "metadata": {},
     "output_type": "execute_result"
    }
   ],
   "source": [
    "print('I=')\n",
    "inst1.trapecio()"
   ]
  },
  {
   "cell_type": "markdown",
   "metadata": {},
   "source": [
    "**3.4.1.2. Método de Simpson**"
   ]
  },
  {
   "cell_type": "code",
   "execution_count": 82,
   "metadata": {},
   "outputs": [
    {
     "name": "stdout",
     "output_type": "stream",
     "text": [
      "I=\n"
     ]
    },
    {
     "data": {
      "text/plain": [
       "0.5626666666666666"
      ]
     },
     "execution_count": 82,
     "metadata": {},
     "output_type": "execute_result"
    }
   ],
   "source": [
    "print('I=')\n",
    "inst1.simpson()"
   ]
  },
  {
   "cell_type": "code",
   "execution_count": 83,
   "metadata": {},
   "outputs": [],
   "source": [
    "df01 = pd.DataFrame({'integral(f(x))':[inst1.trapecio(),inst1.simpson()]})\n",
    "df01er = pd.DataFrame({'error f(x)':[None, None]})"
   ]
  },
  {
   "cell_type": "markdown",
   "metadata": {},
   "source": [
    "##### **3.4.2. Resolución por $f(x) = P(x)$**\n",
    "\n",
    "Al tener una función se puede ajustar el número de pasos que se quieran dar, de manera que a más pasos mayor deberia ser la presición de la integral, entonces se tomará $n=100$ para los proximos ajustes por funciones."
   ]
  },
  {
   "cell_type": "code",
   "execution_count": 84,
   "metadata": {},
   "outputs": [
    {
     "data": {
      "text/latex": [
       "$\\displaystyle 4.43422318422323 \\cdot 10^{-9} x^{11} - 3.03681657848324 \\cdot 10^{-7} x^{10} + 9.03466710758377 \\cdot 10^{-6} x^{9} - 0.000152397486772488 x^{8} + 0.00158848131613758 x^{7} - 0.0103329050925927 x^{6} + 0.0386102554563496 x^{5} - 0.0479009810405657 x^{4} - 0.238595510361555 x^{3} + 1.25738658730157 x^{2} - 2.45361226551226 x + 1.953$"
      ],
      "text/plain": [
       "4.43422318422323e-9*x**11 - 3.03681657848324e-7*x**10 + 9.03466710758377e-6*x**9 - 0.000152397486772488*x**8 + 0.00158848131613758*x**7 - 0.0103329050925927*x**6 + 0.0386102554563496*x**5 - 0.0479009810405657*x**4 - 0.238595510361555*x**3 + 1.25738658730157*x**2 - 2.45361226551226*x + 1.953"
      ]
     },
     "execution_count": 84,
     "metadata": {},
     "output_type": "execute_result"
    }
   ],
   "source": [
    "#funcion que a cada valor x de la data, corresponde el f(x)\n",
    "px, px0\n",
    "n = 100\n",
    "\n",
    "#instancia a utilizar\n",
    "inst2 = integrar(px0, a, b, n)\n",
    "\n",
    "px"
   ]
  },
  {
   "cell_type": "markdown",
   "metadata": {},
   "source": [
    "**3.4.2.1. Método del trapecio**"
   ]
  },
  {
   "cell_type": "code",
   "execution_count": 85,
   "metadata": {},
   "outputs": [
    {
     "name": "stdout",
     "output_type": "stream",
     "text": [
      "I=\n"
     ]
    },
    {
     "data": {
      "text/plain": [
       "0.5563013964227865"
      ]
     },
     "execution_count": 85,
     "metadata": {},
     "output_type": "execute_result"
    }
   ],
   "source": [
    "print('I=')\n",
    "inst2.trapecio()"
   ]
  },
  {
   "cell_type": "code",
   "execution_count": 86,
   "metadata": {},
   "outputs": [
    {
     "name": "stdout",
     "output_type": "stream",
     "text": [
      "error por el método del trapecio:\n"
     ]
    },
    {
     "data": {
      "text/latex": [
       "$\\displaystyle 2.50405903974117 \\cdot 10^{-7}$"
      ],
      "text/plain": [
       "2.50405903974117e-7"
      ]
     },
     "execution_count": 86,
     "metadata": {},
     "output_type": "execute_result"
    }
   ],
   "source": [
    "print('error por el método del trapecio:')\n",
    "inst2.err_trapecio(px)"
   ]
  },
  {
   "cell_type": "markdown",
   "metadata": {},
   "source": [
    "**3.4.2.2. Método de Simpson**"
   ]
  },
  {
   "cell_type": "code",
   "execution_count": 87,
   "metadata": {},
   "outputs": [
    {
     "name": "stdout",
     "output_type": "stream",
     "text": [
      "I=\n"
     ]
    },
    {
     "data": {
      "text/plain": [
       "0.5555515004336563"
      ]
     },
     "execution_count": 87,
     "metadata": {},
     "output_type": "execute_result"
    }
   ],
   "source": [
    "print('I=')\n",
    "inst2.simpson()"
   ]
  },
  {
   "cell_type": "code",
   "execution_count": 88,
   "metadata": {},
   "outputs": [
    {
     "name": "stdout",
     "output_type": "stream",
     "text": [
      "error por el método del simpson:\n"
     ]
    },
    {
     "data": {
      "text/latex": [
       "$\\displaystyle -7.1781328694712 \\cdot 10^{-10}$"
      ],
      "text/plain": [
       "-7.17813286947120e-10"
      ]
     },
     "execution_count": 88,
     "metadata": {},
     "output_type": "execute_result"
    }
   ],
   "source": [
    "print('error por el método del simpson:')\n",
    "inst2.err_simpson(px)"
   ]
  },
  {
   "cell_type": "code",
   "execution_count": 89,
   "metadata": {},
   "outputs": [],
   "source": [
    "df02 = pd.DataFrame({'integral(P(x))':[inst2.trapecio(),inst2.simpson()]})\n",
    "df02er = pd.DataFrame({'error P(x)':[inst2.err_trapecio(px), inst2.err_simpson(px)]})"
   ]
  },
  {
   "cell_type": "markdown",
   "metadata": {},
   "source": [
    "##### **3.4.3. Resolución por $f(x) = g_3(x)$**"
   ]
  },
  {
   "cell_type": "code",
   "execution_count": 90,
   "metadata": {},
   "outputs": [
    {
     "data": {
      "text/latex": [
       "$\\displaystyle \\frac{0.502641813490475}{x^{1.7783948313526}}$"
      ],
      "text/plain": [
       "0.502641813490475/x**1.7783948313526"
      ]
     },
     "execution_count": 90,
     "metadata": {},
     "output_type": "execute_result"
    }
   ],
   "source": [
    "#funcion que a cada valor x de la data, corresponde el f(x)\n",
    "g3, g3x0\n",
    "\n",
    "#instancia a utilizar\n",
    "inst3 = integrar(g3x0, a, b, n)#, len(x0))\n",
    "\n",
    "g3"
   ]
  },
  {
   "cell_type": "markdown",
   "metadata": {},
   "source": [
    "**3.4.3.1. Método del trapecio**"
   ]
  },
  {
   "cell_type": "code",
   "execution_count": 91,
   "metadata": {},
   "outputs": [
    {
     "name": "stdout",
     "output_type": "stream",
     "text": [
      "I=\n"
     ]
    },
    {
     "data": {
      "text/plain": [
       "0.5533082212909332"
      ]
     },
     "execution_count": 91,
     "metadata": {},
     "output_type": "execute_result"
    }
   ],
   "source": [
    "print('I=')\n",
    "inst3.trapecio()"
   ]
  },
  {
   "cell_type": "code",
   "execution_count": 92,
   "metadata": {},
   "outputs": [
    {
     "name": "stdout",
     "output_type": "stream",
     "text": [
      "error por el método del trapecio:\n"
     ]
    },
    {
     "data": {
      "text/latex": [
       "$\\displaystyle 7.45253282780649 \\cdot 10^{-8}$"
      ],
      "text/plain": [
       "7.45253282780649e-8"
      ]
     },
     "execution_count": 92,
     "metadata": {},
     "output_type": "execute_result"
    }
   ],
   "source": [
    "print('error por el método del trapecio:')\n",
    "inst3.err_trapecio(g3)"
   ]
  },
  {
   "cell_type": "markdown",
   "metadata": {},
   "source": [
    "**3.4.3.2. Método de Simpson**"
   ]
  },
  {
   "cell_type": "code",
   "execution_count": 93,
   "metadata": {},
   "outputs": [
    {
     "name": "stdout",
     "output_type": "stream",
     "text": [
      "I=\n"
     ]
    },
    {
     "data": {
      "text/plain": [
       "0.5524170221618813"
      ]
     },
     "execution_count": 93,
     "metadata": {},
     "output_type": "execute_result"
    }
   ],
   "source": [
    "print('I=')\n",
    "inst3.simpson()"
   ]
  },
  {
   "cell_type": "code",
   "execution_count": 94,
   "metadata": {},
   "outputs": [
    {
     "name": "stdout",
     "output_type": "stream",
     "text": [
      "error por el método del simpson:\n"
     ]
    },
    {
     "data": {
      "text/latex": [
       "$\\displaystyle 2.80610865352002 \\cdot 10^{-11}$"
      ],
      "text/plain": [
       "2.80610865352002e-11"
      ]
     },
     "execution_count": 94,
     "metadata": {},
     "output_type": "execute_result"
    }
   ],
   "source": [
    "print('error por el método del simpson:')\n",
    "inst3.err_simpson(g3)"
   ]
  },
  {
   "cell_type": "code",
   "execution_count": 95,
   "metadata": {},
   "outputs": [],
   "source": [
    "df03 = pd.DataFrame({'integral(g3(x))':[inst3.trapecio(),inst3.simpson()]})\n",
    "df03er = pd.DataFrame({'error P(x)':[inst2.err_trapecio(g3), inst2.err_simpson(g3)]})"
   ]
  },
  {
   "cell_type": "code",
   "execution_count": 102,
   "metadata": {},
   "outputs": [
    {
     "name": "stdout",
     "output_type": "stream",
     "text": [
      "Tabla 5. Resultados de integral\n"
     ]
    },
    {
     "data": {
      "text/html": [
       "<div>\n",
       "<style scoped>\n",
       "    .dataframe tbody tr th:only-of-type {\n",
       "        vertical-align: middle;\n",
       "    }\n",
       "\n",
       "    .dataframe tbody tr th {\n",
       "        vertical-align: top;\n",
       "    }\n",
       "\n",
       "    .dataframe thead th {\n",
       "        text-align: right;\n",
       "    }\n",
       "</style>\n",
       "<table border=\"1\" class=\"dataframe\">\n",
       "  <thead>\n",
       "    <tr style=\"text-align: right;\">\n",
       "      <th></th>\n",
       "      <th>metodo</th>\n",
       "      <th>integral(f(x))</th>\n",
       "      <th>integral(P(x))</th>\n",
       "      <th>integral(g3(x))</th>\n",
       "    </tr>\n",
       "  </thead>\n",
       "  <tbody>\n",
       "    <tr>\n",
       "      <th>0</th>\n",
       "      <td>Trapecio</td>\n",
       "      <td>0.615000</td>\n",
       "      <td>0.556301</td>\n",
       "      <td>0.553308</td>\n",
       "    </tr>\n",
       "    <tr>\n",
       "      <th>1</th>\n",
       "      <td>Simpson</td>\n",
       "      <td>0.562667</td>\n",
       "      <td>0.555552</td>\n",
       "      <td>0.552417</td>\n",
       "    </tr>\n",
       "  </tbody>\n",
       "</table>\n",
       "</div>"
      ],
      "text/plain": [
       "     metodo  integral(f(x))  integral(P(x))  integral(g3(x))\n",
       "0  Trapecio        0.615000        0.556301         0.553308\n",
       "1   Simpson        0.562667        0.555552         0.552417"
      ]
     },
     "execution_count": 102,
     "metadata": {},
     "output_type": "execute_result"
    }
   ],
   "source": [
    "dfi = pd.DataFrame({'metodo':['Trapecio','Simpson']})\n",
    "df_tabla2 = pd.concat([dfi,df01,df02,df03], axis=1)\n",
    "df_tabla2.to_csv('resultados_integral.csv', index=False)\n",
    "print('Tabla 5. Resultados de integral')\n",
    "df_tabla2"
   ]
  },
  {
   "cell_type": "code",
   "execution_count": 103,
   "metadata": {},
   "outputs": [
    {
     "name": "stdout",
     "output_type": "stream",
     "text": [
      "Tabla 3. Errores de integración\n"
     ]
    },
    {
     "data": {
      "text/html": [
       "<div>\n",
       "<style scoped>\n",
       "    .dataframe tbody tr th:only-of-type {\n",
       "        vertical-align: middle;\n",
       "    }\n",
       "\n",
       "    .dataframe tbody tr th {\n",
       "        vertical-align: top;\n",
       "    }\n",
       "\n",
       "    .dataframe thead th {\n",
       "        text-align: right;\n",
       "    }\n",
       "</style>\n",
       "<table border=\"1\" class=\"dataframe\">\n",
       "  <thead>\n",
       "    <tr style=\"text-align: right;\">\n",
       "      <th></th>\n",
       "      <th>metodo</th>\n",
       "      <th>error f(x)</th>\n",
       "      <th>error P(x)</th>\n",
       "      <th>error P(x)</th>\n",
       "    </tr>\n",
       "  </thead>\n",
       "  <tbody>\n",
       "    <tr>\n",
       "      <th>0</th>\n",
       "      <td>Trapecio</td>\n",
       "      <td>None</td>\n",
       "      <td>2.50405903974117e-7</td>\n",
       "      <td>1.75331549604527e-7</td>\n",
       "    </tr>\n",
       "    <tr>\n",
       "      <th>1</th>\n",
       "      <td>Simpson</td>\n",
       "      <td>None</td>\n",
       "      <td>-7.17813286947120e-10</td>\n",
       "      <td>1.03832842107282e-10</td>\n",
       "    </tr>\n",
       "  </tbody>\n",
       "</table>\n",
       "</div>"
      ],
      "text/plain": [
       "     metodo error f(x)             error P(x)            error P(x)\n",
       "0  Trapecio       None    2.50405903974117e-7   1.75331549604527e-7\n",
       "1   Simpson       None  -7.17813286947120e-10  1.03832842107282e-10"
      ]
     },
     "execution_count": 103,
     "metadata": {},
     "output_type": "execute_result"
    }
   ],
   "source": [
    "df_tabla3 = pd.concat([dfi,df01er,df02er,df03er], axis=1)\n",
    "df_tabla3.to_csv('errores_integral.csv', index=False)\n",
    "print('Tabla 3. Errores de integración')\n",
    "df_tabla3"
   ]
  },
  {
   "cell_type": "markdown",
   "metadata": {},
   "source": [
    "#### **4. Análisis de resultados**\n",
    "\n",
    "Al analizar las diferencias finitas calculadas en la tabla 1 se observa cierta discrepancia con las diferencias centrada respecto a las otras, además, al tener que evaluar un tanto hacia adelante como hacia atrás limita el número de resultados respecto a los extremos del intervalo de estudio. No obstante, las diferencias hacia adelante y hacia atrás dan una aproximación razonable a la derivada, hecho que se comprueba en los resultados de las tablas 2 y 3 que implementan una función en conjunto con el método de las diferencias finitas.\n",
    "\n",
    "En la tabla 2 se puede observa que el polinomio $P(x)$ ajusta la data de forma casi exacta, y que sus derivadas se van aproximando cada vez más al valor estimado en la librería sympy de python a medida que se va recorriendo el intervalo, sin embargo existe cierta imprecisión en las primera aproximaciones utilizando diferencias finitas. Así mismo, este comportamiento se repite en la tabla 3 para el modelo de ajuste por mínimos cuadrados $g_3(x)$, el cual a diferencia del otro ajusta la data con discrepancias en el orden decimal que uno se encuentre en el punto; sin embargo el trazo más suave de la curva permite una mejor precisión a la hora de calcular la derivada por diferencias.\n",
    "\n",
    "Para los resultados obtenidos a través de métodos numéricos de integración, detallados en las tablas 4 y 5, se puede apreciar resultados bien aproximados debido al error en el orden de $10^{-7}$ para el método de los trapecios y de $10^{-10}$ para el método de Simpson, sin embargo al tratar la data de la tabla de datos directamente, no fue posible estimar un error, a pesar de que en la tabla 4 se observe que los resultados coinciden parcialmente con la estimación a través de los modelos.\n"
   ]
  },
  {
   "cell_type": "markdown",
   "metadata": {},
   "source": [
    "#### **5. Conclusión**\n",
    "\n",
    "Para una data dada por tablas el método de las diferencias finitas para calcular la derivada de una función no es el indicado, a menos que se requiera una aproximación razonable de la derivada que coincide en el orden decimal correspondiente, que para valores de mínimos se puede realizar en base a los experimentos realizados; sin embargo se recomendaría hacer prueba para valores altos de la derivada en el estudio de máximos.\n",
    "\n",
    "Al integrar por métodos numéricos es notable que si se quiere obtener una mayor precisión, lo ideal es utilizar el método de Simpson, que ante el método de los trapecios, ya tiene un menor error. También hay que considerar la ventaja de poseer un modelo matemático que se ajuste a una data dada, debido a que se puede muestrear en intervalos más pequeños el área que representa la integral a calcular y por tanto obtener resultados más precisos.\n",
    "\n",
    "Cabe mencionar que existen muchos más métodos numéricos aplicables para el cálculo diferencial o integral y qué, como se pudo experimentar, facilita y agiliza el estudio de un sistema en diversas áreas que registran datos, además los métodos estudiados debido a su simplicidad, son potenciales comprobantes y procesadores de datos. \n"
   ]
  },
  {
   "cell_type": "markdown",
   "metadata": {},
   "source": [
    "#### **6. Referencias**\n",
    "\n",
    "[1] **Métodos numéricos usando Python**, *Jiménez J.*, Universidad Nacional Autónoma de México Facultad de Química, 2022 (1era edición)\n",
    "\n",
    "[2] **Analisis Numérico**, *Richard L. Burden • Douglas J. Faires • Annette M. Burden*, 10ma edición\n"
   ]
  }
 ],
 "metadata": {
  "kernelspec": {
   "display_name": "Python 3.7.6 32-bit",
   "language": "python",
   "name": "python3"
  },
  "language_info": {
   "codemirror_mode": {
    "name": "ipython",
    "version": 3
   },
   "file_extension": ".py",
   "mimetype": "text/x-python",
   "name": "python",
   "nbconvert_exporter": "python",
   "pygments_lexer": "ipython3",
   "version": "3.7.6"
  },
  "orig_nbformat": 4,
  "vscode": {
   "interpreter": {
    "hash": "788400b204fe04ac0104141e50cea79f99506ff2986f70a747d8d3a42cb0b336"
   }
  }
 },
 "nbformat": 4,
 "nbformat_minor": 2
}
