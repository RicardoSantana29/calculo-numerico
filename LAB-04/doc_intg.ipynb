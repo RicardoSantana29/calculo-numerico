{
 "cells": [
  {
   "cell_type": "markdown",
   "metadata": {},
   "source": [
    "#### <center>Programa: intg<center>\n",
    "#### <center>por: Ovalle D., Bernal M., Posada J.<center>\n",
    "#### <center>modificado por: Santana R.<center>"
   ]
  },
  {
   "cell_type": "markdown",
   "metadata": {},
   "source": [
    "### A. Introducción\n",
    "\n",
    "El código proporcionado es una implementación de métodos numéricos para calcular aproximaciones del área bajo una curva. El código define una clase llamada \"integrar\" que tiene varios métodos para calcular estas aproximaciones.\n",
    "\n",
    "Los métodos principales de trapecio y simpson fueron extraidos de la siguiente bibliografía:\n",
    "\n",
    "*Arévalo Ovalle, D., Bernal Yermanos, M. A., & Posada Restrepo, J. A.* (2021), **Métodos numéricos con Python**, Bogotá: Editorial Politécnico Grancolombiano."
   ]
  },
  {
   "cell_type": "markdown",
   "metadata": {},
   "source": [
    "### B. intg\n",
    "\n",
    "#### Entrada:\n",
    "\n",
    "* f: Una función que se va a integrar.\n",
    "* a: El límite inferior del intervalo de integración.\n",
    "* b: El límite superior del intervalo de integración.\n",
    "* n: (opcional, valor predeterminado: 100): El número de pasos o subdivisiones del intervalo de integración.\n",
    "\n",
    "#### Salida:\n",
    "\n",
    "* abc: La aproximación del área bajo la curva obtenida utilizando la regla del trapecio o la regla de Simpson, dependiendo del método utilizado.\n",
    "\n",
    "#### Métodos de la clase integrar:\n",
    "\n",
    "* trapecio(): Implementa la regla del trapecio para aproximar el área bajo la curva.\n",
    "* simpson(): Implementa la regla de Simpson para aproximar el área bajo la curva.\n",
    "* err_trapecio(f_sp): Calcula el error de aproximación utilizando la regla del trapecio.\n",
    "* err_simpson(f_sp): Calcula el error de aproximación utilizando la regla de Simpson."
   ]
  },
  {
   "cell_type": "markdown",
   "metadata": {},
   "source": [
    "### C. Programa\n",
    "\n",
    "* Método trapecio():\n",
    "\n",
    "    1. Calcula el tamaño del intervalo h utilizando la fórmula (b - a) / n, donde a y b son los límites del intervalo y n es el número de pasos.\n",
    "    2. Inicializa una variable acum en 0 para acumular la suma de los valores de la función evaluados en los puntos intermedios del intervalo.\n",
    "    3. Utiliza un bucle for para iterar desde 1 hasta n - 1.\n",
    "    En cada iteración, calcula el valor de x utilizando la fórmula a + h * j, donde j es el número de iteración.\n",
    "    4. Si j es par, suma 2 * f(x) a acum, de lo contrario, suma 4 * f(x) a acum.\n",
    "    5. Calcula la aproximación del área bajo la curva utilizando la fórmula (h / 2) * (f(a) + acum + f(b)).\n",
    "    6. Retorna el valor de la aproximación del área bajo la curva.\n",
    "\n",
    "* Método simpson():\n",
    "\n",
    "    1. Calcula el tamaño del intervalo h utilizando la fórmula (b - a) / n, donde a y b son los límites del intervalo y n es el número de pasos.\n",
    "    2. Inicializa las variables oddsum y evensum en 0 para acumular la suma de los valores de la función evaluados en los puntos intermedios del intervalo.\n",
    "    3. Utiliza un bucle for para iterar desde 1 hasta n - 1.\n",
    "    4. En cada iteración, calcula el valor de x utilizando la fórmula a + h * j, donde j es el número de iteración.\n",
    "    5. Si j es par, suma 2 * f(x) a evensum, de lo contrario, suma 4 * f(x) a oddsum.\n",
    "    6. Calcula la aproximación del área bajo la curva utilizando la fórmula (h / 3) * (f(a) + evensum + oddsum + f(b)).\n",
    "    7. Retorna el valor de la aproximación del área bajo la curva.\n",
    "\n",
    "* Método err_trapecio(f_sp):\n",
    "\n",
    "    1. Calcula el tamaño del intervalo h utilizando la fórmula (b - a) / n, donde a y b son los límites del intervalo y n es el número de pasos.\n",
    "    2. Calcula el error de aproximación utilizando la fórmula (h**3 / 12) * sp.diff(f_sp, x, 2).subs(x, self.xi), donde f_sp es la función simbólica y self.xi es un valor aleatorio generado dentro del intervalo.\n",
    "    3. Retorna el valor del error de aproximación.\n",
    "\n",
    "* Método err_simpson(f_sp):\n",
    "\n",
    "    1. Calcula el tamaño del intervalo h utilizando la fórmula (b - a) / n, donde a y b son los límites del intervalo y n es el número de pasos.\n",
    "    2. Calcula el error de aproximación utilizando la fórmula (h**5 / 90) * sp.diff(f_sp, x, 4).subs(x, self.xi), donde f_sp es la función simbólica y self.xi es un valor aleatorio generado dentro del intervalo.\n",
    "    3. Retorna el valor del error de aproximación."
   ]
  },
  {
   "cell_type": "markdown",
   "metadata": {},
   "source": [
    "### D. Código"
   ]
  },
  {
   "cell_type": "code",
   "execution_count": 1,
   "metadata": {},
   "outputs": [],
   "source": [
    "import math as mt\n",
    "import random as rd\n",
    "import sympy as sp\n",
    "from sympy.abc import x,y,z\n",
    "\n",
    "class integrar():\n",
    "\n",
    "    def __init__(self, f, a, b, n = 100):\n",
    "        self.f = f\n",
    "        self.a = a\n",
    "        self.b = b\n",
    "        self.n = n\n",
    "        self.h = (self.b-self.a)/self.n\n",
    "        self.xi = rd.uniform(self.a, self.b)\n",
    "\n",
    "    def trapecio(self):\n",
    "        \"\"\"\n",
    "        Implementación regla del trapecio\n",
    "        Entradas:\n",
    "        f -- función\n",
    "        a -- inicio intervalo\n",
    "        b -- fin intervalo\n",
    "        n -- número de pasos\n",
    "        Salida:\n",
    "        abc -- aproximación área bajo la curva\n",
    "        \"\"\"\n",
    "        h = (self.b-self.a)/self.n\n",
    "        acum = 0\n",
    "        for j in range(1, self.n):\n",
    "            acum += 2*self.f(self.a + h*j)\n",
    "            abc = (h/2)*(self.f(self.a) + acum + self.f(self.b))\n",
    "        return abc\n",
    "\n",
    "    def simpson(self):\n",
    "        \"\"\"\n",
    "        Implementación regla de Simpson\n",
    "        Entradas:\n",
    "        f -- función\n",
    "        a -- inicio intervalo\n",
    "        b -- fin intervalo\n",
    "        n -- número de pasos (par)\n",
    "        Salida:\n",
    "        abc -- aproximación área bajo la curva\n",
    "        \"\"\"\n",
    "        h = (self.b-self.a)/self.n\n",
    "        oddsum = 0\n",
    "        evensum = 0\n",
    "        for j in range(1, self.n):\n",
    "            x = self.a + h*j\n",
    "            if j % 2 == 0:\n",
    "                evensum += 2*self.f(x)\n",
    "            else:\n",
    "                oddsum += 4*self.f(x)\n",
    "            abc = (h/3)*(self.f(self.a) + evensum + oddsum + self.f(self.b))\n",
    "        return abc\n",
    "\n",
    "    def err_trapecio(self, f_sp):\n",
    "        h = (self.b-self.a)/self.n\n",
    "        return (h**3 / 12)*sp.diff(f_sp, x, 2).subs(x, self.xi)\n",
    "\n",
    "    def err_simpson(self, f_sp):\n",
    "        h = (self.b-self.a)/self.n\n",
    "        return (h**5 / 90)*sp.diff(f_sp, x, 4).subs(x, self.xi)"
   ]
  }
 ],
 "metadata": {
  "kernelspec": {
   "display_name": "Python 3.7.6 32-bit",
   "language": "python",
   "name": "python3"
  },
  "language_info": {
   "codemirror_mode": {
    "name": "ipython",
    "version": 3
   },
   "file_extension": ".py",
   "mimetype": "text/x-python",
   "name": "python",
   "nbconvert_exporter": "python",
   "pygments_lexer": "ipython3",
   "version": "3.7.6"
  },
  "orig_nbformat": 4,
  "vscode": {
   "interpreter": {
    "hash": "788400b204fe04ac0104141e50cea79f99506ff2986f70a747d8d3a42cb0b336"
   }
  }
 },
 "nbformat": 4,
 "nbformat_minor": 2
}
