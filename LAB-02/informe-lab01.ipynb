{
 "cells": [
  {
   "cell_type": "markdown",
   "metadata": {},
   "source": [
    "### **Universidad Central de Venezuela**\n",
    "### **Facultad de Ingeniería**\n",
    "### **Escuela de Ingeniería Eléctrica**\n",
    "## <center>**Laboratorio N°1**<center>\n",
    "\n",
    "<div style='text-align: right;'>\n",
    "    <h4>Periodo 2023-3</h4>\n",
    "    <i>06/12/2023<br>CI 29571461 Ricardo Santana</i>\n",
    "</div>\n",
    "\n",
    "### Introducción\n",
    "\n",
    "En el informe que se presentará, se llevará a cabo un estudio y análisis de los sistemas lineales y su resolución. Se definirán y caracterizarán las ecuaciones que describen los sistemas lineales utilizando matrices; de estas últimas se establecerán varias propiedades útiles para resolver las respectivas ecuaciones.\n",
    "\n",
    "Para resolver los sistemas de ecuaciones lineales, se requieren métodos numéricos que utilizan cálculos matriciales para simplificar el sistema a través de la computadora. Estos métodos pueden ser directos o iterativos, dependiendo de la forma en que se adapten mejor a la situación o problema que se desea resolver.\n",
    "\n"
   ]
  },
  {
   "cell_type": "markdown",
   "metadata": {},
   "source": [
    "### Marco Teórico\n",
    "\n",
    "A continuación se describe y verifica que la terna $(\\mathbb{R^{n×n}},+, .)$, la cual tiene una estructura de anillo no conmutativo, con unidad y divisores\n",
    "de cero.\n",
    "\n",
    "\n",
    "\n"
   ]
  },
  {
   "cell_type": "markdown",
   "metadata": {},
   "source": [
    "Sean las matrices $A^{3x3}$ y $B^{3x3}$ definidas como:\n",
    "\n",
    "$A = \\begin{pmatrix}\n",
    "        6 & 6 & 4\\\\\n",
    "        0 & 1 & 2\\\\\n",
    "        7 & 5 & 8\\\\\n",
    "        \\end{pmatrix}  B = \\begin{pmatrix}\n",
    "        5 & 8 & 2\\\\\n",
    "        3 & 4 & 0\\\\\n",
    "        9 & 8 & 0\\\\     \n",
    "        \\end{pmatrix}$ \n",
    "\n"
   ]
  },
  {
   "cell_type": "markdown",
   "metadata": {},
   "source": [
    "Los productos posibles entre ambas matrices son:\n",
    "\n",
    "$AB = \\begin{pmatrix}\n",
    "        84 & 104 & 12\\\\\n",
    "        21 & 20 & 0\\\\\n",
    "        122 & 140 & 14\\\\\n",
    "        \\end{pmatrix} ,\\, BA = \\begin{pmatrix}\n",
    "        44 & 48 & 52\\\\\n",
    "        18 & 22 & 20\\\\\n",
    "        54 & 62 & 52\\\\\n",
    "        \\end{pmatrix}$\n",
    "\n",
    "Por lo tanto queda demostrado que $AB \\neq BA$"
   ]
  },
  {
   "cell_type": "markdown",
   "metadata": {},
   "source": [
    "Sin embargo, para el caso particular en que $B = I (matriz identidad)$:\n",
    "\n",
    "$I = \\begin{pmatrix}\n",
    "        1 & 0 & 0\\\\\n",
    "        0 & 1 & 0\\\\\n",
    "        0 & 0 & 1\\\\\n",
    "        \\end{pmatrix}$\n",
    "\n",
    "se tiene que:\n",
    "\n",
    "$AI = IA = A = \\begin{pmatrix}\n",
    "        6 & 6 & 4\\\\\n",
    "        0 & 1 & 2\\\\\n",
    "        7 & 5 & 8\\\\\n",
    "        \\end{pmatrix}$"
   ]
  },
  {
   "cell_type": "markdown",
   "metadata": {},
   "source": [
    "El teorema que se presenta a continuación proporciona las propiedades básicas sobre la suma\n",
    "de matrices y la multiplicación por escalares [1]\n",
    "\n",
    "#### Teorema 2.1.1\n",
    "\n",
    "Sean A, B y C tres matrices de $m \\times n$ y sean $a$ y $b$ dos escalares. Entonces:\n",
    "1. $A + 0 = A$\n",
    "2. $0A = 0$\n",
    "3. $A + B = B + A$ (ley conmutativa para la suma de matrices)\n",
    "4. $(A + B) + C = A + (B + C)$ (ley asociativa para la suma de matrices)\n",
    "5. $a(A + B) = aA + aB$ (ley distributiva para la multiplicación por un escalar)\n",
    "6. $IA = A$\n",
    "7. $(a + b)A = aA + bA$"
   ]
  },
  {
   "cell_type": "markdown",
   "metadata": {},
   "source": [
    "#### Sistema de ecuaciones lineales\n",
    "\n",
    "Según el libro de texto [2] \"un sistema de $m$ ecuaciones lineales con $n$ incognitas $x_1,x_2,...,x_n$  al que podemos llamar simplemente sistema lineal, es un conjunto de m ecuaciones lineales, cada una con n incógnitas. un sistema lineal puede denotarse sin problema mediante\"\n",
    "\n",
    "$   \\begin{array}{cccccccc}\n",
    "        a_{11}x_1 & + & a_{12}x_2 & + & \\cdots & a_{1n}x_n & = & b_1 \\\\\n",
    "        a_{21}x_1 & + & a_{22}x_2 & + & \\cdots & a_{2n}x_n & = & b_2 \\\\\n",
    "        \\vdots    &   & \\vdots    &   &        & \\vdots    &   & \\vdots \\\\\n",
    "        a_{m1}x_1 & + & a_{m2}x_2 & + & \\cdots & a_{mn}x_n & = & b_m \\\\ \n",
    "    \\end{array}\n",
    "$\n",
    "\n",
    "Cualquier vector de números reales $[x_1, x_2, ... , x_n]^T$ que satisface el sistema se denomina como solución"
   ]
  },
  {
   "cell_type": "markdown",
   "metadata": {},
   "source": [
    "Al usar la notación matricial, el sistema se puede escribir como la matriz aumentada:\n",
    "\n",
    "$\n",
    "\\begin{pmatrix}\n",
    "    a_{11}  & a_{12}  & \\cdots & a_{1n} & | & b_1 \\\\\n",
    "    a_{21}  & a_{22}  & \\cdots & a_{2n} & | & b_2 \\\\\n",
    "    \\vdots     & \\vdots     & \\ddots & \\vdots    & | & \\vdots \\\\\n",
    "    a_{m1}  & a_{m2}  & \\cdots & a_{mn} & | & b_m \n",
    "\\end{pmatrix}\n",
    "$"
   ]
  },
  {
   "cell_type": "markdown",
   "metadata": {},
   "source": [
    "#### Definición 1.2.1 [1]\n",
    "\n",
    "##### Sistemas inconsistentes y consistentes:\n",
    "Se dice que un sistema de ecuaciones lineales es inconsistente si no tiene solución. Se dice\n",
    "que un sistema que tiene al menos una solución es consistente.\n",
    "\n",
    "En el presente informe diremos que un sistema es incompatible cuando es incosistente y un sistema es compatible cuando es consistente"
   ]
  },
  {
   "cell_type": "markdown",
   "metadata": {},
   "source": [
    "Consideramos métodos directos e iterativos para resolver un sistema de $n$ ecuaciones\n",
    "lineales en $n$ variables. De manera que se pueda llegar a una solución compatible\n",
    "\n",
    "Las técnicas directas son métodos que proporcionan teóricamente la solución exacta\n",
    "del sistema en un número finito de pasos.\n",
    "\n",
    "Una técnica iterativa para resolver el sistema lineal $n \\times n, Ax = b$ inicia con una aproximación\n",
    "$x(0)$ para la solución $x$ y genera una sucesión de vectores $\\left\\{ x(k) \\right\\}_{k=0}^{\\infty}$ que convergen a $x$. [3]"
   ]
  },
  {
   "cell_type": "markdown",
   "metadata": {},
   "source": [
    "Las diferencias, semejanzas y condiciones requeridas para resolver sistemas de ecuaciones lineales, se analizaran con detalle al finalizar la practica."
   ]
  },
  {
   "cell_type": "markdown",
   "metadata": {},
   "source": [
    "### Práctica"
   ]
  },
  {
   "cell_type": "code",
   "execution_count": 51,
   "metadata": {},
   "outputs": [],
   "source": [
    "#importando documentos y librerias necesarias para realizar la práctica\n",
    "\n",
    "import numpy as np\n",
    "import math as mt\n",
    "import pandas as pd\n",
    "import sys\n",
    "from resolver_SEL import SEL"
   ]
  },
  {
   "cell_type": "code",
   "execution_count": 52,
   "metadata": {},
   "outputs": [],
   "source": [
    "ruta_carpeta = sys.path[0]\n",
    "matriz_A = np.loadtxt(f'{ruta_carpeta}/A20.txt',skiprows = 0, delimiter=';')\n",
    "matriz_b = np.loadtxt(f'{ruta_carpeta}/b20.txt',skiprows = 0, delimiter=',')\n",
    "#asignando instancia de la clase\n",
    "Ax_b = SEL(matriz_A, matriz_b)"
   ]
  },
  {
   "cell_type": "markdown",
   "metadata": {},
   "source": [
    "#### <center>Metodos Directos<center>\n",
    "\n",
    "#### 1. Eliminación Gaussiana"
   ]
  },
  {
   "cell_type": "markdown",
   "metadata": {},
   "source": [
    "Construyendo sistema de ecuciones lineales con $Ax = b$, dados:\n",
    "\n",
    "**Matriz A**"
   ]
  },
  {
   "cell_type": "code",
   "execution_count": 71,
   "metadata": {},
   "outputs": [
    {
     "data": {
      "text/html": [
       "<div>\n",
       "<style scoped>\n",
       "    .dataframe tbody tr th:only-of-type {\n",
       "        vertical-align: middle;\n",
       "    }\n",
       "\n",
       "    .dataframe tbody tr th {\n",
       "        vertical-align: top;\n",
       "    }\n",
       "\n",
       "    .dataframe thead th {\n",
       "        text-align: right;\n",
       "    }\n",
       "</style>\n",
       "<table border=\"1\" class=\"dataframe\">\n",
       "  <thead>\n",
       "    <tr style=\"text-align: right;\">\n",
       "      <th></th>\n",
       "      <th>0</th>\n",
       "      <th>1</th>\n",
       "      <th>2</th>\n",
       "      <th>3</th>\n",
       "      <th>4</th>\n",
       "      <th>5</th>\n",
       "      <th>6</th>\n",
       "      <th>7</th>\n",
       "      <th>8</th>\n",
       "      <th>9</th>\n",
       "      <th>10</th>\n",
       "      <th>11</th>\n",
       "      <th>12</th>\n",
       "      <th>13</th>\n",
       "      <th>14</th>\n",
       "      <th>15</th>\n",
       "      <th>16</th>\n",
       "      <th>17</th>\n",
       "      <th>18</th>\n",
       "      <th>19</th>\n",
       "    </tr>\n",
       "  </thead>\n",
       "  <tbody>\n",
       "    <tr>\n",
       "      <th>0</th>\n",
       "      <td>3.0</td>\n",
       "      <td>9.0</td>\n",
       "      <td>8.0</td>\n",
       "      <td>7.0</td>\n",
       "      <td>3.0</td>\n",
       "      <td>1.0</td>\n",
       "      <td>5.0</td>\n",
       "      <td>8.0</td>\n",
       "      <td>3.0</td>\n",
       "      <td>4.0</td>\n",
       "      <td>5.0</td>\n",
       "      <td>4.0</td>\n",
       "      <td>4.0</td>\n",
       "      <td>0.0</td>\n",
       "      <td>1.0</td>\n",
       "      <td>5.0</td>\n",
       "      <td>6.0</td>\n",
       "      <td>0.0</td>\n",
       "      <td>0.0</td>\n",
       "      <td>6.0</td>\n",
       "    </tr>\n",
       "    <tr>\n",
       "      <th>1</th>\n",
       "      <td>1.0</td>\n",
       "      <td>3.0</td>\n",
       "      <td>2.0</td>\n",
       "      <td>6.0</td>\n",
       "      <td>8.0</td>\n",
       "      <td>2.0</td>\n",
       "      <td>3.0</td>\n",
       "      <td>9.0</td>\n",
       "      <td>0.0</td>\n",
       "      <td>8.0</td>\n",
       "      <td>2.0</td>\n",
       "      <td>3.0</td>\n",
       "      <td>1.0</td>\n",
       "      <td>1.0</td>\n",
       "      <td>8.0</td>\n",
       "      <td>4.0</td>\n",
       "      <td>6.0</td>\n",
       "      <td>6.0</td>\n",
       "      <td>2.0</td>\n",
       "      <td>0.0</td>\n",
       "    </tr>\n",
       "    <tr>\n",
       "      <th>2</th>\n",
       "      <td>3.0</td>\n",
       "      <td>8.0</td>\n",
       "      <td>6.0</td>\n",
       "      <td>0.0</td>\n",
       "      <td>0.0</td>\n",
       "      <td>4.0</td>\n",
       "      <td>2.0</td>\n",
       "      <td>6.0</td>\n",
       "      <td>7.0</td>\n",
       "      <td>4.0</td>\n",
       "      <td>5.0</td>\n",
       "      <td>2.0</td>\n",
       "      <td>0.0</td>\n",
       "      <td>4.0</td>\n",
       "      <td>7.0</td>\n",
       "      <td>1.0</td>\n",
       "      <td>5.0</td>\n",
       "      <td>9.0</td>\n",
       "      <td>3.0</td>\n",
       "      <td>8.0</td>\n",
       "    </tr>\n",
       "    <tr>\n",
       "      <th>3</th>\n",
       "      <td>2.0</td>\n",
       "      <td>8.0</td>\n",
       "      <td>0.0</td>\n",
       "      <td>6.0</td>\n",
       "      <td>6.0</td>\n",
       "      <td>4.0</td>\n",
       "      <td>4.0</td>\n",
       "      <td>2.0</td>\n",
       "      <td>2.0</td>\n",
       "      <td>2.0</td>\n",
       "      <td>6.0</td>\n",
       "      <td>7.0</td>\n",
       "      <td>3.0</td>\n",
       "      <td>7.0</td>\n",
       "      <td>4.0</td>\n",
       "      <td>9.0</td>\n",
       "      <td>8.0</td>\n",
       "      <td>3.0</td>\n",
       "      <td>7.0</td>\n",
       "      <td>2.0</td>\n",
       "    </tr>\n",
       "    <tr>\n",
       "      <th>4</th>\n",
       "      <td>3.0</td>\n",
       "      <td>9.0</td>\n",
       "      <td>6.0</td>\n",
       "      <td>9.0</td>\n",
       "      <td>2.0</td>\n",
       "      <td>8.0</td>\n",
       "      <td>3.0</td>\n",
       "      <td>3.0</td>\n",
       "      <td>9.0</td>\n",
       "      <td>4.0</td>\n",
       "      <td>0.0</td>\n",
       "      <td>9.0</td>\n",
       "      <td>4.0</td>\n",
       "      <td>8.0</td>\n",
       "      <td>5.0</td>\n",
       "      <td>3.0</td>\n",
       "      <td>6.0</td>\n",
       "      <td>9.0</td>\n",
       "      <td>7.0</td>\n",
       "      <td>2.0</td>\n",
       "    </tr>\n",
       "    <tr>\n",
       "      <th>5</th>\n",
       "      <td>4.0</td>\n",
       "      <td>1.0</td>\n",
       "      <td>1.0</td>\n",
       "      <td>8.0</td>\n",
       "      <td>6.0</td>\n",
       "      <td>3.0</td>\n",
       "      <td>1.0</td>\n",
       "      <td>2.0</td>\n",
       "      <td>3.0</td>\n",
       "      <td>7.0</td>\n",
       "      <td>8.0</td>\n",
       "      <td>0.0</td>\n",
       "      <td>7.0</td>\n",
       "      <td>2.0</td>\n",
       "      <td>7.0</td>\n",
       "      <td>3.0</td>\n",
       "      <td>7.0</td>\n",
       "      <td>9.0</td>\n",
       "      <td>2.0</td>\n",
       "      <td>0.0</td>\n",
       "    </tr>\n",
       "    <tr>\n",
       "      <th>6</th>\n",
       "      <td>2.0</td>\n",
       "      <td>5.0</td>\n",
       "      <td>8.0</td>\n",
       "      <td>3.0</td>\n",
       "      <td>7.0</td>\n",
       "      <td>0.0</td>\n",
       "      <td>5.0</td>\n",
       "      <td>5.0</td>\n",
       "      <td>3.0</td>\n",
       "      <td>5.0</td>\n",
       "      <td>9.0</td>\n",
       "      <td>1.0</td>\n",
       "      <td>9.0</td>\n",
       "      <td>5.0</td>\n",
       "      <td>7.0</td>\n",
       "      <td>1.0</td>\n",
       "      <td>0.0</td>\n",
       "      <td>2.0</td>\n",
       "      <td>4.0</td>\n",
       "      <td>1.0</td>\n",
       "    </tr>\n",
       "    <tr>\n",
       "      <th>7</th>\n",
       "      <td>5.0</td>\n",
       "      <td>6.0</td>\n",
       "      <td>3.0</td>\n",
       "      <td>9.0</td>\n",
       "      <td>9.0</td>\n",
       "      <td>0.0</td>\n",
       "      <td>3.0</td>\n",
       "      <td>9.0</td>\n",
       "      <td>6.0</td>\n",
       "      <td>2.0</td>\n",
       "      <td>5.0</td>\n",
       "      <td>8.0</td>\n",
       "      <td>4.0</td>\n",
       "      <td>2.0</td>\n",
       "      <td>0.0</td>\n",
       "      <td>1.0</td>\n",
       "      <td>2.0</td>\n",
       "      <td>1.0</td>\n",
       "      <td>9.0</td>\n",
       "      <td>4.0</td>\n",
       "    </tr>\n",
       "    <tr>\n",
       "      <th>8</th>\n",
       "      <td>0.0</td>\n",
       "      <td>1.0</td>\n",
       "      <td>0.0</td>\n",
       "      <td>5.0</td>\n",
       "      <td>9.0</td>\n",
       "      <td>7.0</td>\n",
       "      <td>3.0</td>\n",
       "      <td>1.0</td>\n",
       "      <td>4.0</td>\n",
       "      <td>2.0</td>\n",
       "      <td>3.0</td>\n",
       "      <td>2.0</td>\n",
       "      <td>6.0</td>\n",
       "      <td>2.0</td>\n",
       "      <td>4.0</td>\n",
       "      <td>0.0</td>\n",
       "      <td>5.0</td>\n",
       "      <td>8.0</td>\n",
       "      <td>4.0</td>\n",
       "      <td>8.0</td>\n",
       "    </tr>\n",
       "    <tr>\n",
       "      <th>9</th>\n",
       "      <td>3.0</td>\n",
       "      <td>9.0</td>\n",
       "      <td>3.0</td>\n",
       "      <td>6.0</td>\n",
       "      <td>6.0</td>\n",
       "      <td>0.0</td>\n",
       "      <td>0.0</td>\n",
       "      <td>7.0</td>\n",
       "      <td>3.0</td>\n",
       "      <td>2.0</td>\n",
       "      <td>6.0</td>\n",
       "      <td>3.0</td>\n",
       "      <td>4.0</td>\n",
       "      <td>5.0</td>\n",
       "      <td>6.0</td>\n",
       "      <td>3.0</td>\n",
       "      <td>9.0</td>\n",
       "      <td>7.0</td>\n",
       "      <td>5.0</td>\n",
       "      <td>7.0</td>\n",
       "    </tr>\n",
       "    <tr>\n",
       "      <th>10</th>\n",
       "      <td>9.0</td>\n",
       "      <td>4.0</td>\n",
       "      <td>9.0</td>\n",
       "      <td>6.0</td>\n",
       "      <td>2.0</td>\n",
       "      <td>4.0</td>\n",
       "      <td>1.0</td>\n",
       "      <td>8.0</td>\n",
       "      <td>2.0</td>\n",
       "      <td>3.0</td>\n",
       "      <td>3.0</td>\n",
       "      <td>2.0</td>\n",
       "      <td>8.0</td>\n",
       "      <td>3.0</td>\n",
       "      <td>1.0</td>\n",
       "      <td>4.0</td>\n",
       "      <td>4.0</td>\n",
       "      <td>9.0</td>\n",
       "      <td>1.0</td>\n",
       "      <td>3.0</td>\n",
       "    </tr>\n",
       "    <tr>\n",
       "      <th>11</th>\n",
       "      <td>9.0</td>\n",
       "      <td>2.0</td>\n",
       "      <td>8.0</td>\n",
       "      <td>7.0</td>\n",
       "      <td>3.0</td>\n",
       "      <td>2.0</td>\n",
       "      <td>9.0</td>\n",
       "      <td>0.0</td>\n",
       "      <td>8.0</td>\n",
       "      <td>1.0</td>\n",
       "      <td>8.0</td>\n",
       "      <td>5.0</td>\n",
       "      <td>3.0</td>\n",
       "      <td>3.0</td>\n",
       "      <td>8.0</td>\n",
       "      <td>2.0</td>\n",
       "      <td>1.0</td>\n",
       "      <td>3.0</td>\n",
       "      <td>9.0</td>\n",
       "      <td>8.0</td>\n",
       "    </tr>\n",
       "    <tr>\n",
       "      <th>12</th>\n",
       "      <td>0.0</td>\n",
       "      <td>9.0</td>\n",
       "      <td>4.0</td>\n",
       "      <td>9.0</td>\n",
       "      <td>8.0</td>\n",
       "      <td>4.0</td>\n",
       "      <td>5.0</td>\n",
       "      <td>1.0</td>\n",
       "      <td>6.0</td>\n",
       "      <td>5.0</td>\n",
       "      <td>0.0</td>\n",
       "      <td>4.0</td>\n",
       "      <td>2.0</td>\n",
       "      <td>1.0</td>\n",
       "      <td>8.0</td>\n",
       "      <td>7.0</td>\n",
       "      <td>1.0</td>\n",
       "      <td>9.0</td>\n",
       "      <td>7.0</td>\n",
       "      <td>5.0</td>\n",
       "    </tr>\n",
       "    <tr>\n",
       "      <th>13</th>\n",
       "      <td>9.0</td>\n",
       "      <td>3.0</td>\n",
       "      <td>7.0</td>\n",
       "      <td>4.0</td>\n",
       "      <td>3.0</td>\n",
       "      <td>9.0</td>\n",
       "      <td>0.0</td>\n",
       "      <td>6.0</td>\n",
       "      <td>6.0</td>\n",
       "      <td>2.0</td>\n",
       "      <td>4.0</td>\n",
       "      <td>1.0</td>\n",
       "      <td>1.0</td>\n",
       "      <td>9.0</td>\n",
       "      <td>6.0</td>\n",
       "      <td>5.0</td>\n",
       "      <td>2.0</td>\n",
       "      <td>3.0</td>\n",
       "      <td>6.0</td>\n",
       "      <td>6.0</td>\n",
       "    </tr>\n",
       "    <tr>\n",
       "      <th>14</th>\n",
       "      <td>2.0</td>\n",
       "      <td>1.0</td>\n",
       "      <td>5.0</td>\n",
       "      <td>1.0</td>\n",
       "      <td>5.0</td>\n",
       "      <td>9.0</td>\n",
       "      <td>6.0</td>\n",
       "      <td>3.0</td>\n",
       "      <td>1.0</td>\n",
       "      <td>1.0</td>\n",
       "      <td>7.0</td>\n",
       "      <td>6.0</td>\n",
       "      <td>1.0</td>\n",
       "      <td>5.0</td>\n",
       "      <td>7.0</td>\n",
       "      <td>0.0</td>\n",
       "      <td>1.0</td>\n",
       "      <td>6.0</td>\n",
       "      <td>0.0</td>\n",
       "      <td>3.0</td>\n",
       "    </tr>\n",
       "    <tr>\n",
       "      <th>15</th>\n",
       "      <td>9.0</td>\n",
       "      <td>1.0</td>\n",
       "      <td>2.0</td>\n",
       "      <td>2.0</td>\n",
       "      <td>1.0</td>\n",
       "      <td>9.0</td>\n",
       "      <td>3.0</td>\n",
       "      <td>7.0</td>\n",
       "      <td>1.0</td>\n",
       "      <td>4.0</td>\n",
       "      <td>2.0</td>\n",
       "      <td>5.0</td>\n",
       "      <td>4.0</td>\n",
       "      <td>3.0</td>\n",
       "      <td>3.0</td>\n",
       "      <td>3.0</td>\n",
       "      <td>0.0</td>\n",
       "      <td>2.0</td>\n",
       "      <td>0.0</td>\n",
       "      <td>5.0</td>\n",
       "    </tr>\n",
       "    <tr>\n",
       "      <th>16</th>\n",
       "      <td>1.0</td>\n",
       "      <td>2.0</td>\n",
       "      <td>2.0</td>\n",
       "      <td>7.0</td>\n",
       "      <td>7.0</td>\n",
       "      <td>8.0</td>\n",
       "      <td>6.0</td>\n",
       "      <td>7.0</td>\n",
       "      <td>0.0</td>\n",
       "      <td>2.0</td>\n",
       "      <td>7.0</td>\n",
       "      <td>4.0</td>\n",
       "      <td>0.0</td>\n",
       "      <td>0.0</td>\n",
       "      <td>8.0</td>\n",
       "      <td>5.0</td>\n",
       "      <td>1.0</td>\n",
       "      <td>1.0</td>\n",
       "      <td>3.0</td>\n",
       "      <td>1.0</td>\n",
       "    </tr>\n",
       "    <tr>\n",
       "      <th>17</th>\n",
       "      <td>9.0</td>\n",
       "      <td>8.0</td>\n",
       "      <td>3.0</td>\n",
       "      <td>1.0</td>\n",
       "      <td>6.0</td>\n",
       "      <td>5.0</td>\n",
       "      <td>9.0</td>\n",
       "      <td>3.0</td>\n",
       "      <td>1.0</td>\n",
       "      <td>5.0</td>\n",
       "      <td>2.0</td>\n",
       "      <td>2.0</td>\n",
       "      <td>4.0</td>\n",
       "      <td>2.0</td>\n",
       "      <td>1.0</td>\n",
       "      <td>9.0</td>\n",
       "      <td>9.0</td>\n",
       "      <td>4.0</td>\n",
       "      <td>8.0</td>\n",
       "      <td>0.0</td>\n",
       "    </tr>\n",
       "    <tr>\n",
       "      <th>18</th>\n",
       "      <td>3.0</td>\n",
       "      <td>8.0</td>\n",
       "      <td>1.0</td>\n",
       "      <td>8.0</td>\n",
       "      <td>5.0</td>\n",
       "      <td>2.0</td>\n",
       "      <td>0.0</td>\n",
       "      <td>3.0</td>\n",
       "      <td>3.0</td>\n",
       "      <td>6.0</td>\n",
       "      <td>6.0</td>\n",
       "      <td>0.0</td>\n",
       "      <td>2.0</td>\n",
       "      <td>5.0</td>\n",
       "      <td>7.0</td>\n",
       "      <td>0.0</td>\n",
       "      <td>5.0</td>\n",
       "      <td>2.0</td>\n",
       "      <td>9.0</td>\n",
       "      <td>1.0</td>\n",
       "    </tr>\n",
       "    <tr>\n",
       "      <th>19</th>\n",
       "      <td>4.0</td>\n",
       "      <td>0.0</td>\n",
       "      <td>2.0</td>\n",
       "      <td>6.0</td>\n",
       "      <td>0.0</td>\n",
       "      <td>0.0</td>\n",
       "      <td>9.0</td>\n",
       "      <td>1.0</td>\n",
       "      <td>0.0</td>\n",
       "      <td>0.0</td>\n",
       "      <td>5.0</td>\n",
       "      <td>7.0</td>\n",
       "      <td>5.0</td>\n",
       "      <td>4.0</td>\n",
       "      <td>0.0</td>\n",
       "      <td>4.0</td>\n",
       "      <td>1.0</td>\n",
       "      <td>6.0</td>\n",
       "      <td>3.0</td>\n",
       "      <td>4.0</td>\n",
       "    </tr>\n",
       "  </tbody>\n",
       "</table>\n",
       "</div>"
      ],
      "text/plain": [
       "     0    1    2    3    4    5    6    7    8    9    10   11   12   13   14  \\\n",
       "0   3.0  9.0  8.0  7.0  3.0  1.0  5.0  8.0  3.0  4.0  5.0  4.0  4.0  0.0  1.0   \n",
       "1   1.0  3.0  2.0  6.0  8.0  2.0  3.0  9.0  0.0  8.0  2.0  3.0  1.0  1.0  8.0   \n",
       "2   3.0  8.0  6.0  0.0  0.0  4.0  2.0  6.0  7.0  4.0  5.0  2.0  0.0  4.0  7.0   \n",
       "3   2.0  8.0  0.0  6.0  6.0  4.0  4.0  2.0  2.0  2.0  6.0  7.0  3.0  7.0  4.0   \n",
       "4   3.0  9.0  6.0  9.0  2.0  8.0  3.0  3.0  9.0  4.0  0.0  9.0  4.0  8.0  5.0   \n",
       "5   4.0  1.0  1.0  8.0  6.0  3.0  1.0  2.0  3.0  7.0  8.0  0.0  7.0  2.0  7.0   \n",
       "6   2.0  5.0  8.0  3.0  7.0  0.0  5.0  5.0  3.0  5.0  9.0  1.0  9.0  5.0  7.0   \n",
       "7   5.0  6.0  3.0  9.0  9.0  0.0  3.0  9.0  6.0  2.0  5.0  8.0  4.0  2.0  0.0   \n",
       "8   0.0  1.0  0.0  5.0  9.0  7.0  3.0  1.0  4.0  2.0  3.0  2.0  6.0  2.0  4.0   \n",
       "9   3.0  9.0  3.0  6.0  6.0  0.0  0.0  7.0  3.0  2.0  6.0  3.0  4.0  5.0  6.0   \n",
       "10  9.0  4.0  9.0  6.0  2.0  4.0  1.0  8.0  2.0  3.0  3.0  2.0  8.0  3.0  1.0   \n",
       "11  9.0  2.0  8.0  7.0  3.0  2.0  9.0  0.0  8.0  1.0  8.0  5.0  3.0  3.0  8.0   \n",
       "12  0.0  9.0  4.0  9.0  8.0  4.0  5.0  1.0  6.0  5.0  0.0  4.0  2.0  1.0  8.0   \n",
       "13  9.0  3.0  7.0  4.0  3.0  9.0  0.0  6.0  6.0  2.0  4.0  1.0  1.0  9.0  6.0   \n",
       "14  2.0  1.0  5.0  1.0  5.0  9.0  6.0  3.0  1.0  1.0  7.0  6.0  1.0  5.0  7.0   \n",
       "15  9.0  1.0  2.0  2.0  1.0  9.0  3.0  7.0  1.0  4.0  2.0  5.0  4.0  3.0  3.0   \n",
       "16  1.0  2.0  2.0  7.0  7.0  8.0  6.0  7.0  0.0  2.0  7.0  4.0  0.0  0.0  8.0   \n",
       "17  9.0  8.0  3.0  1.0  6.0  5.0  9.0  3.0  1.0  5.0  2.0  2.0  4.0  2.0  1.0   \n",
       "18  3.0  8.0  1.0  8.0  5.0  2.0  0.0  3.0  3.0  6.0  6.0  0.0  2.0  5.0  7.0   \n",
       "19  4.0  0.0  2.0  6.0  0.0  0.0  9.0  1.0  0.0  0.0  5.0  7.0  5.0  4.0  0.0   \n",
       "\n",
       "     15   16   17   18   19  \n",
       "0   5.0  6.0  0.0  0.0  6.0  \n",
       "1   4.0  6.0  6.0  2.0  0.0  \n",
       "2   1.0  5.0  9.0  3.0  8.0  \n",
       "3   9.0  8.0  3.0  7.0  2.0  \n",
       "4   3.0  6.0  9.0  7.0  2.0  \n",
       "5   3.0  7.0  9.0  2.0  0.0  \n",
       "6   1.0  0.0  2.0  4.0  1.0  \n",
       "7   1.0  2.0  1.0  9.0  4.0  \n",
       "8   0.0  5.0  8.0  4.0  8.0  \n",
       "9   3.0  9.0  7.0  5.0  7.0  \n",
       "10  4.0  4.0  9.0  1.0  3.0  \n",
       "11  2.0  1.0  3.0  9.0  8.0  \n",
       "12  7.0  1.0  9.0  7.0  5.0  \n",
       "13  5.0  2.0  3.0  6.0  6.0  \n",
       "14  0.0  1.0  6.0  0.0  3.0  \n",
       "15  3.0  0.0  2.0  0.0  5.0  \n",
       "16  5.0  1.0  1.0  3.0  1.0  \n",
       "17  9.0  9.0  4.0  8.0  0.0  \n",
       "18  0.0  5.0  2.0  9.0  1.0  \n",
       "19  4.0  1.0  6.0  3.0  4.0  "
      ]
     },
     "execution_count": 71,
     "metadata": {},
     "output_type": "execute_result"
    }
   ],
   "source": [
    "pd.DataFrame(Ax_b.A)"
   ]
  },
  {
   "cell_type": "markdown",
   "metadata": {},
   "source": [
    "**Matriz b**"
   ]
  },
  {
   "cell_type": "code",
   "execution_count": 54,
   "metadata": {},
   "outputs": [
    {
     "data": {
      "text/plain": [
       "array([[2.],\n",
       "       [1.],\n",
       "       [9.],\n",
       "       [1.],\n",
       "       [5.],\n",
       "       [1.],\n",
       "       [7.],\n",
       "       [1.],\n",
       "       [1.],\n",
       "       [1.],\n",
       "       [4.],\n",
       "       [1.],\n",
       "       [6.],\n",
       "       [1.],\n",
       "       [1.],\n",
       "       [1.],\n",
       "       [2.],\n",
       "       [1.],\n",
       "       [9.],\n",
       "       [1.]], dtype=float32)"
      ]
     },
     "execution_count": 54,
     "metadata": {},
     "output_type": "execute_result"
    }
   ],
   "source": [
    "Ax_b.b"
   ]
  },
  {
   "cell_type": "markdown",
   "metadata": {},
   "source": [
    "#### <center>Metodos Directos<center>\n",
    "\n",
    "#### 1. Eliminación Gaussiana"
   ]
  },
  {
   "cell_type": "code",
   "execution_count": 55,
   "metadata": {},
   "outputs": [
    {
     "data": {
      "text/plain": [
       "matrix([[-1.11964968],\n",
       "        [ 0.04417053],\n",
       "        [ 0.90653156],\n",
       "        [-0.4281711 ],\n",
       "        [-1.11672739],\n",
       "        [ 0.61707654],\n",
       "        [-0.8546822 ],\n",
       "        [-0.03388646],\n",
       "        [-1.15426103],\n",
       "        [ 1.35999402],\n",
       "        [ 0.7177617 ],\n",
       "        [ 0.3899889 ],\n",
       "        [ 0.32225134],\n",
       "        [-0.77879468],\n",
       "        [-0.37055536],\n",
       "        [ 0.02795713],\n",
       "        [-0.46055414],\n",
       "        [ 0.35415948],\n",
       "        [ 1.886938  ],\n",
       "        [ 0.42718354]])"
      ]
     },
     "execution_count": 55,
     "metadata": {},
     "output_type": "execute_result"
    }
   ],
   "source": [
    "xg = Ax_b.metodo_directo('gauss')\n",
    "xg"
   ]
  },
  {
   "cell_type": "markdown",
   "metadata": {},
   "source": [
    "#### 2. PALU"
   ]
  },
  {
   "cell_type": "code",
   "execution_count": 56,
   "metadata": {},
   "outputs": [
    {
     "data": {
      "text/plain": [
       "matrix([[-1.11964986],\n",
       "        [ 0.04417033],\n",
       "        [ 0.90653174],\n",
       "        [-0.42817125],\n",
       "        [-1.11672746],\n",
       "        [ 0.61707666],\n",
       "        [-0.85468243],\n",
       "        [-0.03388655],\n",
       "        [-1.15426121],\n",
       "        [ 1.35999442],\n",
       "        [ 0.71776185],\n",
       "        [ 0.38998904],\n",
       "        [ 0.32225131],\n",
       "        [-0.77879477],\n",
       "        [-0.3705556 ],\n",
       "        [ 0.02795726],\n",
       "        [-0.46055424],\n",
       "        [ 0.35415955],\n",
       "        [ 1.88693833],\n",
       "        [ 0.42718363]])"
      ]
     },
     "execution_count": 56,
     "metadata": {},
     "output_type": "execute_result"
    }
   ],
   "source": [
    "xp = Ax_b.metodo_directo('palu')\n",
    "xp"
   ]
  },
  {
   "cell_type": "markdown",
   "metadata": {},
   "source": [
    "Cabe señalar que por ambos métodos dió aproximadamente igual en relación a 5 cifras decimales."
   ]
  },
  {
   "cell_type": "markdown",
   "metadata": {},
   "source": [
    "#### 3. Cholesky"
   ]
  },
  {
   "cell_type": "code",
   "execution_count": 57,
   "metadata": {},
   "outputs": [
    {
     "data": {
      "text/plain": [
       "'La matriz A no es simétrica'"
      ]
     },
     "execution_count": 57,
     "metadata": {},
     "output_type": "execute_result"
    }
   ],
   "source": [
    "xch = Ax_b.metodo_directo('cholesky')\n",
    "xch"
   ]
  },
  {
   "cell_type": "code",
   "execution_count": 58,
   "metadata": {},
   "outputs": [
    {
     "data": {
      "text/plain": [
       "'La matriz A no es definida positiva'"
      ]
     },
     "execution_count": 58,
     "metadata": {},
     "output_type": "execute_result"
    }
   ],
   "source": [
    "simetrica = Ax_b.D - Ax_b.Au - Ax_b.Au.T\n",
    "#definiendo nuevo sistema con matriz simetrica basandose en la descomposición PALU\n",
    "Asx_b = SEL(simetrica, matriz_b)\n",
    "\n",
    "xch = Asx_b.metodo_directo('cholesky')\n",
    "xch"
   ]
  },
  {
   "cell_type": "code",
   "execution_count": 59,
   "metadata": {},
   "outputs": [],
   "source": [
    "#importando matriz que cumpla las condiciones de cholesky\n",
    "matriz_A_ch = np.loadtxt(f'{ruta_carpeta}/A_ch.txt',skiprows = 0, delimiter=';')\n",
    "matriz_b_ch = np.loadtxt(f'{ruta_carpeta}/b_ch.txt',skiprows = 0, delimiter=',')\n",
    "Achx_b = SEL(matriz_A_ch,matriz_b_ch)\n",
    "xch = Achx_b.metodo_directo('cholesky')"
   ]
  },
  {
   "cell_type": "code",
   "execution_count": 60,
   "metadata": {},
   "outputs": [
    {
     "data": {
      "text/plain": [
       "('matriz A',\n",
       " array([[ 4.  , -1.  ,  1.  ],\n",
       "        [-1.  ,  4.25,  2.75],\n",
       "        [ 1.  ,  2.75,  3.5 ]], dtype=float32),\n",
       " 'matriz_b',\n",
       " array([[  4.],\n",
       "        [  2.],\n",
       "        [-12.]], dtype=float32),\n",
       " 'solucion',\n",
       " matrix([[  7.859375],\n",
       "         [ 12.1875  ],\n",
       "         [-15.25    ]]))"
      ]
     },
     "execution_count": 60,
     "metadata": {},
     "output_type": "execute_result"
    }
   ],
   "source": [
    "#mostrando sistema agregado\n",
    "'matriz A', Achx_b.A, 'matriz_b', Achx_b.b,'solucion', xch"
   ]
  },
  {
   "cell_type": "code",
   "execution_count": 61,
   "metadata": {},
   "outputs": [
    {
     "data": {
      "text/plain": [
       "matrix([[  7.859375],\n",
       "        [ 12.1875  ],\n",
       "        [-15.25    ]])"
      ]
     },
     "execution_count": 61,
     "metadata": {},
     "output_type": "execute_result"
    }
   ],
   "source": [
    "#comparando con gauss (ya demostrada su efectividad)\n",
    "xg = Achx_b.metodo_directo('gauss')\n",
    "xg"
   ]
  },
  {
   "cell_type": "markdown",
   "metadata": {},
   "source": [
    "quedando demostrado así que el metodo de cholesky es igual de efectivo que el de Gauss, ya que $x_g = x_{ch}$. Sin embargo se tienen que cumplir las condiciones suficientes y necesarias para la aplicación de cholesky"
   ]
  },
  {
   "cell_type": "markdown",
   "metadata": {},
   "source": [
    "#### <center>Metodos Iterativos<center>\n",
    "\n",
    "#### 1. Jacobi"
   ]
  },
  {
   "cell_type": "code",
   "execution_count": 62,
   "metadata": {},
   "outputs": [
    {
     "data": {
      "text/plain": [
       "'El metodo no converge'"
      ]
     },
     "execution_count": 62,
     "metadata": {},
     "output_type": "execute_result"
    }
   ],
   "source": [
    "max_iter = 100\n",
    "tol = 0.000001\n",
    "w = 1.2\n",
    "xj = Ax_b.metodo_iterativo('jacobi', max_iter, tol, w)\n",
    "xj"
   ]
  },
  {
   "cell_type": "markdown",
   "metadata": {},
   "source": [
    "Se intentará con el sistema $A_{ch}x_{ch} = b_{ch}$"
   ]
  },
  {
   "cell_type": "code",
   "execution_count": 63,
   "metadata": {},
   "outputs": [
    {
     "data": {
      "text/plain": [
       "array([[  7.85937175],\n",
       "       [ 12.18749468],\n",
       "       [-15.24999409]])"
      ]
     },
     "execution_count": 63,
     "metadata": {},
     "output_type": "execute_result"
    }
   ],
   "source": [
    "xj = Achx_b.metodo_iterativo('jacobi', max_iter, tol, w)\n",
    "xj[0]"
   ]
  },
  {
   "cell_type": "code",
   "execution_count": 64,
   "metadata": {},
   "outputs": [
    {
     "name": "stdout",
     "output_type": "stream",
     "text": [
      "[[  7.85937175]\n",
      " [ 12.18749468]\n",
      " [-15.24999409]]\n",
      "[[  7.85937425]\n",
      " [ 12.18749877]\n",
      " [-15.24999864]]\n",
      "[[  7.85937344]\n",
      " [ 12.18749745]\n",
      " [-15.24999716]]\n"
     ]
    }
   ],
   "source": [
    "#variando parametros\n",
    "iterp = max_iter\n",
    "tolp = tol\n",
    "wp = w\n",
    "for k in range(3):\n",
    "    xj = Achx_b.metodo_iterativo('jacobi', iterp, tolp, wp)\n",
    "    print(xj[0])\n",
    "    iterp *= 2\n",
    "    tolp *= 2\n",
    "    wp += 0.2"
   ]
  },
  {
   "cell_type": "markdown",
   "metadata": {},
   "source": [
    "#### 2. Gauss-Seidel"
   ]
  },
  {
   "cell_type": "code",
   "execution_count": 65,
   "metadata": {},
   "outputs": [
    {
     "data": {
      "text/plain": [
       "'El metodo no converge'"
      ]
     },
     "execution_count": 65,
     "metadata": {},
     "output_type": "execute_result"
    }
   ],
   "source": [
    "xse = Ax_b.metodo_iterativo('seidel', max_iter, tol, w)\n",
    "xse"
   ]
  },
  {
   "cell_type": "markdown",
   "metadata": {},
   "source": [
    "Se intentará con el sistema $A_{ch}x_{ch} = b_{ch}$"
   ]
  },
  {
   "cell_type": "code",
   "execution_count": 66,
   "metadata": {},
   "outputs": [
    {
     "data": {
      "text/plain": [
       "array([[  7.85937466],\n",
       "       [ 12.18749948],\n",
       "       [-15.24999949]])"
      ]
     },
     "execution_count": 66,
     "metadata": {},
     "output_type": "execute_result"
    }
   ],
   "source": [
    "xj = Achx_b.metodo_iterativo('seidel', max_iter, tol, w)\n",
    "xj[0]"
   ]
  },
  {
   "cell_type": "code",
   "execution_count": 67,
   "metadata": {},
   "outputs": [
    {
     "name": "stdout",
     "output_type": "stream",
     "text": [
      "[[  7.85937466]\n",
      " [ 12.18749948]\n",
      " [-15.24999949]]\n",
      "[[  7.85937418]\n",
      " [ 12.18749875]\n",
      " [-15.24999879]]\n",
      "[[  7.85937352]\n",
      " [ 12.18749777]\n",
      " [-15.24999782]]\n"
     ]
    }
   ],
   "source": [
    "#variando parametros\n",
    "iterp = max_iter\n",
    "tolp = tol\n",
    "wp = w\n",
    "for k in range(3):\n",
    "    xj = Achx_b.metodo_iterativo('seidel', iterp, tolp, wp)\n",
    "    print(xj[0])\n",
    "    iterp *= 2\n",
    "    tolp *= 2\n",
    "    wp += 0.2"
   ]
  },
  {
   "cell_type": "markdown",
   "metadata": {},
   "source": [
    "### 3. SOR"
   ]
  },
  {
   "cell_type": "code",
   "execution_count": 68,
   "metadata": {},
   "outputs": [
    {
     "data": {
      "text/plain": [
       "'El metodo no converge'"
      ]
     },
     "execution_count": 68,
     "metadata": {},
     "output_type": "execute_result"
    }
   ],
   "source": [
    "xso = Ax_b.metodo_iterativo('seidel', max_iter, tol, w)\n",
    "xso"
   ]
  },
  {
   "cell_type": "markdown",
   "metadata": {},
   "source": [
    "Se intentará con el sistema $A_{ch}x_{ch} = b_{ch}$"
   ]
  },
  {
   "cell_type": "code",
   "execution_count": 69,
   "metadata": {},
   "outputs": [
    {
     "data": {
      "text/plain": [
       "array([[  7.85937515],\n",
       "       [ 12.18750024],\n",
       "       [-15.25000039]])"
      ]
     },
     "execution_count": 69,
     "metadata": {},
     "output_type": "execute_result"
    }
   ],
   "source": [
    "xj = Achx_b.metodo_iterativo('sor', max_iter, tol, w)\n",
    "xj[0]"
   ]
  },
  {
   "cell_type": "code",
   "execution_count": 70,
   "metadata": {},
   "outputs": [
    {
     "name": "stdout",
     "output_type": "stream",
     "text": [
      "[[  7.85937515]\n",
      " [ 12.18750024]\n",
      " [-15.25000039]]\n",
      "[[  7.85937459]\n",
      " [ 12.18749958]\n",
      " [-15.24999937]]\n",
      "[[  7.85937494]\n",
      " [ 12.18750055]\n",
      " [-15.25000051]]\n"
     ]
    }
   ],
   "source": [
    "#variando parametros\n",
    "iterp = max_iter\n",
    "tolp = tol\n",
    "wp = w\n",
    "for k in range(3):\n",
    "    xj = Achx_b.metodo_iterativo('sor', iterp, tolp, wp)\n",
    "    print(xj[0])\n",
    "    iterp *= 2\n",
    "    tolp *= 2\n",
    "    wp += 0.2"
   ]
  },
  {
   "cell_type": "markdown",
   "metadata": {},
   "source": [
    "### Análisis, comparaciones y semejanzas entre los metodos para resolver Sistemas de ecuaciones lineales\n",
    "\n",
    "#### I. Metodos directos:\n",
    "##### Semejanzas:\n",
    " * En todos los casos se tiene que triangularizar la matriz de una u otra forma, en concreto, el metodo cholesky utiliza directamente la triangularizacion del metodo PALU.\n",
    " * Tienen que ser matrices cuadradas, ya que tiene que haber misma cantidad de incognitas que ecuaciones.\n",
    " * Determinante tiene que ser diferente de 0. Esto asegura que el sistema tenga una solución compatible.\n",
    "\n",
    "##### Diferencias:\n",
    "\n",
    "  * Las diferentes formas en las que se puede factorizar la matriz A, de tal manera que el sistema $Ax = b$ puede sobreescribirse para diversificar la resolucion computacional.\n",
    "  * El método de cholesky está limitado por poseer obligatoriamente una matriz  de coefientes que se sea simétrica, lo cual reduce considerablemente el numero de sistemas que se pueden resolver.\n",
    "\n",
    "##### Condiciones necesarias:\n",
    "a. GAUSS:\n",
    "  * Matriz cuadrada (mismo numero de incognitas que de ecuaciones)\n",
    "  * Matriz invertible (sistema incompatible)\n",
    "  * Filas de vector igual al numero de filas y columnas de la matriz de coeficientes\n",
    "\n",
    "b. PALU:\n",
    "  * Matriz cuadrada\n",
    "  * Matriz invertible\n",
    "  * Filas de vector igual al numero de filas y columnas de la matriz de coeficientes\n",
    "\n",
    "c. Cholesky:\n",
    "  * Matriz cuadrada\n",
    "  * Matriz definida positiva\n",
    "  * Matriz simétrica\n",
    "\n",
    "### II. Metodos iterativos:\n",
    "\n",
    "##### Semejanzas:\n",
    "  * Los métodos iterativos Jacobi, Gauss-Seidel y SOR son utilizados para resolver sistemas de ecuaciones lineales algebraicas. Los tres parten de una solución inicial, la cual se va mejorando hasta alcanzar una solución aproximada. Ésto a traves de una sucesión $x_{k+1} = Mx_k + v$\n",
    "\n",
    "  * todos los metodos son iterativos, es decir, se basan en aproximaciones; esto significa que la solución obtenida no es exacta y su precisión depende del número de iteraciones realizadas.\n",
    "\n",
    "  * El método SOR es una variante del método de Gauss-Seidel, en el que se introduce un factor de sobrerelajación para acelerar la convergencia. En general, el método SOR es más rápido que el método de Gauss-Seidel aunque más complejo de implementar.\n",
    "\n",
    "##### Diferencias:\n",
    "\n",
    "  * Una diferencia notable entre los métodos es que en el método de Jacobi, las soluciones de cada variable se actualizan con los valores de la iteración anterior. En cambio, en el método de Gauss-Seidel, las soluciones se van actualizando a medida que se van calculando, lo que permite una convergencia más rápida.\n",
    "\n",
    "  * Las distintas maneras en la que se puede expresar la matriz $M$ y el vector $v$, basandose en algebra matricial, para que existan ditintas formas de iterar computacionalmente un resultado\n",
    "\n",
    "  * Los tres métodos son iterativos y aproximados, pero difieren en la forma en que actualizan las soluciones. Además, el método SOR es una extensión del método de Gauss-Seidel que introduce un factor de sobrerelajación.\n",
    "\n",
    "\n",
    "##### Condiciones necesarias:\n",
    "  \n",
    "  * Una condicion suficiente y necesaria es que el radio espectral de la matriz $M$ de la ecuacion $x_{k+1} = Mx_k + v$,sea menor a 1 en cada metodo iterativo.\n",
    "\n",
    "a. Jacobi:\n",
    "  * Si la matriz coeficientes es estrictamente diagonal dominante, la solución del sistema converge para cualquier iterado inicial.\n",
    "\n",
    "b. Gauss-Seidel:\n",
    "  * Si la matriz coeficientes es estrictamente diagonal dominante, la solución del sistema converge para cualquier iterado inicial.\n",
    "\n",
    "c. SOR:\n",
    "  * Si la matriz de coeficientes es simétrica con elementos de la diagonal positivos y definida positiva, se puede asegurar la convergencia de la solución del sistema para cualquier iterado.\n",
    "\n",
    "  * Es necesario elegir un valor adecuado para el parámetro de sobrerelajación (ω) para asegurar la convergencia del método, generalmente suele estar entre 1 y 2. Sin embargo, el valor óptimo de ω depende de la matriz de coeficientes y puede variar en cada iteración."
   ]
  },
  {
   "cell_type": "markdown",
   "metadata": {},
   "source": [
    "### Coclusión\n",
    "\n",
    "Se puede llegar a la conclusión de que el método de Gauss es efectivo y corto en términos de código. Sin embargo, los métodos de Cholesky y PALU son un poco más densos y requieren más procesos. El método de Cholesky también depende de ciertos factores, como la simetría y la positividad de la matriz, para poder aplicarse. Por otro lado, los métodos iterativos están limitados por el radio espectral para poder converger. Además, se puede decir que el método SOR llega a la solución más rápidamente, lo que implica menos tiempo de procesamiento.\n",
    "\n",
    "Es importante tener en cuenta que estas conclusiones se basan en los resultados obtenidos y pueden variar dependiendo del contexto y las condiciones específicas de cada problema."
   ]
  },
  {
   "cell_type": "markdown",
   "metadata": {},
   "source": [
    "### Referencias\n",
    "\n",
    "[1] **Algebra Lineal**, *Stanley I. Grossman S., José Job Flores Godoy* 7ma edición\n",
    "\n",
    "[2] **Algebra Lineal**, *Bernard Kolman, David R. Hill*,  8va edición\n",
    "\n",
    "[3] **Analisis Numérico**, *Richard L. Burden • Douglas J. Faires • Annette M. Burden*, 10ma edición"
   ]
  }
 ],
 "metadata": {
  "kernelspec": {
   "display_name": "Python 3.7.6 32-bit",
   "language": "python",
   "name": "python3"
  },
  "language_info": {
   "codemirror_mode": {
    "name": "ipython",
    "version": 3
   },
   "file_extension": ".py",
   "mimetype": "text/x-python",
   "name": "python",
   "nbconvert_exporter": "python",
   "pygments_lexer": "ipython3",
   "version": "3.7.6"
  },
  "orig_nbformat": 4,
  "vscode": {
   "interpreter": {
    "hash": "788400b204fe04ac0104141e50cea79f99506ff2986f70a747d8d3a42cb0b336"
   }
  }
 },
 "nbformat": 4,
 "nbformat_minor": 2
}
