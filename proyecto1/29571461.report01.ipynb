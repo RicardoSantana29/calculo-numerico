{
 "cells": [
  {
   "cell_type": "markdown",
   "metadata": {},
   "source": [
    "### **Universidad Central de Venezuela**\n",
    "### **Facultad de Ingeniería**\n",
    "### **Escuela de Ingeniería Eléctrica**\n",
    "## <center>**Proyecto N°1**<center>\n",
    "\n",
    "<div style='text-align: right;'>\n",
    "    <h4>Periodo 2023-3</h4>\n",
    "    <i>02/2023<br>CI 29571461 Ricardo Santana</i>\n",
    "</div>\n",
    "\n",
    "### **1. Introducción**\n",
    "\n",
    "En el proyecto a presentar se desarrollan ejercicios prácticos que permiten aplicar diversos métodos numericos que facilitan los cálculos y permiten obtener una aproximación muy precisa o razonable, para modelar un sistema. Entre los diversos métodos numericos que exiten, cabe señalar los directos e iterativos para resolver ecuaciones lineales, las diversas maneras de representar un fenomeno a través de interpolación y la implementación del método de Newton para resolver sistemas no lineales; que serán utilizados para resolver los problemas a continuación.\n",
    "\n",
    "### **2. Programas a utilizar**"
   ]
  },
  {
   "cell_type": "code",
   "execution_count": 1,
   "metadata": {},
   "outputs": [],
   "source": [
    "#librerias necesarias\n",
    "import math as mt\n",
    "import random as rd\n",
    "import sympy as sp\n",
    "from sympy.abc import x,y,z,alpha,psi,theta\n",
    "import numpy as np\n",
    "import pandas as pd\n",
    "import matplotlib.pyplot as plt\n",
    "import sys\n",
    "\n",
    "#programas diseñados y documentados; con respectiva ruta\n",
    "ruta = 'C:\\\\Users\\\\Brayan Acosta\\\\Documents\\\\Semestre 2023-3\\\\Calculo Numerico\\\\Drive-Ric\\\\proyecto1'\n",
    "ruta_lab1 = 'C:\\\\Users\\\\Brayan Acosta\\\\Documents\\\\Semestre 2023-3\\\\Calculo Numerico\\\\Drive-Ric\\\\LAB-01'\n",
    "ruta_lab2 = 'C:\\\\Users\\\\Brayan Acosta\\\\Documents\\\\Semestre 2023-3\\\\Calculo Numerico\\\\Drive-Ric\\\\LAB-02'\n",
    "ruta_lab3 = 'C:\\\\Users\\\\Brayan Acosta\\\\Documents\\\\Semestre 2023-3\\\\Calculo Numerico\\\\Drive-Ric\\\\LAB-03'\n",
    "\n",
    "for i in (ruta,ruta_lab1,ruta_lab2,ruta_lab3):\n",
    "    sys.path.append(i) \n",
    "from resolver_SEL import *\n",
    "from interpolante import *\n",
    "from cerosDeFunciones import *\n",
    "from sisEcuNoLin import *\n",
    "from herramientas import *"
   ]
  },
  {
   "cell_type": "markdown",
   "metadata": {},
   "source": [
    "### **3. Problema N°1**\n",
    "\n",
    "La imagen muestra un sistema Masa-Resorte ideal. Se debe escribir el sistema de ecuaciones que\n",
    "modelan el sistema, para luego resolver por todos los métodos estudiados, directos e iterativos, el\n",
    "sistema de ecuaciones lineales. Para los métodos iterativos se fija una tolerancia de $Tol = 10^{−6}$,\n",
    "dejando el iterado inicial $x_0$ y el parámetro de relajación para el método ${\\bf SOR}$, $\\omega$, por cuenta del participante.\n",
    "\n",
    "<center>\n",
    "    <img src=\"./figura1.jpg\" alt=\"figura 1\" style=\"width: 15cm;\"/>\n",
    "</center>\n",
    "\n",
    "<center>Figure 1.1. Sistema Masa-Resorte</center>\n",
    "\n",
    "<!-- ![Figura 2](figura2.jpg) -->"
   ]
  },
  {
   "cell_type": "markdown",
   "metadata": {},
   "source": [
    "Simplificando el sistema a través del equivalente de resortes en paralelo, hasta obtener la Figura 1.1\n",
    "\n",
    "Para los resorte entre $m_1$ y $m_2$\n",
    "\n",
    "$$\\begin{split}\n",
    "    k_2 = & K_2||{K_3 \\over 4}||{K_3 \\over 4} = K_2 + {K_3 \\over 4} + {K_3 \\over 4} \\\\\n",
    "    k_2 = & K_2 + {K_3 \\over 2}\n",
    "\\end{split}$$\n",
    "\n",
    "Así mismo, Para los resorte entre $m_2$ y $m_3$\n",
    "\n",
    "$$\\begin{split}\n",
    "    k_4 = & K_4||{K_3 \\over 4}||{K_3 \\over 4} = K_4 + {K_3 \\over 4} + {K_3 \\over 4} \\\\\n",
    "    k_4 = & K_4 + {K_3 \\over 2}\n",
    "\\end{split}$$\n",
    "\n",
    "<center>\n",
    "    <img src=\"./ejercicio1.jpg\" alt=\"ejercicio 1\" style=\"height: 15cm;\"/>\n",
    "</center>\n",
    "\n",
    "<center>Figure 1.1. Sistema Masa-Resorte Simplificado y Diagrama de cuerpo libre de cada masa</center>\n",
    "\n",
    "Por la segunda ley de Newton se sabe que\n",
    "\n",
    "$$ \\sum F = m a \\; \\; \\; (1.1)$$\n",
    "\n",
    "A partir de la ecuación (1.1) surge el sistema de ecuaciones relacionado al sistema Masa-Resorte, aplicado el digrama de cuerpo libre de cada masa por separado, con los x positivos hacia abajo.\n",
    "\n",
    "$$\\left\\{ \\begin{array}{rclr}\n",
    "    k_2(x_2-x_1) - K_1x_1 + m_1g - F_1 & = & m_1a_1 & (ecu. m_1) \\\\\n",
    "    k_4(x_3-x_2) - k_2(x_2-x_1) + m_2g - F_2 & = & m_2a_2 & (ecu. m_2) \\\\\n",
    "    - K_5x_3 - k_4(x_3-x_2) - F_3 + m_3g & = & m_3a_3 & (ecu. m_3)\n",
    "\\end{array} \\right.$$\n",
    "\n",
    "Organizando\n",
    "\n",
    "$$\\left\\{ \\begin{array}{rcl}\n",
    "    -(K_1+k_2)x_1 + k_2x_2 - m_1a_1 & = & F_1 - m_1g \\\\\n",
    "    k_2x_1 - (k_2+k_4)x_2 + k_4x_3 - m_2a_2 & = & F_2 - m_2g \\\\\n",
    "    k_4x_2 - (k_4+K_5)x_3 - m_3a_3 & = & F_3 - m_3g\n",
    "\\end{array} \\right.$$\n",
    "\n",
    "Sabiendo que\n",
    "\n",
    "$$a = {dv \\over dt} = {d \\over dt}({dx \\over dt}) = {d^2x \\over dt^2}$$\n",
    "\n",
    "utilizando la notación ${dx \\over dt} = \\dot{x}$\n",
    "\n",
    "$$a_i = \\ddot{x}_i$$\n",
    "\n",
    "quedando el sistema (3.4)\n",
    "\n",
    "$$(3.4) \\left\\{ \\begin{array}{rcl}\n",
    "    -(K_1+k_2)x_1 + k_2x_2 - m_1\\ddot{x}_1 & = & F_1 - m_1g \\\\\n",
    "    k_2x_1 - (k_2+k_4)x_2 + k_4x_3 - m_2\\ddot{x}_2 & = & F_2 - m_2g \\\\\n",
    "    k_4x_2 - (k_4+K_5)x_3 - m_3\\ddot{x}_3 & = & F_3 - m_3g\n",
    "\\end{array} \\right.$$\n",
    "\n",
    "Analizando la figura 1.1 en su estado de equilibrio, donde $F_i$ actúa permanentemente, se busca los valores de $x_i$ inicialmente antes de que se comience a oscilar el sistema. Por tal motivo se busca una respuesta partícula de la ecuación diferencial, entonces asumimos que\n",
    "\n",
    "$$x_{pi} = c_i$$\n",
    "\n",
    "donde $c_i \\in \\mathbb{R}$ es constante y una condición inicial para su etapa de oscilación.\n",
    "\n",
    "Entonces, derivando dos veces\n",
    "\n",
    "$$\\ddot{x}_{pi} = 0$$\n",
    "\n",
    "Quedando el sistema (3.4) como\n",
    "\n",
    "$$\\left\\{ \\begin{array}{rcl}\n",
    "    -(K_1+k_2)c_1 + k_2c_2 & = & F_1 - m_1g \\\\\n",
    "    k_2c_1 - (k_2+k_4)c_2 + k_4c_3 & = & F_2 - m_2g \\\\\n",
    "    k_4c_2 - (k_4+K_5)c_3 & = & F_3 - m_3g\n",
    "\\end{array} \\right.$$\n"
   ]
  },
  {
   "cell_type": "code",
   "execution_count": 2,
   "metadata": {},
   "outputs": [
    {
     "data": {
      "text/html": [
       "<div>\n",
       "<style scoped>\n",
       "    .dataframe tbody tr th:only-of-type {\n",
       "        vertical-align: middle;\n",
       "    }\n",
       "\n",
       "    .dataframe tbody tr th {\n",
       "        vertical-align: top;\n",
       "    }\n",
       "\n",
       "    .dataframe thead th {\n",
       "        text-align: right;\n",
       "    }\n",
       "</style>\n",
       "<table border=\"1\" class=\"dataframe\">\n",
       "  <thead>\n",
       "    <tr style=\"text-align: right;\">\n",
       "      <th></th>\n",
       "      <th>K1</th>\n",
       "      <th>K2</th>\n",
       "      <th>K3</th>\n",
       "      <th>K4</th>\n",
       "      <th>K5</th>\n",
       "      <th>m1</th>\n",
       "      <th>m2</th>\n",
       "      <th>m3</th>\n",
       "      <th>F1</th>\n",
       "      <th>F2</th>\n",
       "      <th>F3</th>\n",
       "    </tr>\n",
       "  </thead>\n",
       "  <tbody>\n",
       "    <tr>\n",
       "      <th>0</th>\n",
       "      <td>840</td>\n",
       "      <td>600</td>\n",
       "      <td>1200</td>\n",
       "      <td>690</td>\n",
       "      <td>450</td>\n",
       "      <td>5</td>\n",
       "      <td>10</td>\n",
       "      <td>15</td>\n",
       "      <td>40</td>\n",
       "      <td>30</td>\n",
       "      <td>50</td>\n",
       "    </tr>\n",
       "    <tr>\n",
       "      <th>1</th>\n",
       "      <td>[N/m]</td>\n",
       "      <td>[N/m]</td>\n",
       "      <td>[N/m]</td>\n",
       "      <td>[N/m]</td>\n",
       "      <td>[N/m]</td>\n",
       "      <td>[Kg]</td>\n",
       "      <td>[Kg]</td>\n",
       "      <td>[Kg]</td>\n",
       "      <td>[N]</td>\n",
       "      <td>[N]</td>\n",
       "      <td>[N]</td>\n",
       "    </tr>\n",
       "  </tbody>\n",
       "</table>\n",
       "</div>"
      ],
      "text/plain": [
       "      K1     K2     K3     K4     K5    m1    m2    m3   F1   F2   F3\n",
       "0    840    600   1200    690    450     5    10    15   40   30   50\n",
       "1  [N/m]  [N/m]  [N/m]  [N/m]  [N/m]  [Kg]  [Kg]  [Kg]  [N]  [N]  [N]"
      ]
     },
     "execution_count": 2,
     "metadata": {},
     "output_type": "execute_result"
    }
   ],
   "source": [
    "#definiendo datos\n",
    "df1 = pd.read_csv('data1.csv')\n",
    "datos1 =df1.loc[0,:].to_numpy().astype(float)\n",
    "resp1 = ['c1','c2','c3']\n",
    "resp2 = ['A1','A2','A3']\n",
    "K1, K2, K3, K4, K5, m1, m2, m3, F1, F2, F3 = datos1\n",
    "df1"
   ]
  },
  {
   "cell_type": "code",
   "execution_count": 3,
   "metadata": {},
   "outputs": [],
   "source": [
    "#definiendo equivalentes e resorte\n",
    "k2 = K2 + K3/4\n",
    "k4 = K4 + K3/4\n",
    "#gravedad\n",
    "g = 9.8"
   ]
  },
  {
   "cell_type": "code",
   "execution_count": 4,
   "metadata": {},
   "outputs": [],
   "source": [
    "#definiendo matriz coeficientes según las ecuaciones planteadas\n",
    "A = [[-(K1+k2), k2, 0],[k2, -(k2+k4), k4],[0, k4, -(k4+K5)]]\n",
    "\n",
    "#definiendo matriz de termino independiente\n",
    "b = [F1-m1*g, F2-m2*g, F3-m3*g]\n",
    "\n",
    "#definiendo parametros para métodos iterativos\n",
    "itera, tol, omg = 100, 1e-6, 1.4"
   ]
  },
  {
   "cell_type": "code",
   "execution_count": 5,
   "metadata": {},
   "outputs": [
    {
     "name": "stdout",
     "output_type": "stream",
     "text": [
      "La matriz A no es definida positiva\n"
     ]
    }
   ],
   "source": [
    "sist1 = SEL(A, b)\n",
    "\n",
    "'métodos directos'\n",
    "d1 = sist1.metodo_directo('gauss')\n",
    "dfd1, dferrd1 = a_df(d1, sist1, 'gauss', resp1)\n",
    "d2 = sist1.metodo_directo('palu')\n",
    "dfd2, dferrd2 = a_df(d2, sist1, 'palu', resp1)\n",
    "d3 = sist1.metodo_directo('cholesky')\n",
    "dfd3, dferrd3 = a_df(d3, sist1, 'cholesky', resp1)\n",
    "\n",
    "'métodos iterativos'\n",
    "d4 = sist1.metodo_iterativo('jacobi', itera, tol, omg)\n",
    "dfd4, dferrd4 = a_df(d4[0], sist1, 'jacobi', resp1)\n",
    "d5 = sist1.metodo_iterativo('seidel', itera, tol, omg)\n",
    "dfd5, dferrd5 = a_df(d5[0], sist1, 'seidel', resp1)\n",
    "d6 = sist1.metodo_iterativo('sor', itera, tol, omg)\n",
    "dfd6, dferrd6 = a_df(d6[0], sist1, 'sor', resp1)\n",
    "\n",
    "#guardando en archivos csv\n",
    "dfsist1 = pd.concat([dfd1,dfd2,dfd3,dfd4,dfd5,dfd6], axis=1)\n",
    "dferrsist1 = pd.concat([dferrd1,dferrd2,dferrd3,dferrd4,dferrd5,dferrd6], axis=1)\n",
    "dfsist1.to_csv(f'{ruta}/respuesta_equilibrio.csv')\n",
    "dferrsist1.to_csv(f'{ruta}/error_respuesta_equilibrio.csv')"
   ]
  },
  {
   "cell_type": "code",
   "execution_count": 6,
   "metadata": {},
   "outputs": [
    {
     "name": "stdout",
     "output_type": "stream",
     "text": [
      "tabla de resultados sistema 1\n"
     ]
    },
    {
     "data": {
      "text/html": [
       "<div>\n",
       "<style scoped>\n",
       "    .dataframe tbody tr th:only-of-type {\n",
       "        vertical-align: middle;\n",
       "    }\n",
       "\n",
       "    .dataframe tbody tr th {\n",
       "        vertical-align: top;\n",
       "    }\n",
       "\n",
       "    .dataframe thead th {\n",
       "        text-align: right;\n",
       "    }\n",
       "</style>\n",
       "<table border=\"1\" class=\"dataframe\">\n",
       "  <thead>\n",
       "    <tr style=\"text-align: right;\">\n",
       "      <th></th>\n",
       "      <th>gauss</th>\n",
       "      <th>palu</th>\n",
       "      <th>cholesky</th>\n",
       "      <th>jacobi</th>\n",
       "      <th>seidel</th>\n",
       "      <th>sor</th>\n",
       "    </tr>\n",
       "  </thead>\n",
       "  <tbody>\n",
       "    <tr>\n",
       "      <th>c1</th>\n",
       "      <td>0.102064</td>\n",
       "      <td>0.102064</td>\n",
       "      <td>NaN</td>\n",
       "      <td>0.102064</td>\n",
       "      <td>0.102064</td>\n",
       "      <td>0.102064</td>\n",
       "    </tr>\n",
       "    <tr>\n",
       "      <th>c2</th>\n",
       "      <td>0.187324</td>\n",
       "      <td>0.187324</td>\n",
       "      <td>NaN</td>\n",
       "      <td>0.187324</td>\n",
       "      <td>0.187324</td>\n",
       "      <td>0.187324</td>\n",
       "    </tr>\n",
       "    <tr>\n",
       "      <th>c3</th>\n",
       "      <td>0.196147</td>\n",
       "      <td>0.196147</td>\n",
       "      <td>NaN</td>\n",
       "      <td>0.196147</td>\n",
       "      <td>0.196147</td>\n",
       "      <td>0.196147</td>\n",
       "    </tr>\n",
       "  </tbody>\n",
       "</table>\n",
       "</div>"
      ],
      "text/plain": [
       "       gauss      palu cholesky    jacobi    seidel       sor\n",
       "c1  0.102064  0.102064      NaN  0.102064  0.102064  0.102064\n",
       "c2  0.187324  0.187324      NaN  0.187324  0.187324  0.187324\n",
       "c3  0.196147  0.196147      NaN  0.196147  0.196147  0.196147"
      ]
     },
     "execution_count": 6,
     "metadata": {},
     "output_type": "execute_result"
    }
   ],
   "source": [
    "print('tabla de resultados sistema 1')\n",
    "dfsist1"
   ]
  },
  {
   "cell_type": "code",
   "execution_count": 7,
   "metadata": {},
   "outputs": [
    {
     "name": "stdout",
     "output_type": "stream",
     "text": [
      "tabla de errores de resultados sistema 1\n"
     ]
    },
    {
     "data": {
      "text/html": [
       "<div>\n",
       "<style scoped>\n",
       "    .dataframe tbody tr th:only-of-type {\n",
       "        vertical-align: middle;\n",
       "    }\n",
       "\n",
       "    .dataframe tbody tr th {\n",
       "        vertical-align: top;\n",
       "    }\n",
       "\n",
       "    .dataframe thead th {\n",
       "        text-align: right;\n",
       "    }\n",
       "</style>\n",
       "<table border=\"1\" class=\"dataframe\">\n",
       "  <thead>\n",
       "    <tr style=\"text-align: right;\">\n",
       "      <th></th>\n",
       "      <th>gauss</th>\n",
       "      <th>palu</th>\n",
       "      <th>cholesky</th>\n",
       "      <th>jacobi</th>\n",
       "      <th>seidel</th>\n",
       "      <th>sor</th>\n",
       "    </tr>\n",
       "  </thead>\n",
       "  <tbody>\n",
       "    <tr>\n",
       "      <th>1</th>\n",
       "      <td>0.000000</td>\n",
       "      <td>0.000000</td>\n",
       "      <td>NaN</td>\n",
       "      <td>-2.662605e-08</td>\n",
       "      <td>-5.679708e-07</td>\n",
       "      <td>4.087176e-07</td>\n",
       "    </tr>\n",
       "    <tr>\n",
       "      <th>2</th>\n",
       "      <td>0.000004</td>\n",
       "      <td>0.000006</td>\n",
       "      <td>NaN</td>\n",
       "      <td>-9.350357e-07</td>\n",
       "      <td>-4.295279e-07</td>\n",
       "      <td>2.179827e-06</td>\n",
       "    </tr>\n",
       "    <tr>\n",
       "      <th>3</th>\n",
       "      <td>0.000005</td>\n",
       "      <td>0.000004</td>\n",
       "      <td>NaN</td>\n",
       "      <td>-2.928863e-08</td>\n",
       "      <td>0.000000e+00</td>\n",
       "      <td>-2.179827e-06</td>\n",
       "    </tr>\n",
       "  </tbody>\n",
       "</table>\n",
       "</div>"
      ],
      "text/plain": [
       "      gauss      palu cholesky        jacobi        seidel           sor\n",
       "1  0.000000  0.000000      NaN -2.662605e-08 -5.679708e-07  4.087176e-07\n",
       "2  0.000004  0.000006      NaN -9.350357e-07 -4.295279e-07  2.179827e-06\n",
       "3  0.000005  0.000004      NaN -2.928863e-08  0.000000e+00 -2.179827e-06"
      ]
     },
     "execution_count": 7,
     "metadata": {},
     "output_type": "execute_result"
    }
   ],
   "source": [
    "print('tabla de errores de resultados sistema 1')\n",
    "dferrsist1"
   ]
  },
  {
   "cell_type": "markdown",
   "metadata": {},
   "source": [
    "Respuesta del sistema en condiciones de equilibrio:\n",
    "\n",
    "$$\\begin{split}\n",
    "    x_{p1} & =\t0.102064 [m] = 10.21 [cm]\\\\\n",
    "    x_{p2} & =\t0.187324 [m] = 18.73 [cm]\\\\\n",
    "    x_{p3} & =\t0.196147 [m] = 19.61 [cm]\n",
    "\\end{split}$$"
   ]
  },
  {
   "cell_type": "markdown",
   "metadata": {},
   "source": [
    "Analizando la figura 1.1. en su estado de oscilación, por lo cual todas las $F_i$ dejan de aplicarse, el sistema sale de su estado de equilibrio y comienza a oscilar. Entonces el sistema se transforma (3.4) a:\n",
    "\n",
    "$$\\left\\{ \\begin{array}{rcl}\n",
    "    -(K_1+k_2)x_1 + k_2x_2 - m_1\\ddot{x}_1 & = & 0 \\\\\n",
    "    k_2x_1 - (k_2+k_4)x_2 + k_4x_3 - m_2\\ddot{x}_2 & = & 0 \\\\\n",
    "    k_4x_2 - (k_4+K_5)x_3 - m_3\\ddot{x}_3 & = & 0\n",
    "\\end{array} \\right.$$\n",
    "\n",
    "Es decir, se desea hallar la respuesta homogénea a las ecuaciones diferenciales, por tanto se asume una posible respuesta homogénea:\n",
    "\n",
    "$$\\begin{split}\n",
    "    x_{hi} & = A_icos(\\omega t) \\\\\n",
    "    \\dot{x}_{hi} & = -\\omega A_isen(\\omega t) \\\\\n",
    "    \\ddot{x}_{hi} & = -\\omega^2 A_icos(\\omega t)\n",
    "\\end{split}$$\n",
    "\n",
    "donde:\n",
    "\n",
    "$A_i$ : máximo desplazamiento hacia arriba o abajo de la $m_i$, partiendo de su posición de equilibrio en metros [m]\n",
    "\n",
    "$\\omega$ : frecuencia de cada ciclo en radianes por segundo [rad/seg]\n",
    "\n",
    "$t$ : tiempo transcurrido desde la ausencia de fuerza $F_i$\n",
    "\n",
    "Sustituyendo en el sistema,\n",
    "\n",
    "$$\\left\\{ \\begin{array}{rcl}\n",
    "    -(K_1+k_2)A_1cos(\\omega t) + k_2A_2cos(\\omega t) - m_1(-\\omega^2 A_1cos(\\omega t)) & = & 0 \\\\\n",
    "    k_2A_1cos(\\omega t) - (k_2+k_4)A_2cos(\\omega t) + k_4A_3cos(\\omega t) - m_2(-\\omega^2 A_2cos(\\omega t)) & = & 0 \\\\\n",
    "    k_4A_2cos(\\omega t) - (k_4+K_5)A_3cos(\\omega t) - m_3(-\\omega^2 A_3cos(\\omega t)) & = & 0\n",
    "\\end{array} \\right.$$\n",
    "\n",
    "entonces,\n",
    "\n",
    "$$\\left\\{ \\begin{array}{rcl}\n",
    "    -(K_1+k_2)A_1 + k_2A_2 + m_1\\omega^2 A_1 & = & 0 \\\\\n",
    "    k_2A_1 - (k_2+k_4)A_2 + k_4A_3 + m_2\\omega^2 A_2 & = & 0 \\\\\n",
    "    k_4A_2 - (k_4+K_5)A_3 + m_3\\omega^2 A_3 & = & 0\n",
    "\\end{array} \\right.$$\n",
    "\n",
    "Organizando factores\n",
    "\n",
    "$$\\left\\{ \\begin{array}{rcl}\n",
    "    [m_1\\omega^2-(K_1+k_2)]A_1 + k_2A_2 & = & 0 \\\\\n",
    "    k_2A_1 + [m_2\\omega^2 - (k_2+k_4)]A_2 + k_4A_3 & = & 0 \\\\\n",
    "    k_4A_2 + [m_3\\omega^2 - (k_4+K_5)]A_3 & = & 0\n",
    "\\end{array} \\right.$$"
   ]
  },
  {
   "cell_type": "code",
   "execution_count": 8,
   "metadata": {},
   "outputs": [],
   "source": [
    "#definiendo la frecuencia angular\n",
    "w = 1\n",
    "\n",
    "#redefiniendo matriz coeficientes según las ecuaciones planteadas\n",
    "A = [[m1*w**2-(K1+k2), k2, 0],[k2, m2*w**2-(k2+k4), k4],[0, k4, m3*w**2-(k4+K5)]]\n",
    "\n",
    "#redefiniendo matriz de termino independiente\n",
    "b = [0,0,0]\n",
    "\n",
    "#parametros para métodos iterativos\n",
    "itera, tol, omg = 100, 1e-6, 1.4"
   ]
  },
  {
   "cell_type": "code",
   "execution_count": 9,
   "metadata": {},
   "outputs": [
    {
     "name": "stdout",
     "output_type": "stream",
     "text": [
      "La matriz A no es definida positiva\n"
     ]
    }
   ],
   "source": [
    "sist2 = SEL(A, b)\n",
    "\n",
    "'métodos directos'\n",
    "d1 = sist2.metodo_directo('gauss')\n",
    "dfd1, dferrd1 = a_df(d1, sist2, 'gauss', resp2)\n",
    "d2 = sist2.metodo_directo('palu')\n",
    "dfd2, dferrd2 = a_df(d2, sist2, 'palu', resp2)\n",
    "d3 = sist2.metodo_directo('cholesky')\n",
    "dfd3, dferrd3 = a_df(d3, sist2, 'cholesky', resp2)\n",
    "\n",
    "'métodos iterativos'\n",
    "d4 = sist2.metodo_iterativo('jacobi', itera, tol, omg)\n",
    "dfd4, dferrd4 = a_df(d4[0], sist2, 'jacobi', resp2)\n",
    "d5 = sist2.metodo_iterativo('seidel', itera, tol, omg)\n",
    "dfd5, dferrd5 = a_df(d5[0], sist2, 'seidel', resp2)\n",
    "d6 = sist2.metodo_iterativo('sor', itera, tol, omg)\n",
    "dfd6, dferrd6 = a_df(d6[0], sist2, 'sor', resp2)\n",
    "\n",
    "#guardando en archivos csv\n",
    "dfsist2 = pd.concat([dfd1,dfd2,dfd3,dfd4,dfd5,dfd6], axis=1)\n",
    "dferrsist2 = pd.concat([dferrd1,dferrd2,dferrd3,dferrd4,dferrd5,dferrd6], axis=1)\n",
    "dfsist2.to_csv(f'{ruta}/respuesta_oscilación.csv')\n",
    "dferrsist2.to_csv(f'{ruta}/error_respuesta_oscilación.csv')"
   ]
  },
  {
   "cell_type": "code",
   "execution_count": 10,
   "metadata": {},
   "outputs": [
    {
     "name": "stdout",
     "output_type": "stream",
     "text": [
      "tabla de resultados sistema 2\n"
     ]
    },
    {
     "data": {
      "text/html": [
       "<div>\n",
       "<style scoped>\n",
       "    .dataframe tbody tr th:only-of-type {\n",
       "        vertical-align: middle;\n",
       "    }\n",
       "\n",
       "    .dataframe tbody tr th {\n",
       "        vertical-align: top;\n",
       "    }\n",
       "\n",
       "    .dataframe thead th {\n",
       "        text-align: right;\n",
       "    }\n",
       "</style>\n",
       "<table border=\"1\" class=\"dataframe\">\n",
       "  <thead>\n",
       "    <tr style=\"text-align: right;\">\n",
       "      <th></th>\n",
       "      <th>gauss</th>\n",
       "      <th>palu</th>\n",
       "      <th>cholesky</th>\n",
       "      <th>jacobi</th>\n",
       "      <th>seidel</th>\n",
       "      <th>sor</th>\n",
       "    </tr>\n",
       "  </thead>\n",
       "  <tbody>\n",
       "    <tr>\n",
       "      <th>A1</th>\n",
       "      <td>-0.0</td>\n",
       "      <td>-0.0</td>\n",
       "      <td>NaN</td>\n",
       "      <td>1.573348e-10</td>\n",
       "      <td>7.009844e-10</td>\n",
       "      <td>-1.287832e-10</td>\n",
       "    </tr>\n",
       "    <tr>\n",
       "      <th>A2</th>\n",
       "      <td>-0.0</td>\n",
       "      <td>-0.0</td>\n",
       "      <td>NaN</td>\n",
       "      <td>0.000000e+00</td>\n",
       "      <td>8.299601e-10</td>\n",
       "      <td>-3.085841e-12</td>\n",
       "    </tr>\n",
       "    <tr>\n",
       "      <th>A3</th>\n",
       "      <td>-0.0</td>\n",
       "      <td>-0.0</td>\n",
       "      <td>NaN</td>\n",
       "      <td>2.107182e-10</td>\n",
       "      <td>5.766039e-10</td>\n",
       "      <td>-3.759316e-11</td>\n",
       "    </tr>\n",
       "  </tbody>\n",
       "</table>\n",
       "</div>"
      ],
      "text/plain": [
       "    gauss  palu cholesky        jacobi        seidel           sor\n",
       "A1   -0.0  -0.0      NaN  1.573348e-10  7.009844e-10 -1.287832e-10\n",
       "A2   -0.0  -0.0      NaN  0.000000e+00  8.299601e-10 -3.085841e-12\n",
       "A3   -0.0  -0.0      NaN  2.107182e-10  5.766039e-10 -3.759316e-11"
      ]
     },
     "execution_count": 10,
     "metadata": {},
     "output_type": "execute_result"
    }
   ],
   "source": [
    "print('tabla de resultados sistema 2')\n",
    "dfsist2"
   ]
  },
  {
   "cell_type": "code",
   "execution_count": 11,
   "metadata": {},
   "outputs": [
    {
     "name": "stdout",
     "output_type": "stream",
     "text": [
      "tabla de errores de resultados sistema 2\n"
     ]
    },
    {
     "data": {
      "text/html": [
       "<div>\n",
       "<style scoped>\n",
       "    .dataframe tbody tr th:only-of-type {\n",
       "        vertical-align: middle;\n",
       "    }\n",
       "\n",
       "    .dataframe tbody tr th {\n",
       "        vertical-align: top;\n",
       "    }\n",
       "\n",
       "    .dataframe thead th {\n",
       "        text-align: right;\n",
       "    }\n",
       "</style>\n",
       "<table border=\"1\" class=\"dataframe\">\n",
       "  <thead>\n",
       "    <tr style=\"text-align: right;\">\n",
       "      <th></th>\n",
       "      <th>gauss</th>\n",
       "      <th>palu</th>\n",
       "      <th>cholesky</th>\n",
       "      <th>jacobi</th>\n",
       "      <th>seidel</th>\n",
       "      <th>sor</th>\n",
       "    </tr>\n",
       "  </thead>\n",
       "  <tbody>\n",
       "    <tr>\n",
       "      <th>1</th>\n",
       "      <td>0.0</td>\n",
       "      <td>0.0</td>\n",
       "      <td>NaN</td>\n",
       "      <td>-2.729758e-07</td>\n",
       "      <td>-4.692439e-07</td>\n",
       "      <td>2.206616e-07</td>\n",
       "    </tr>\n",
       "    <tr>\n",
       "      <th>2</th>\n",
       "      <td>0.0</td>\n",
       "      <td>0.0</td>\n",
       "      <td>NaN</td>\n",
       "      <td>3.502123e-07</td>\n",
       "      <td>-3.586012e-07</td>\n",
       "      <td>-1.473207e-07</td>\n",
       "    </tr>\n",
       "    <tr>\n",
       "      <th>3</th>\n",
       "      <td>0.0</td>\n",
       "      <td>0.0</td>\n",
       "      <td>NaN</td>\n",
       "      <td>-3.002734e-07</td>\n",
       "      <td>1.058791e-22</td>\n",
       "      <td>5.051527e-08</td>\n",
       "    </tr>\n",
       "  </tbody>\n",
       "</table>\n",
       "</div>"
      ],
      "text/plain": [
       "   gauss  palu cholesky        jacobi        seidel           sor\n",
       "1    0.0   0.0      NaN -2.729758e-07 -4.692439e-07  2.206616e-07\n",
       "2    0.0   0.0      NaN  3.502123e-07 -3.586012e-07 -1.473207e-07\n",
       "3    0.0   0.0      NaN -3.002734e-07  1.058791e-22  5.051527e-08"
      ]
     },
     "execution_count": 11,
     "metadata": {},
     "output_type": "execute_result"
    }
   ],
   "source": [
    "print('tabla de errores de resultados sistema 2')\n",
    "dferrsist2"
   ]
  },
  {
   "cell_type": "markdown",
   "metadata": {},
   "source": [
    "Quedando así una respuesta en el orden de los nanómetros debido al alto coeficiente de compresión de los resortes, quedando la respuesta\n",
    "\n",
    "$$x_i(t) = x_hi(t) + x_pi(t)$$\n",
    "$$x_i(t) = A_i cos(\\omega t) + c_i$$\n",
    "\n",
    "pudiendo despreciarse $A_i$ según los últimos resultado quedando\n",
    "\n",
    "$$x_i = c_i \\; \\forall \\; i = 1, 2, 3$$"
   ]
  },
  {
   "cell_type": "markdown",
   "metadata": {},
   "source": [
    "### **4. Problema N°2**\n",
    "\n",
    "La Figura 2, representa un sistema de varillas acopladas por cuatro articulaciones.\n",
    "\n",
    "<center>\n",
    "    <img src=\"./figura2.jpg\" alt=\"figura 2\" style=\"width: 15cm;\"/>\n",
    "</center>\n",
    "\n",
    "<center>Figure 2.1. Sistema de varillas</center>\n",
    "\n",
    "<!-- ![Figura 2](figura2.jpg) -->"
   ]
  },
  {
   "cell_type": "markdown",
   "metadata": {},
   "source": [
    "La siguiente data corresponde a los datos experimentales para $\\alpha$ y $\\phi$ con instrumento de medición\n",
    "cuya apreciación es de $0.01$."
   ]
  },
  {
   "cell_type": "code",
   "execution_count": 12,
   "metadata": {},
   "outputs": [
    {
     "data": {
      "text/html": [
       "<div>\n",
       "<style scoped>\n",
       "    .dataframe tbody tr th:only-of-type {\n",
       "        vertical-align: middle;\n",
       "    }\n",
       "\n",
       "    .dataframe tbody tr th {\n",
       "        vertical-align: top;\n",
       "    }\n",
       "\n",
       "    .dataframe thead th {\n",
       "        text-align: right;\n",
       "    }\n",
       "</style>\n",
       "<table border=\"1\" class=\"dataframe\">\n",
       "  <thead>\n",
       "    <tr style=\"text-align: right;\">\n",
       "      <th></th>\n",
       "      <th>alpha [grados]</th>\n",
       "      <th>phi [grados]</th>\n",
       "      <th>apreciacion [grados]</th>\n",
       "    </tr>\n",
       "  </thead>\n",
       "  <tbody>\n",
       "    <tr>\n",
       "      <th>0</th>\n",
       "      <td>0</td>\n",
       "      <td>0.00</td>\n",
       "      <td>0.01</td>\n",
       "    </tr>\n",
       "    <tr>\n",
       "      <th>1</th>\n",
       "      <td>10</td>\n",
       "      <td>8.07</td>\n",
       "      <td>0.01</td>\n",
       "    </tr>\n",
       "    <tr>\n",
       "      <th>2</th>\n",
       "      <td>20</td>\n",
       "      <td>16.11</td>\n",
       "      <td>0.01</td>\n",
       "    </tr>\n",
       "    <tr>\n",
       "      <th>3</th>\n",
       "      <td>30</td>\n",
       "      <td>24.11</td>\n",
       "      <td>0.01</td>\n",
       "    </tr>\n",
       "    <tr>\n",
       "      <th>4</th>\n",
       "      <td>40</td>\n",
       "      <td>32.02</td>\n",
       "      <td>0.01</td>\n",
       "    </tr>\n",
       "    <tr>\n",
       "      <th>5</th>\n",
       "      <td>50</td>\n",
       "      <td>39.81</td>\n",
       "      <td>0.01</td>\n",
       "    </tr>\n",
       "    <tr>\n",
       "      <th>6</th>\n",
       "      <td>60</td>\n",
       "      <td>47.45</td>\n",
       "      <td>0.01</td>\n",
       "    </tr>\n",
       "    <tr>\n",
       "      <th>7</th>\n",
       "      <td>70</td>\n",
       "      <td>54.89</td>\n",
       "      <td>0.01</td>\n",
       "    </tr>\n",
       "    <tr>\n",
       "      <th>8</th>\n",
       "      <td>80</td>\n",
       "      <td>62.06</td>\n",
       "      <td>0.01</td>\n",
       "    </tr>\n",
       "    <tr>\n",
       "      <th>9</th>\n",
       "      <td>90</td>\n",
       "      <td>68.89</td>\n",
       "      <td>0.01</td>\n",
       "    </tr>\n",
       "    <tr>\n",
       "      <th>10</th>\n",
       "      <td>100</td>\n",
       "      <td>75.27</td>\n",
       "      <td>0.01</td>\n",
       "    </tr>\n",
       "    <tr>\n",
       "      <th>11</th>\n",
       "      <td>110</td>\n",
       "      <td>81.07</td>\n",
       "      <td>0.01</td>\n",
       "    </tr>\n",
       "    <tr>\n",
       "      <th>12</th>\n",
       "      <td>120</td>\n",
       "      <td>86.10</td>\n",
       "      <td>0.01</td>\n",
       "    </tr>\n",
       "    <tr>\n",
       "      <th>13</th>\n",
       "      <td>130</td>\n",
       "      <td>90.12</td>\n",
       "      <td>0.01</td>\n",
       "    </tr>\n",
       "    <tr>\n",
       "      <th>14</th>\n",
       "      <td>140</td>\n",
       "      <td>92.82</td>\n",
       "      <td>0.01</td>\n",
       "    </tr>\n",
       "    <tr>\n",
       "      <th>15</th>\n",
       "      <td>150</td>\n",
       "      <td>93.82</td>\n",
       "      <td>0.01</td>\n",
       "    </tr>\n",
       "    <tr>\n",
       "      <th>16</th>\n",
       "      <td>160</td>\n",
       "      <td>92.74</td>\n",
       "      <td>0.01</td>\n",
       "    </tr>\n",
       "    <tr>\n",
       "      <th>17</th>\n",
       "      <td>170</td>\n",
       "      <td>89.31</td>\n",
       "      <td>0.01</td>\n",
       "    </tr>\n",
       "    <tr>\n",
       "      <th>18</th>\n",
       "      <td>180</td>\n",
       "      <td>83.62</td>\n",
       "      <td>0.01</td>\n",
       "    </tr>\n",
       "  </tbody>\n",
       "</table>\n",
       "</div>"
      ],
      "text/plain": [
       "    alpha [grados]  phi [grados]  apreciacion [grados]\n",
       "0                0          0.00                  0.01\n",
       "1               10          8.07                  0.01\n",
       "2               20         16.11                  0.01\n",
       "3               30         24.11                  0.01\n",
       "4               40         32.02                  0.01\n",
       "5               50         39.81                  0.01\n",
       "6               60         47.45                  0.01\n",
       "7               70         54.89                  0.01\n",
       "8               80         62.06                  0.01\n",
       "9               90         68.89                  0.01\n",
       "10             100         75.27                  0.01\n",
       "11             110         81.07                  0.01\n",
       "12             120         86.10                  0.01\n",
       "13             130         90.12                  0.01\n",
       "14             140         92.82                  0.01\n",
       "15             150         93.82                  0.01\n",
       "16             160         92.74                  0.01\n",
       "17             170         89.31                  0.01\n",
       "18             180         83.62                  0.01"
      ]
     },
     "execution_count": 12,
     "metadata": {},
     "output_type": "execute_result"
    }
   ],
   "source": [
    "df2 = pd.read_csv('data2.csv')\n",
    "alp0 = df2.iloc[:,0].to_numpy() #lista de ángulos alpha\n",
    "psi0 = df2.iloc[:,1].to_numpy() #lista de ángulos psi\n",
    "incert = df2.iloc[:,2].to_numpy() #lista de incertidumbres\n",
    "df2"
   ]
  },
  {
   "cell_type": "markdown",
   "metadata": {},
   "source": [
    "**(Ra)** Hallando el polinomio $\\phi = P_n(\\alpha)$ que interpola la data.\n",
    "\n",
    "Debido al bajo error del método de newton para ajustar el polinomio interpolante, el cual es de orden $10^{-24}$, se utilizará este método para hallar $P_n(\\alpha)$"
   ]
  },
  {
   "cell_type": "code",
   "execution_count": 13,
   "metadata": {},
   "outputs": [],
   "source": [
    "dat = data(alp0,psi0)\n",
    "difdiv, pol = dat.polinomio_newton()\n",
    "pol = pol.subs(x, alpha)\n"
   ]
  },
  {
   "cell_type": "markdown",
   "metadata": {},
   "source": [
    "$P_n(\\alpha) =$"
   ]
  },
  {
   "cell_type": "code",
   "execution_count": 14,
   "metadata": {},
   "outputs": [
    {
     "data": {
      "text/latex": [
       "$\\displaystyle \\alpha \\left(- 2.97374081474942 \\cdot 10^{-32} \\alpha^{17} + 4.82911361021325 \\cdot 10^{-29} \\alpha^{16} - 3.61864425053381 \\cdot 10^{-26} \\alpha^{15} + 1.65974490906295 \\cdot 10^{-23} \\alpha^{14} - 5.21166806866469 \\cdot 10^{-21} \\alpha^{13} + 1.1871228342854 \\cdot 10^{-18} \\alpha^{12} - 2.02770673051479 \\cdot 10^{-16} \\alpha^{11} + 2.64772849542172 \\cdot 10^{-14} \\alpha^{10} - 2.66991357260454 \\cdot 10^{-12} \\alpha^{9} + 2.08573062161817 \\cdot 10^{-10} \\alpha^{8} - 1.25861445510492 \\cdot 10^{-8} \\alpha^{7} + 5.81362764162481 \\cdot 10^{-7} \\alpha^{6} - 2.02215348303026 \\cdot 10^{-5} \\alpha^{5} + 0.000516007275220025 \\alpha^{4} - 0.00927188042522191 \\alpha^{3} + 0.1096706345776 \\alpha^{2} - 0.754341440344195 \\alpha + 3.04337775802592\\right)$"
      ],
      "text/plain": [
       "alpha*(-2.97374081474942e-32*alpha**17 + 4.82911361021325e-29*alpha**16 - 3.61864425053381e-26*alpha**15 + 1.65974490906295e-23*alpha**14 - 5.21166806866469e-21*alpha**13 + 1.1871228342854e-18*alpha**12 - 2.02770673051479e-16*alpha**11 + 2.64772849542172e-14*alpha**10 - 2.66991357260454e-12*alpha**9 + 2.08573062161817e-10*alpha**8 - 1.25861445510492e-8*alpha**7 + 5.81362764162481e-7*alpha**6 - 2.02215348303026e-5*alpha**5 + 0.000516007275220025*alpha**4 - 0.00927188042522191*alpha**3 + 0.1096706345776*alpha**2 - 0.754341440344195*alpha + 3.04337775802592)"
      ]
     },
     "execution_count": 14,
     "metadata": {},
     "output_type": "execute_result"
    }
   ],
   "source": [
    "pol"
   ]
  },
  {
   "cell_type": "markdown",
   "metadata": {},
   "source": [
    "**(Rb)** Interpolando la data con un polinomio trigonométrico.\n",
    "\n",
    "Para una mayor precisión el grado debe maximizarse el grado del polinomio trigonometrico, sin obviar que se cumpla que:\n",
    "\n",
    "$$2M < N$$\n",
    "\n",
    "donde,\n",
    "\n",
    "$M$ : grado del polinomio trigonometrico\n",
    "\n",
    "$N$ : cantidad de puntos ($x_i,y_i$) menos 1"
   ]
  },
  {
   "cell_type": "code",
   "execution_count": 15,
   "metadata": {},
   "outputs": [
    {
     "name": "stdout",
     "output_type": "stream",
     "text": [
      "Grado del polinomio trigonometrico interpolante: \n"
     ]
    },
    {
     "data": {
      "text/plain": [
       "8"
      ]
     },
     "execution_count": 15,
     "metadata": {},
     "output_type": "execute_result"
    }
   ],
   "source": [
    "N = len(dat.x)\n",
    "M = N//2 - 1\n",
    "print('Grado del polinomio trigonometrico interpolante: ')\n",
    "M"
   ]
  },
  {
   "cell_type": "markdown",
   "metadata": {},
   "source": [
    "$P_{tr}(\\alpha) =$"
   ]
  },
  {
   "cell_type": "code",
   "execution_count": 16,
   "metadata": {},
   "outputs": [
    {
     "data": {
      "text/latex": [
       "$\\displaystyle - 33.5170332089168 \\sin{\\left(\\frac{\\pi \\alpha}{90} \\right)} - 13.7665480634969 \\sin{\\left(\\frac{\\pi \\alpha}{45} \\right)} - 8.28978761511437 \\sin{\\left(\\frac{\\pi \\alpha}{30} \\right)} - 5.62331073344934 \\sin{\\left(\\frac{2 \\pi \\alpha}{45} \\right)} - 3.93662443276451 \\sin{\\left(\\frac{\\pi \\alpha}{18} \\right)} - 2.70103700935877 \\sin{\\left(\\frac{\\pi \\alpha}{15} \\right)} - 1.70042880854162 \\sin{\\left(\\frac{7 \\pi \\alpha}{90} \\right)} - 0.823012350467296 \\sin{\\left(\\frac{4 \\pi \\alpha}{45} \\right)} - 5.80800603085304 \\cos{\\left(\\frac{\\pi \\alpha}{90} \\right)} + 1.07484584683006 \\cos{\\left(\\frac{\\pi \\alpha}{45} \\right)} + 2.94166666666665 \\cos{\\left(\\frac{\\pi \\alpha}{30} \\right)} + 3.62732845100319 \\cos{\\left(\\frac{2 \\pi \\alpha}{45} \\right)} + 3.93701615909159 \\cos{\\left(\\frac{\\pi \\alpha}{18} \\right)} + 4.09388888888885 \\cos{\\left(\\frac{\\pi \\alpha}{15} \\right)} + 4.17765653842809 \\cos{\\left(\\frac{7 \\pi \\alpha}{90} \\right)} + 4.2211590355001 \\cos{\\left(\\frac{4 \\pi \\alpha}{45} \\right)} + 63.2377777777778$"
      ],
      "text/plain": [
       "-33.5170332089168*sin(pi*alpha/90) - 13.7665480634969*sin(pi*alpha/45) - 8.28978761511437*sin(pi*alpha/30) - 5.62331073344934*sin(2*pi*alpha/45) - 3.93662443276451*sin(pi*alpha/18) - 2.70103700935877*sin(pi*alpha/15) - 1.70042880854162*sin(7*pi*alpha/90) - 0.823012350467296*sin(4*pi*alpha/45) - 5.80800603085304*cos(pi*alpha/90) + 1.07484584683006*cos(pi*alpha/45) + 2.94166666666665*cos(pi*alpha/30) + 3.62732845100319*cos(2*pi*alpha/45) + 3.93701615909159*cos(pi*alpha/18) + 4.09388888888885*cos(pi*alpha/15) + 4.17765653842809*cos(7*pi*alpha/90) + 4.2211590355001*cos(4*pi*alpha/45) + 63.2377777777778"
      ]
     },
     "execution_count": 16,
     "metadata": {},
     "output_type": "execute_result"
    }
   ],
   "source": [
    "trig = dat.polinomio_trigonometrico(M)\n",
    "trig = trig.subs(x, alpha)\n",
    "trig"
   ]
  },
  {
   "cell_type": "markdown",
   "metadata": {},
   "source": [
    "**(Rc)** En una sola gráfica representar; los puntos de la tabla considerando la apreciación, y los\n",
    "polinomios obtenidos en los literales **(Ra)** y **(Rb)**. Considere colocar las respectivas leyendas\n",
    "tal como se realizó en la práctica inicial."
   ]
  },
  {
   "cell_type": "code",
   "execution_count": 17,
   "metadata": {},
   "outputs": [
    {
     "data": {
      "image/png": "[encoded data removed]",
      "text/plain": [
       "<Figure size 640x480 with 1 Axes>"
      ]
     },
     "metadata": {},
     "output_type": "display_data"
    }
   ],
   "source": [
    "#definiendo funciones para graficar\n",
    "fpol = sp.lambdify(alpha, pol)\n",
    "ftrig = sp.lambdify(alpha, trig)\n",
    "\n",
    "#definiendo arreglos de variables y funciones\n",
    "alp = np.linspace(min(dat.x),max(dat.x),200)\n",
    "pol_psi = fpol(alp)\n",
    "trig_psi = ftrig(alp)\n",
    "\n",
    "'graficando'\n",
    "plt.errorbar(dat.x, dat.y, xerr=incert, yerr=incert, fmt='bo', markersize=0, capsize=3, elinewidth=0, label='data') #puntos con incertidumbre\n",
    "plt.xlabel('alpha [grados]') # Etiqueta del eje x\n",
    "plt.ylabel('psi [grados]') # Etiqueta del eje y\n",
    "plt.xticks(np.arange(0, max(dat.x)*1.1, 20)) #escala x\n",
    "plt.yticks(np.arange(0, max(dat.y)*1.1, 10)) #escala y\n",
    "plt.plot(alp, pol_psi, 'r-', label='Polinomio interpolante de Newton') #graficando pol\n",
    "plt.plot(alp, trig_psi, 'g-', label='Polinomio interpolante trigonometrico') # graficando trig\n",
    "plt.title('interpolación') # Título del gráfico\n",
    "plt.grid(True) # Mostrar cuadrícula en el gráfico\n",
    "plt.legend() # Mostrar leyenda\n",
    "plt.show() # Mostrar el gráfico"
   ]
  },
  {
   "cell_type": "markdown",
   "metadata": {},
   "source": [
    "### **5. Problema N°3**\n",
    "\n",
    "Establecer el sistema de ecuaciones no lineales asociado al problema de las varillas. Resolver por\n",
    "los métodos de Newton y cuasi-Newton fijando una tolerancia de $10^{−5}$, se deja al participante\n",
    "establecer el iterado inicial $x_0$.\n",
    "\n",
    "<center>\n",
    "    <img src=\"./ejercicio3.jpg\" alt=\"figura 3\" style=\"width: 15cm;\"/>\n",
    "</center>\n",
    "\n",
    "<center>Figure 3.1. Representación vectorial del sistema de varillas</center>\n",
    "\n",
    "Considerando en el mecanismo el acoplamiento de la barra cuatro tal como aparece en la Figura 3, el ángulo $\\alpha = \\theta_4 - \\pi$ es la entrada a este mecanismo y el ángulo $\\phi = \\theta_2$ es la salida, con lo que podemos obtener una relación entre $\\alpha$ y $\\phi$ por medio de la siguiente ecuación:\n",
    "\n",
    "$$-\\overrightarrow{r_1}+\\overrightarrow{r_2}+\\overrightarrow{r_3}+\\overrightarrow{r_4} = 0$$\n",
    "\n",
    "Situando $\\overrightarrow{r_1}$ a lo largo del eje OX la ecuación vectorial anterior se puede escribir como dos ecuaciones escalares, correspondientes a las componentes x e y de los vectores $\\overrightarrow{r}$, además llamaremos $\\theta = \\theta_3$, quedando así,\n",
    "\n",
    "Para las componentes x:\n",
    "\n",
    "$$-r_1 + r_2cos(\\phi) + r_3cos(\\theta) +r_4cos(\\theta_4) = 0$$\n",
    "\n",
    "Si $\\alpha = \\theta_4 - \\pi \\; \\rightarrow \\theta_4 = \\pi +\\alpha$, entonces\n",
    "\n",
    "$$-r_1 + r_2cos(\\phi) + r_3cos(\\theta) +r_4cos(\\pi +\\alpha) = 0$$\n",
    "\n",
    "Se sabe que $cos(\\pi +\\alpha) = cos(\\pi)cos(\\alpha) - sen(\\pi)sen(\\alpha) = -cos(\\alpha)$\n",
    "\n",
    "$$-r_1 + r_2cos(\\phi) + r_3cos(\\theta) - r_4cos(\\alpha) = 0 \\; \\; \\; (3.1)$$\n",
    "\n",
    "Para las componentes y:\n",
    "\n",
    "$$r_2sen(\\phi) + r_3sen(\\theta) +r_4sen(\\theta_4) = 0$$\n",
    "\n",
    "$$r_2sen(\\phi) + r_3sen(\\theta) +r_4sen(\\pi +\\alpha) = 0$$\n",
    "\n",
    "Se sabe que $sen(\\pi + \\alpha) = sen(\\pi)cos(\\alpha) + cos(\\pi)sen(\\alpha) = -sen(\\alpha)$\n",
    "\n",
    "$$r_2sen(\\phi) + r_3sen(\\theta) - r_4sen(\\alpha) = 0 \\; \\; \\; (3.2)$$\n",
    "\n",
    "Por otra parte, utilizando ley de cosenos, se tiene que\n",
    "\n",
    "$$ r_0^2 = r_1^2 + r_2^2 - 2r_1r_2cos(\\phi) $$\n",
    "\n",
    "y\n",
    "\n",
    "$$ r_0^2 = r_3^2 + r_4^2 - 2r_3r_4cos(\\alpha + 2\\pi - \\theta) $$\n",
    "\n",
    "Se sabe que $cos(\\alpha+2\\pi-\\theta) = cos(2\\pi)cos(\\alpha-\\theta) - sen(2\\pi)sen(\\alpha-\\theta) = cos(\\alpha-\\theta)$\n",
    "\n",
    "$$ r_0^2 = r_3^2 + r_4^2 - 2r_3r_4cos(\\alpha - \\theta) $$\n",
    "\n",
    "Igualando ecuaciones relacionadas a $r_0^2$\n",
    "\n",
    "$$ r_0^2 = r_1^2 + r_2^2 - 2r_1r_2cos(\\phi) = r_3^2 + r_4^2 - 2r_3r_4cos(\\alpha - \\theta) $$\n",
    "\n",
    "Entonces\n",
    "\n",
    "$$ r_1^2 + r_2^2 - r_3^2 - r_4^2 - 2r_1r_2cos(\\phi) + 2r_3r_4cos(\\alpha - \\theta) = 0 \\; \\; \\; (3.3)$$\n",
    "\n",
    "De las ecuaciones (3.1), (3.2) y (3.3) se establece un sistema de 3 ecuaciones no lineales con 3 variables $\\phi$, $\\alpha$ y $\\theta$.\n",
    "\n",
    "$$\\left\\{ \\begin{array}{rcl}\n",
    "    -r_1 + r_2cos(\\phi) + r_3cos(\\theta) - r_4cos(\\alpha) & = & 0 \\\\\n",
    "    r_2sen(\\phi) + r_3sen(\\theta) - r_4sen(\\alpha) & = & 0 \\\\\n",
    "    r_1^2 + r_2^2 - r_3^2 - r_4^2 - 2r_1r_2cos(\\phi) + 2r_3r_4cos(\\alpha - \\theta) & = & 0\n",
    "\\end{array} \\right.$$\n",
    "\n",
    "El cual se resolverá con métodos numéricos posteriormente.\n",
    "\n",
    "Basándose en la figura 2.1 se estiman los siguientes valores pra la longitud de las barras\n",
    "\n",
    "$$\\begin{split}\n",
    "    r_1 = & 10 \\\\\n",
    "    r_2 = & 6 \\\\\n",
    "    r_3 = & 8 \\\\\n",
    "    r_4 = & 4 \\\\ \n",
    "\\end{split}$$"
   ]
  },
  {
   "cell_type": "code",
   "execution_count": 18,
   "metadata": {},
   "outputs": [],
   "source": [
    "#definiendo parámetros\n",
    "r1, r2, r3, r4 = 10, 6, 8, 4\n",
    "itera = 1000\n",
    "tol = 1e-5"
   ]
  },
  {
   "cell_type": "code",
   "execution_count": 19,
   "metadata": {},
   "outputs": [],
   "source": [
    "# phi : x1\n",
    "# alpha : x2\n",
    "# theta : x3\n",
    "var = sp.symbols('x1, x2, x3')\n",
    "\n",
    "c = sp.pi/180 #factor de conversion de grados a radianes\n",
    "\n",
    "#matriz de ecuaciones no lineales\n",
    "f1 = -r1 +r2*sp.cos(c*var[0]) + r3*sp.cos(c*var[2]) - r4*sp.cos(c*var[1])\n",
    "f2 = r2*sp.sin(c*var[0]) + r3*sp.sin(c*var[2]) - r4*sp.sin(c*var[1])\n",
    "f3 = r1**2 + r2**2 - r3**2 - r4**2 - 2*r1*r2*sp.cos(c*var[0]) + 2*r3*r4*sp.cos(c*var[1]-var[2])\n",
    "F = [f1, f2, f3]"
   ]
  },
  {
   "cell_type": "markdown",
   "metadata": {},
   "source": [
    "Basándose en la figura 2.1, se desea saber los ángulos en aproximadamente la configuración mostrada, entonces se estiman,\n",
    "\n",
    "$$\\begin{split}\n",
    "    \\phi & = 45° \\\\\n",
    "    \\alpha & = 60° \\\\\n",
    "    \\theta & = 360°\n",
    "\\end{split}$$"
   ]
  },
  {
   "cell_type": "code",
   "execution_count": 20,
   "metadata": {},
   "outputs": [
    {
     "name": "stdout",
     "output_type": "stream",
     "text": [
      "\n",
      "phi =  10.508401757883135\n",
      "\n",
      "alpha =  13.027369446415356\n",
      "\n",
      "theta =  358.62038235891924\n"
     ]
    }
   ],
   "source": [
    "#prueba 1\n",
    "ang = [45, 60, 360]\n",
    "sol1 = analisis_SENL(SENL, ruta, ang, F, itera, tol, var, 1)"
   ]
  },
  {
   "cell_type": "markdown",
   "metadata": {},
   "source": [
    "Evaluando el valor de $\\alpha$ en el polinomio interpolante, para verificar que sigue un comportamiento"
   ]
  },
  {
   "cell_type": "code",
   "execution_count": 23,
   "metadata": {},
   "outputs": [
    {
     "name": "stdout",
     "output_type": "stream",
     "text": [
      "13.027369446415356\n",
      "\n",
      "Evaluando en el polinomio interpolante de Newton:\n",
      " 10.318307249061169\n"
     ]
    }
   ],
   "source": [
    "print(sol1[1])\n",
    "print('\\nEvaluando en el polinomio interpolante de Newton:\\n', fpol(sol1[1]))"
   ]
  },
  {
   "cell_type": "markdown",
   "metadata": {},
   "source": [
    "Considerablemente cercano al valor de $\\phi$ calculado en el sistema de ecuaciones"
   ]
  },
  {
   "cell_type": "markdown",
   "metadata": {},
   "source": [
    "Basándose en la figura 2.1, se desea saber los ángulos en aproximadamente la configuración mostrada en miniatura, entonces se estiman,\n",
    "\n",
    "$$\\begin{split}\n",
    "    \\phi & = 345° \\\\\n",
    "    \\alpha & = 40° \\\\\n",
    "    \\theta & = 20°\n",
    "\\end{split}$$"
   ]
  },
  {
   "cell_type": "code",
   "execution_count": 22,
   "metadata": {},
   "outputs": [
    {
     "name": "stdout",
     "output_type": "stream",
     "text": [
      "\n",
      "phi =  353.0203258259432\n",
      "\n",
      "alpha =  29.086608646439878\n",
      "\n",
      "theta =  19.52411009509632\n"
     ]
    },
    {
     "data": {
      "text/plain": [
       "[353.0203258259432, 29.086608646439878, 19.52411009509632]"
      ]
     },
     "execution_count": 22,
     "metadata": {},
     "output_type": "execute_result"
    }
   ],
   "source": [
    "#prueba 2\n",
    "ang = [345, 40, 20]\n",
    "analisis_SENL(SENL, ruta, ang, F, itera, tol, var, 2)"
   ]
  },
  {
   "cell_type": "markdown",
   "metadata": {},
   "source": [
    "### **6. Conclusión**\n",
    "\n",
    "Para el ejercicio N°1 se logró hallar la compresion de los resortes en un estado de equilibrio con todas las fuerzas señaldas indicando una deformación de los resortes de entre 10 y 20 [cm] cada uno; razonable según los parámetros establecidos. Cabe señalar que todos los métodos numéricos relacionados al análisis de sistemas lineales, excepto el mpetodo de Cholesky, llegaron a resultados con distinta precisión que nos permite obtener una aproximación razonable.\n",
    "\n",
    "Por otra parte gracias a la interpolación realizada en el ejercicio N°2 fue posible encontrar dos modelos, un polinomio por diferencias divididas y uno trigonométrico, que permiten estudiar el sistema de barras en distintas configuraciones y, por tanto aproximar un ángulo $\\phi$ de salida respecto a uno de entrada $\\alpha$ sin necesidad de medirlo experimentalmente. Esto último fue de gran utilidad para comprobación del ejercicio N°3.\n",
    "\n",
    "Por último es notable que en el ejercicio N°3, a travez de el análisis de sistemas no lineales por el método de Newton, se logró encontrar la configuración de los ángulos exactos (por el bajo error) de cada barra a partir de una aproximación inicial deseada, siendo predominante la desición del ángulo $\\theta_3$ que debido a su posición posee limitado muestreo de ángulo.\n",
    "\n",
    "Cabe señalar que los métodos numéricos facilitaron cálculos que llevarian mucho más tiempo si se realizaran manualmente, sin embargo siempre es necesario el factor humano y ciertos conocimientos sobre el tema de la problematica que se desea resolver para llegar a resultados concretos."
   ]
  }
 ],
 "metadata": {
  "kernelspec": {
   "display_name": "Python 3.7.6 32-bit",
   "language": "python",
   "name": "python3"
  },
  "language_info": {
   "codemirror_mode": {
    "name": "ipython",
    "version": 3
   },
   "file_extension": ".py",
   "mimetype": "text/x-python",
   "name": "python",
   "nbconvert_exporter": "python",
   "pygments_lexer": "ipython3",
   "version": "3.7.6"
  },
  "orig_nbformat": 4,
  "vscode": {
   "interpreter": {
    "hash": "788400b204fe04ac0104141e50cea79f99506ff2986f70a747d8d3a42cb0b336"
   }
  }
 },
 "nbformat": 4,
 "nbformat_minor": 2
}
