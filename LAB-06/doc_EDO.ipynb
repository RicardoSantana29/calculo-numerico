{
 "cells": [
  {
   "cell_type": "markdown",
   "metadata": {},
   "source": [
    "#### <center>Programa: EDO (ecuaciones diferenciales ordinarias)<center>\n",
    "#### <center>por: Ovalle D., Bernal M., Posada J<center>\n",
    "#### <center>modificado por: Santana R.<center>"
   ]
  },
  {
   "cell_type": "markdown",
   "metadata": {},
   "source": [
    "### A. Introducción\n",
    "\n",
    "El código proporcionado es una implementación de métodos numéricos para resolver ecuaciones diferenciales ordinarias (EDOs). Los métodos implementados son el método de Euler y el método de Runge-Kutta de cuarto orden (RK4). También se incluyen versiones de estos métodos para sistemas de EDOs.\n",
    "\n",
    "Los métodos de euler y RK4 de la clase EDO fueron copiados del libro **Métodos Numéricos con Python**, *Ovalle D., Bernal M., Posada J.*, Editorial Politecnico Grancolombiano, (2021). En cuanto a los métodos sis_euler y sis_RK4 fueron modificados, de forma que se adapten al problema."
   ]
  },
  {
   "cell_type": "markdown",
   "metadata": {},
   "source": [
    "### **B. difFin**\n",
    "\n",
    "#### Entrada:\n",
    "\n",
    "* a: Valor inicial del intervalo de integración.\n",
    "\n",
    "* b: Valor final del intervalo de integración.\n",
    "\n",
    "* y0: Valor inicial de la función o vector de funciones.\n",
    "\n",
    "* N: Número de pasos de integración.\n",
    "\n",
    "* f: Función que define la ecuación diferencial o el sistema de ecuaciones diferenciales\n",
    "\n",
    "#### Salida:\n",
    "\n",
    "* euler(): w. Devuelve el valor final de las variables dependientes.\n",
    "\n",
    "* RK4(): w. Devuelve el valor final de las variables dependientes.\n",
    "\n",
    "* sis_euler(): Devuelve un array que contiene el tiempo y los valores finales de las variables dependientes.\n",
    "\n",
    "* sis_RK4():  Devuelve un array que contiene el tiempo y los valores finales de las variables dependientes"
   ]
  },
  {
   "cell_type": "markdown",
   "metadata": {},
   "source": [
    "### **C. Programa**\n",
    "\n",
    "**Método de Euler**\n",
    "\n",
    "El método de Euler es un método numérico para resolver ecuaciones diferenciales de primer orden. En este caso, el método de Euler se implementa en el método euler() de la clase EDO. El método calcula la solución aproximada de la ecuación diferencial utilizando el paso de integración h y devuelve el valor final de la solución. Durante el proceso de cálculo, se imprimen los valores de t y w en cada paso de integración.\n",
    "\n",
    "\n",
    "**Método de Runge-Kutta de cuarto orden (RK4)**\n",
    "\n",
    "El método de Runge-Kutta de cuarto orden (RK4) es un método numérico más preciso para resolver ecuaciones diferenciales de primer orden. En este caso, el método RK4 se implementa en el método RK4() de la clase EDO. El método calcula la solución aproximada de la ecuación diferencial utilizando el paso de integración h y devuelve el valor final de la solución. Durante el proceso de cálculo, se imprimen los valores de t y w en cada paso de integración.\n",
    "\n",
    "\n",
    "**Métodos para sistemas de ecuaciones diferenciales**\n",
    "\n",
    "Además de los métodos anteriores, la clase EDO también implementa versiones de los métodos de Euler y RK4 para sistemas de ecuaciones diferenciales. Estos métodos se llaman sis_euler() y sis_RK4() respectivamente. Estos métodos calculan la solución aproximada de un sistema de ecuaciones diferenciales utilizando el paso de integración h y devuelven el valor final de la solución en forma de un vector.\n",
    "\n",
    "\n",
    "En cada uno de los métodos, se imprimen los valores de t y las componentes de la solución en cada paso de integración.\n"
   ]
  },
  {
   "cell_type": "markdown",
   "metadata": {},
   "source": [
    "### D. Código"
   ]
  },
  {
   "cell_type": "code",
   "execution_count": 1,
   "metadata": {},
   "outputs": [],
   "source": [
    "import math as mt\n",
    "import numpy as np\n",
    "\n",
    "class EDO():\n",
    "\n",
    "    def __init__(self, a, b, y0, N, f):\n",
    "        self.a = a\n",
    "        self.b = b\n",
    "        self.y0 = y0\n",
    "        self.N = N\n",
    "        self.f = f\n",
    "\n",
    "\n",
    "    def euler(self):\n",
    "        h = (self.b - self.a)/self.N\n",
    "        t = self.a\n",
    "        w = self.y0\n",
    "        print(\"t0 = {0:.2f}, w0 = {1:.12f}\".format(t, w))\n",
    "        for i in range(1, self.N+1):\n",
    "            w = w + h*self.f(t, w)\n",
    "            t = self.a + i*h\n",
    "            print(\"t{0:<2} = {1:.2f}, w{0:<2} = {2:.12f}\".format(i, t, w))\n",
    "        return w\n",
    "\n",
    "    def RK4(self):\n",
    "        h = (self.b - self.a)/self.N\n",
    "        t = self.a\n",
    "        w = self.y0\n",
    "        print(\"t0 = {0:.2f}, w0 = {1:.12f}\".format(t, w))\n",
    "\n",
    "        for i in range(1, self.N+1):\n",
    "            k1 = h*self.f(t, w)\n",
    "            k2 = h*self.f(t + h/2, w + k1/2)\n",
    "            k3 = h*self.f(t + h/2, w + k2/2)\n",
    "            k4 = h*self.f(t + h, w + k3)\n",
    "            w = w + (k1 + 2*k2 + 2*k3 + k4)/6\n",
    "            t = self.a + i*h\n",
    "            print(\"t{0:<2} = {1:.2f}, w{0:<2} = {2:.12f}\".format(i, t, w))\n",
    "        return w\n",
    "\n",
    "    def sis_euler(self):\n",
    "        h = (self.b - self.a)/self.N\n",
    "        t = self.a\n",
    "        w = np.array(self.y0)\n",
    "        v = np.concatenate([[t],w])\n",
    "        print(\"t_0 = {0:.2f}, u1_0 = {1:.12f}, u2_0 = {2:.12f}, u3_0 = {3:.12f}\".format(t, w[0], w[1], w[2]))\n",
    "        \n",
    "        for i in range(1, self.N+1):\n",
    "            w = w + h*self.f(t, w)\n",
    "            t = self.a + i*h\n",
    "            print(\"t{0:<2} = {1:.2f}, u1_{0:<2} = {2:.12f}, u2_{0:<2} = {3:.12f}, u3_{0:<2} = {4:.12f}\".format(i, t, w[0], w[1], w[2]))\n",
    "        return np.concatenate([[t],w])\n",
    "\n",
    "    def sis_RK4(self):\n",
    "        h = (self.b - self.a)/self.N\n",
    "        t = self.a\n",
    "        w = np.array(self.y0)\n",
    "        v = np.concatenate([[t],w])\n",
    "        print(\"t_0 = {0:.2f}, u1_0 = {1:.12f}, u2_0 = {2:.12f}, u3_0 = {3:.12f}\".format(t, w[0], w[1], w[2]))\n",
    "\n",
    "        for i in range(1, self.N+1):\n",
    "            k1 = h*self.f(t, w)\n",
    "            k2 = h*self.f(t + h/2, w + k1/2)\n",
    "            k3 = h*self.f(t + h/2, w + k2/2)\n",
    "            k4 = h*self.f(t + h, w + k3)\n",
    "            w = w + (k1 + 2*k2 + 2*k3 + k4)/6\n",
    "            t = self.a + i*h\n",
    "            print(\"t{0:<2} = {1:.2f}, u1_{0:<2} = {2:.12f}, u2_{0:<2} = {3:.12f}, u3_{0:<2} = {4:.12f}\".format(i, t, w[0], w[1], w[2]))\n",
    "        return np.concatenate([[t],w])"
   ]
  }
 ],
 "metadata": {
  "kernelspec": {
   "display_name": "Python 3.7.6 32-bit",
   "language": "python",
   "name": "python3"
  },
  "language_info": {
   "codemirror_mode": {
    "name": "ipython",
    "version": 3
   },
   "file_extension": ".py",
   "mimetype": "text/x-python",
   "name": "python",
   "nbconvert_exporter": "python",
   "pygments_lexer": "ipython3",
   "version": "3.7.6"
  },
  "orig_nbformat": 4,
  "vscode": {
   "interpreter": {
    "hash": "788400b204fe04ac0104141e50cea79f99506ff2986f70a747d8d3a42cb0b336"
   }
  }
 },
 "nbformat": 4,
 "nbformat_minor": 2
}
