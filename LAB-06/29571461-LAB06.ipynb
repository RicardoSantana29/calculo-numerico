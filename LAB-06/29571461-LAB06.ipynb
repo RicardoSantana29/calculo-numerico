{
 "cells": [
  {
   "cell_type": "markdown",
   "metadata": {},
   "source": [
    "### **Universidad Central de Venezuela**\n",
    "### **Facultad de Ingeniería**\n",
    "### **Escuela de Ingeniería Eléctrica**\n",
    "\n",
    "## <center>**Laboratorio N°6**<center>\n",
    "\n",
    "<div style='text-align: right;'>\n",
    "    <h4>Periodo 2023-3</h4>\n",
    "    <i>02/2023<br>CI 29571461 Ricardo Santana</i>\n",
    "</div>\n",
    "\n",
    "### **1. Introducción**\n",
    "\n",
    "Cuando se estudian ciertos problemas en ingeniería y física, los modelos matemáticos que surgen corresponden a ecuaciones donde se relaciona la variación de una magnitud con las condiciones internas, externas e iniciales del sistema.\n",
    "\n",
    "Una ecuación diferencial ordinaria (EDO) expresa la razón de cambio de la variable dependiente y con respecto al cambio de una variable independiente x. La variable dependiente puede ser la población de una bacteria en el tiempo, la temperatura de una sustancia en el tiempo, la concentración de un producto en un reactor. En muchos casos, la variable independiente es el tiempo, ya que se desea medir el cambio de algo (productos, concentración, población, altura, etc.) con respecto al tiempo, dado que cada instante es distinto al anterior.\n",
    "\n",
    "Para resolver ecuaciones diferenciales en Ingeniería Química, existen muchos métodos que dependen del tipo de ecuación generada en cada problema. De manera general, podemos distinguir dos grandes grupos: los métodos analíticos, que obtienen una solución exacta, pero se ajustan a un solo tipo de ecuación diferencial, y los métodos numéricos, que obtienen una solución aproximada, son más genéricos y dependen de las condiciones iniciales, aunque requieren cálculos repetitivos para corregir y mejorar la aproximación.\n",
    "\n",
    "Entre los diversos métodos numérico utilizados cabe anlizar el de Euler y Rugen-Kutta, que destacan por su simplicidad y por tanto se verificará que permitan obtener una estimación aproximada a lo que se desea."
   ]
  },
  {
   "cell_type": "markdown",
   "metadata": {},
   "source": [
    "### **2. Marco Teórico**\n",
    "\n",
    "Según [1] la definición Condición de Lipschitz se establece como:\n",
    "\n",
    "#### **2.1. Definición 1**\n",
    "\n",
    "Se dice que una función $f (t, y)$ satisface la condición de Lipschitz en la variable y en un\n",
    "conjunto $D \\subset \\mathbb{R}^2$ si existe una constante $L > 0$ con\n",
    "\n",
    "$$|f (t, y_1) - f (t, y_2)| \\leq L|y_1 - y_2|$$\n",
    "\n",
    "#### **2.2. Teorema 1 [1]**\n",
    "\n",
    "Suponga que  $f (t, y)$ se define sobre un conjunto convexo $D \\subset \\mathbb{R}^2$. Si existe una constante $L > 0$ con\n",
    "\n",
    "$$\\left| \\frac{\\partial f}{\\partial y}(t,y) \\right| \\leq L, \\;\\;\\; \\forall (t,y) \\in D$$\n",
    "\n",
    "entonces $f$ satisface la condición de Lipschitz en $D$ en la variable $y$ con constante $L$ de Lipschitz\n",
    "\n",
    "**Demostración:**\n",
    "\n",
    "Se sabe del teorema del valor medio que,\n",
    "\n",
    "Si $f \\in C[a, b]$ y $f$ es diferenciable en $(a,b)$, entonces existe un número c en $(a,b)$ con\n",
    "\n",
    "$$f'(c) = \\frac{f(b) - f(a)}{b - a}$$\n",
    "\n",
    "Tomando como valor extremo $f'(c) = L$ y fijamos $t$ en una función $f(t,y_i)$\n",
    "\n",
    "$$L = \\frac{f(t,y_2) - f(t,y_1)}{y_2 - y_1}$$\n",
    "\n",
    "Entonces\n",
    "\n",
    "$$L = \\frac{\\partial f}{\\partial y}(t,y)$$\n",
    "\n",
    "Si  $L \\geq 0$ es máximo en intervalo $(y_1, y_2)$\n",
    "\n",
    "$$\\left| \\frac{\\partial f}{\\partial y}(t,y) \\right| \\leq L$$\n",
    "\n",
    "Quedando demostrado el teorema 1\n",
    "\n",
    "#### **2.3. Definición 2 [1]**\n",
    "\n",
    "El problema del valor inicial\n",
    "\n",
    "$$\\frac{dy}{dt} = f(t,y), \\;\\;\\;\\; a \\leq t \\leq b, \\;\\;\\;\\; y(a) = \\alpha$$\n",
    "\n",
    "se dice que es un problema bien planteado si:\n",
    "\n",
    "* Existe una única solución $y(t)$, y\n",
    "\n",
    "* Existen constantes $\\epsilon_0 > 0$ y $k > 0$, tales que par cualquier $\\epsilon$ en $(0,\\epsilon_0)$, siempre que $\\delta (t)$ es continua con $|\\delta (t)| < \\epsilon$ para toda $t$ en $[a,b]$, y cuando $|\\delta_0| < \\epsilon$, el problema de valor inicial\n",
    "\n",
    "$$\\frac{dz}{dt} = f(t,z) + \\delta (t), \\;\\;\\;\\; a \\leq t \\leq b, \\;\\;\\;\\; z(a) = \\alpha + \\delta_0$$\n",
    "\n",
    "tiene una única solución $z(t)$ que satisface\n",
    "\n",
    "$$z(t) - y(t) < k\\epsilon \\;\\;\\;\\;\\; para\\;toda\\;t\\;en\\;[a,b].$$\n",
    "\n",
    "#### **2.4. Teorema 2 [1]**\n",
    "\n",
    "Suponga que $D = \\{ (t,y) | a \\leq t \\leq b \\; y \\; -\\infty < y < \\infty \\}$. Si $f$ es continua y satisface la condición de Lipschitz en la variable y sobre el conjunto $D$, entonces el problema de valor inicial\n",
    "\n",
    "$$\\frac{dy}{dt} = f(t,y), \\;\\;\\;\\; a \\leq t \\leq b, \\;\\;\\;\\; y(a) = \\alpha$$\n",
    "\n",
    "está bien planteado."
   ]
  },
  {
   "cell_type": "markdown",
   "metadata": {},
   "source": [
    "### **3. Práctica**\n",
    "\n",
    "#### **3.1. Programas a utilizar**"
   ]
  },
  {
   "cell_type": "code",
   "execution_count": 1,
   "metadata": {},
   "outputs": [],
   "source": [
    "#librerias necesarias\n",
    "import math as mt\n",
    "import numpy as np\n",
    "import pandas as pd\n",
    "import sys\n",
    "\n",
    "#programas diseñados\n",
    "ruta = 'C:\\\\Users\\\\Brayan Acosta\\\\Documents\\\\Semestre 2023-3\\\\Calculo Numerico\\\\Drive-Ric\\\\LAB-06'\n",
    "sys.path.append(ruta)\n",
    "from EDO import * #documentado en el archivo anexo"
   ]
  },
  {
   "cell_type": "markdown",
   "metadata": {},
   "source": [
    "#### **3.2. Problema 1**\n",
    "\n",
    "Aproximando la solución a $ y′ = (t + 2t^3)y^3 − ty, \\;\\; 0 \\leq t \\leq 2, \\;\\; y(0) = 1/3, \\;\\; h = 0,05$."
   ]
  },
  {
   "cell_type": "code",
   "execution_count": 2,
   "metadata": {},
   "outputs": [],
   "source": [
    "#definiendo parámetros\n",
    "def f1(t, y):\n",
    "    return (t + 2*y**3)*y**3 - t*y\n",
    "\n",
    "a1, b1 = 0, 2\n",
    "y01 = 1/3\n",
    "h = 0.05\n",
    "#recordando h = (b - a) / N\n",
    "N1 = int((b1 - a1)/h)\n",
    "\n",
    "#ecuación diferencial ordinaria\n",
    "ed1 = EDO(a1, b1, y01, N1, f1)"
   ]
  },
  {
   "cell_type": "markdown",
   "metadata": {},
   "source": [
    "##### **3.2.1. Método de Euler**"
   ]
  },
  {
   "cell_type": "code",
   "execution_count": 3,
   "metadata": {},
   "outputs": [
    {
     "name": "stdout",
     "output_type": "stream",
     "text": [
      "t0 = 0.00, w0 = 0.333333333333\n",
      "t1  = 0.05, w1  = 0.333470507545\n",
      "t2  = 0.10, w2  = 0.332867051489\n",
      "t3  = 0.15, w3  = 0.331523152284\n",
      "t4  = 0.20, w4  = 0.329442770369\n",
      "t5  = 0.25, w5  = 0.326633739133\n",
      "t6  = 0.30, w6  = 0.323107863936\n",
      "t7  = 0.35, w7  = 0.318881011592\n",
      "t8  = 0.40, w8  = 0.313973180183\n",
      "t9  = 0.45, w9  = 0.308408538564\n",
      "t10 = 0.50, w10 = 0.302215424924\n",
      "t11 = 0.55, w11 = 0.295426294437\n",
      "t12 = 0.60, w12 = 0.288077607277\n",
      "t13 = 0.65, w13 = 0.280209650076\n",
      "t14 = 0.70, w14 = 0.271866286139\n",
      "t15 = 0.75, w15 = 0.263094632404\n",
      "t16 = 0.80, w16 = 0.253944663983\n",
      "t17 = 0.85, w17 = 0.244468750174\n",
      "t18 = 0.90, w18 = 0.234721128820\n",
      "t19 = 0.95, w19 = 0.224757328734\n",
      "t20 = 1.00, w20 = 0.214633552446\n",
      "t21 = 1.05, w21 = 0.204406033597\n",
      "t22 = 1.10, w22 = 0.194130384791\n",
      "t23 = 1.15, w23 = 0.183860952528\n",
      "t24 = 1.20, w24 = 0.173650195901\n",
      "t25 = 1.25, w25 = 0.163548104997\n",
      "t26 = 1.30, w26 = 0.153601673498\n",
      "t27 = 1.35, w27 = 0.143854437868\n",
      "t28 = 1.40, w28 = 0.134346092845\n",
      "t29 = 1.45, w29 = 0.125112189995\n",
      "t30 = 1.50, w30 = 0.116183922925\n",
      "t31 = 1.55, w31 = 0.107587999600\n",
      "t32 = 1.60, w32 = 0.099346599362\n",
      "t33 = 1.65, w33 = 0.091477409619\n",
      "t34 = 1.70, w34 = 0.083993735147\n",
      "t35 = 1.75, w35 = 0.076904671342\n",
      "t36 = 1.80, w36 = 0.070215331743\n",
      "t37 = 1.85, w37 = 0.063927119631\n",
      "t38 = 1.90, w38 = 0.058038033466\n",
      "t39 = 1.95, w39 = 0.052542996236\n",
      "t40 = 2.00, w40 = 0.047434199454\n"
     ]
    }
   ],
   "source": [
    "#resultado por el método de Euler\n",
    "we1 = ed1.euler()"
   ]
  },
  {
   "cell_type": "markdown",
   "metadata": {},
   "source": [
    "Según el método de Euler:\n",
    "\n",
    "$$y(2) = 0.047434199454$$"
   ]
  },
  {
   "cell_type": "markdown",
   "metadata": {},
   "source": [
    "##### **3.2.2. Método de Runge-Kutta**"
   ]
  },
  {
   "cell_type": "code",
   "execution_count": 4,
   "metadata": {},
   "outputs": [
    {
     "name": "stdout",
     "output_type": "stream",
     "text": [
      "t0 = 0.00, w0 = 0.333333333333\n",
      "t1  = 0.05, w1  = 0.333100080123\n",
      "t2  = 0.10, w2  = 0.332126310653\n",
      "t3  = 0.15, w3  = 0.330415374075\n",
      "t4  = 0.20, w4  = 0.327974479195\n",
      "t5  = 0.25, w5  = 0.324814782141\n",
      "t6  = 0.30, w6  = 0.320951463727\n",
      "t7  = 0.35, w7  = 0.316403786675\n",
      "t8  = 0.40, w8  = 0.311195122423\n",
      "t9  = 0.45, w9  = 0.305352937436\n",
      "t10 = 0.50, w10 = 0.298908729728\n",
      "t11 = 0.55, w11 = 0.291897907662\n",
      "t12 = 0.60, w12 = 0.284359604946\n",
      "t13 = 0.65, w13 = 0.276336428034\n",
      "t14 = 0.70, w14 = 0.267874134708\n",
      "t15 = 0.75, w15 = 0.259021245385\n",
      "t16 = 0.80, w16 = 0.249828591550\n",
      "t17 = 0.85, w17 = 0.240348808427\n",
      "t18 = 0.90, w18 = 0.230635781540\n",
      "t19 = 0.95, w19 = 0.220744059033\n",
      "t20 = 1.00, w20 = 0.210728243279\n",
      "t21 = 1.05, w21 = 0.200642376508\n",
      "t22 = 1.10, w22 = 0.190539335671\n",
      "t23 = 1.15, w23 = 0.180470251582\n",
      "t24 = 1.20, w24 = 0.170483966566\n",
      "t25 = 1.25, w25 = 0.160626543320\n",
      "t26 = 1.30, w26 = 0.150940835745\n",
      "t27 = 1.35, w27 = 0.141466130021\n",
      "t28 = 1.40, w28 = 0.132237861567\n",
      "t29 = 1.45, w29 = 0.123287410721\n",
      "t30 = 1.50, w30 = 0.114641977283\n",
      "t31 = 1.55, w31 = 0.106324531537\n",
      "t32 = 1.60, w32 = 0.098353837234\n",
      "t33 = 1.65, w33 = 0.090744540203\n",
      "t34 = 1.70, w34 = 0.083507314976\n",
      "t35 = 1.75, w35 = 0.076649060919\n",
      "t36 = 1.80, w36 = 0.070173138968\n",
      "t37 = 1.85, w37 = 0.064079639977\n",
      "t38 = 1.90, w38 = 0.058365676019\n",
      "t39 = 1.95, w39 = 0.053025686463\n",
      "t40 = 2.00, w40 = 0.048051751405\n"
     ]
    }
   ],
   "source": [
    "wrk1 = ed1.RK4()"
   ]
  },
  {
   "cell_type": "markdown",
   "metadata": {},
   "source": [
    "Según el método de Runge-Kutta:\n",
    "\n",
    "$$y(2) = 0.048051751405$$"
   ]
  },
  {
   "cell_type": "markdown",
   "metadata": {},
   "source": [
    "##### **3.2.3. Comprobación con libreria sympy**"
   ]
  },
  {
   "cell_type": "code",
   "execution_count": 31,
   "metadata": {},
   "outputs": [
    {
     "data": {
      "text/latex": [
       "$\\displaystyle \\frac{d}{d t} y{\\left(t \\right)} = - t y{\\left(t \\right)} + \\left(2 t^{3} + t\\right) y^{3}{\\left(t \\right)}$"
      ],
      "text/plain": [
       "Eq(Derivative(y(t), t), -t*y(t) + (2*t**3 + t)*y(t)**3)"
      ]
     },
     "execution_count": 31,
     "metadata": {},
     "output_type": "execute_result"
    }
   ],
   "source": [
    "import sympy as sp\n",
    "from sympy.abc import x,z,t\n",
    "\n",
    "C1 = sp.Symbol('C1')\n",
    "y = sp.Function('y')\n",
    "\n",
    "#construyendo ecuacion diferencial\n",
    "f1sp = (t + 2*t**3)*y(t)**3 - t*y(t)\n",
    "eq = sp.Eq(y(t).diff(t), f1sp)\n",
    "eq\n"
   ]
  },
  {
   "cell_type": "code",
   "execution_count": 33,
   "metadata": {},
   "outputs": [
    {
     "data": {
      "text/latex": [
       "$\\displaystyle y{\\left(t \\right)} = \\sqrt{\\frac{1}{C_{1} e^{t^{2}} + 2 t^{2} + 3}}$"
      ],
      "text/plain": [
       "Eq(y(t), sqrt(1/(C1*exp(t**2) + 2*t**2 + 3)))"
      ]
     },
     "execution_count": 33,
     "metadata": {},
     "output_type": "execute_result"
    }
   ],
   "source": [
    "# obteniendo familia de soluciones\n",
    "sol = sp.dsolve(y(t).diff(t) - f1sp)[1]\n",
    "sol"
   ]
  },
  {
   "cell_type": "code",
   "execution_count": 34,
   "metadata": {},
   "outputs": [
    {
     "data": {
      "text/latex": [
       "$\\displaystyle y{\\left(t \\right)} = \\sqrt{\\frac{1}{2 t^{2} + 6.0 e^{t^{2}} + 3}}$"
      ],
      "text/plain": [
       "Eq(y(t), sqrt(1/(2*t**2 + 6.0*exp(t**2) + 3)))"
      ]
     },
     "execution_count": 34,
     "metadata": {},
     "output_type": "execute_result"
    }
   ],
   "source": [
    "#obteniendo solución\n",
    "ics = {y(0) : 1/3}\n",
    "Ceq = sp.Eq(sol.lhs.subs(t, 0).subs(ics), sol.rhs.subs(t, 0))\n",
    "C = sp.solve(Ceq)[0]\n",
    "solt = sol.subs(C1, C)\n",
    "solt"
   ]
  },
  {
   "cell_type": "code",
   "execution_count": 35,
   "metadata": {},
   "outputs": [
    {
     "data": {
      "text/latex": [
       "$\\displaystyle y{\\left(2 \\right)} = 0.0543455066126645$"
      ],
      "text/plain": [
       "Eq(y(2), 0.0543455066126645)"
      ]
     },
     "execution_count": 35,
     "metadata": {},
     "output_type": "execute_result"
    }
   ],
   "source": [
    "#evaluando en el punto de interés\n",
    "solt.subs(t, 2).evalf()"
   ]
  },
  {
   "cell_type": "markdown",
   "metadata": {},
   "source": [
    "#### **3.3. Problema 2**\n",
    "\n",
    "Aproximando la solución al sistema,\n",
    "\n",
    "$$\\left\\{ \\begin{array}{rlcc}\n",
    "    u_1' = & u_2, & 0 \\leq t \\leq 2, & u_1(0) = 1; \\\\\n",
    "    u_2' = & −u_1 − 2e^t + 1, & 0 \\leq t \\leq 2, & u_2(0) = 0; \\\\\n",
    "    u_3' = & −u_1 − e^t + 1, & 0 \\leq t \\leq 2, & u_3(0) = 1;\n",
    "\\end{array} \\right.$$\n",
    "\n",
    "Con $h = 0.05$"
   ]
  },
  {
   "cell_type": "code",
   "execution_count": 5,
   "metadata": {},
   "outputs": [],
   "source": [
    "def f2(t, vec):\n",
    "    u1, u2, u3 = vec[0], vec[1], vec[2]\n",
    "    du1 = u2\n",
    "    du2 = -u1 -2*mt.exp(t) +1\n",
    "    du3 = -u1 -mt.exp(t) +1\n",
    "    return np.array([du1, du2, du3])\n",
    "\n",
    "u10, u20, u30 = 1, 0, 1\n",
    "vec = [u10, u20, u30]\n",
    "\n",
    "ed2 = EDO(0, 2, vec, N1, f2)"
   ]
  },
  {
   "cell_type": "markdown",
   "metadata": {},
   "source": [
    "##### **3.3.1. Método de Euler**"
   ]
  },
  {
   "cell_type": "code",
   "execution_count": 6,
   "metadata": {},
   "outputs": [
    {
     "name": "stdout",
     "output_type": "stream",
     "text": [
      "t_0 = 0.00, u1_0 = 1.000000000000, u2_0 = 0.000000000000, u3_0 = 1.000000000000\n",
      "t1  = 0.05, u1_1  = 1.000000000000, u2_1  = -0.100000000000, u3_1  = 0.950000000000\n",
      "t2  = 0.10, u1_2  = 0.995000000000, u2_2  = -0.205127109638, u3_2  = 0.897436445181\n",
      "t3  = 0.15, u1_3  = 0.984743644518, u2_3  = -0.315394201445, u3_3  = 0.842427899277\n",
      "t4  = 0.20, u1_4  = 0.968973934446, u2_4  = -0.430814807944, u3_4  = 0.785099004915\n",
      "t5  = 0.25, u1_5  = 0.947433194049, u2_5  = -0.551403780482, u3_5  = 0.725580170285\n",
      "t6  = 0.30, u1_6  = 0.919863005025, u2_6  = -0.677177981853, u3_6  = 0.664007239748\n",
      "t7  = 0.35, u1_7  = 0.886004105932, u2_7  = -0.808157012862, u3_7  = 0.600521149118\n",
      "t8  = 0.40, u1_8  = 0.845596255289, u2_8  = -0.944363973018, u3_8  = 0.535267566392\n",
      "t9  = 0.45, u1_9  = 0.798378056638, u2_9  = -1.085826255547, u3_9  = 0.468396518745\n",
      "t10 = 0.50, u1_10 = 0.744086743861, u2_10 = -1.232576376928, u3_10 = 0.400062006639\n",
      "t11 = 0.55, u1_11 = 0.682457925014, u2_11 = -1.384652841191, u3_11 = 0.330421605911\n",
      "t12 = 0.60, u1_12 = 0.613225282955, u2_12 = -1.542101039228, u3_12 = 0.259636058767\n",
      "t13 = 0.65, u1_13 = 0.536120230993, u2_13 = -1.704974183415, u3_13 = 0.187868854599\n",
      "t14 = 0.70, u1_14 = 0.450871521822, u2_14 = -1.873334277866, u3_14 = 0.115285801599\n",
      "t15 = 0.75, u1_15 = 0.357204807929, u2_15 = -2.047253124704, u3_15 = 0.042054590134\n",
      "t16 = 0.80, u1_16 = 0.254842151694, u2_16 = -2.226813366762, u3_16 = -0.031655651093\n",
      "t17 = 0.85, u1_17 = 0.143501483356, u2_17 = -2.412109567196, u3_17 = -0.105674805102\n",
      "t18 = 0.90, u1_18 = 0.022896004996, u2_18 = -2.603249326556, u3_18 = -0.179832221866\n",
      "t19 = 0.95, u1_19 = -0.107266461332, u2_19 = -2.800354437922, u3_19 = -0.253957177674\n",
      "t20 = 1.00, u1_20 = -0.247284183228, u2_20 = -3.003562080787, u3_20 = -0.327879337573\n",
      "t21 = 1.05, u1_21 = -0.397462287267, u2_21 = -3.213026054471, u3_21 = -0.401429219835\n",
      "t22 = 1.10, u1_22 = -0.558113589991, u2_22 = -3.428918051914, u3_22 = -0.474438661374\n",
      "t23 = 1.15, u1_23 = -0.729559492586, u2_23 = -3.651428974809, u3_23 = -0.546741283072\n",
      "t24 = 1.20, u1_24 = -0.912130941327, u2_24 = -3.880770291149, u3_24 = -0.618172953927\n",
      "t25 = 1.25, u1_25 = -1.106169455884, u2_25 = -4.117175436356, u3_25 = -0.688572252998\n",
      "t26 = 1.30, u1_26 = -1.312028227702, u2_26 = -4.360901259308, u3_26 = -0.757780928077\n",
      "t27 = 1.35, u1_27 = -1.530073290668, u2_27 = -4.612229514685, u3_27 = -0.825644350072\n",
      "t28 = 1.40, u1_28 = -1.760684766402, u2_28 = -4.871468403221, u3_28 = -0.892011962074\n",
      "t29 = 1.45, u1_29 = -2.004258186563, u2_29 = -5.138954161586, u3_29 = -0.956737722096\n",
      "t30 = 1.50, u1_30 = -2.261205894642, u2_30 = -5.415052703774, u3_30 = -1.019680538526\n",
      "t31 = 1.55, u1_31 = -2.531958529831, u2_31 = -5.700161316076, u3_31 = -1.080704697311\n",
      "t32 = 1.60, u1_32 = -2.816966595635, u2_32 = -5.994710407844, u3_32 = -1.139680279949\n",
      "t33 = 1.65, u1_33 = -3.116702116027, u2_33 = -6.299165320501, u3_33 = -1.196483571387\n",
      "t34 = 1.70, u1_34 = -3.431660382052, u2_34 = -6.614028197418, u3_34 = -1.250997456945\n",
      "t35 = 1.75, u1_35 = -3.762361791923, u2_35 = -6.939839917488, u3_35 = -1.303111807429\n",
      "t36 = 1.80, u1_36 = -4.109353787797, u2_36 = -7.277182095493, u3_36 = -1.352723851633\n",
      "t37 = 1.85, u1_37 = -4.473212892572, u2_37 = -7.626679152544, u3_37 = -1.399738535464\n",
      "t38 = 1.90, u1_38 = -4.854546850199, u2_38 = -7.989000460176, u3_38 = -1.444068866965\n",
      "t39 = 1.95, u1_39 = -5.253996873208, u2_39 = -8.364862561894, u3_39 = -1.485636246569\n",
      "t40 = 2.00, u1_40 = -5.672240001303, u2_40 = -8.755031476292, u3_40 = -1.524370781938\n"
     ]
    }
   ],
   "source": [
    "\n",
    "we2 = ed2.sis_euler()"
   ]
  },
  {
   "cell_type": "markdown",
   "metadata": {},
   "source": [
    "Según el método de Euler:\n",
    "\n",
    "$$\\begin{split}\n",
    "    u_1(2) & = -5.672240001303 \\\\\n",
    "    u_2(2) & = -8.755031476292 \\\\ \n",
    "    u_3(2) & = -1.524370781938 \\\\  \n",
    "\\end{split}$$"
   ]
  },
  {
   "cell_type": "markdown",
   "metadata": {},
   "source": [
    "##### **3.3.2. Método de Runge-Kutta**"
   ]
  },
  {
   "cell_type": "code",
   "execution_count": 7,
   "metadata": {},
   "outputs": [
    {
     "name": "stdout",
     "output_type": "stream",
     "text": [
      "t_0 = 0.00, u1_0 = 1.000000000000, u2_0 = 0.000000000000, u3_0 = 1.000000000000\n",
      "t1  = 0.05, u1_1  = 0.997458328966, u2_1  = -0.102499998910, u3_1  = 0.948771097578\n",
      "t2  = 0.10, u1_2  = 0.989666655569, u2_2  = -0.210000156236, u3_2  = 0.895170762068\n",
      "t3  = 0.15, u1_3  = 0.976374955840, u2_3  = -0.322501276682, u3_3  = 0.839332966398\n",
      "t4  = 0.20, u1_4  = 0.957333135494, u2_4  = -0.440005482664, u3_4  = 0.781397275977\n",
      "t5  = 0.25, u1_5  = 0.932290946600, u2_5  = -0.562516917443, u3_5  = 0.721508499861\n",
      "t6  = 0.30, u1_6  = 0.900997868305, u2_6  = -0.690042479530, u3_6  = 0.659816328805\n",
      "t7  = 0.35, u1_7  = 0.863202950065, u2_7  = -0.822592588394, u3_7  = 0.596474961109\n",
      "t8  = 0.40, u1_8  = 0.818654615795, u2_8  = -0.960181981500, u3_8  = 0.531642717208\n",
      "t9  = 0.45, u1_9  = 0.767100427394, u2_9  = -1.102830542771, u3_9  = 0.465481643953\n",
      "t10 = 0.50, u1_10 = 0.708286806053, u2_10 = -1.250564162534, u3_10 = 0.398157109573\n",
      "t11 = 0.55, u1_11 = 0.641958709774, u2_11 = -1.403415629109, u3_11 = 0.329837390350\n",
      "t12 = 0.60, u1_12 = 0.567859265527, u2_12 = -1.561425552169, u3_12 = 0.260693250006\n",
      "t13 = 0.65, u1_13 = 0.485729354423, u2_13 = -1.724643318111, u3_13 = 0.190897512889\n",
      "t14 = 0.70, u1_14 = 0.395307148329, u2_14 = -1.893128077667, u3_14 = 0.120624632003\n",
      "t15 = 0.75, u1_15 = 0.296327596280, u2_15 = -2.066949766077, u3_15 = 0.050050252960\n",
      "t16 = 0.80, u1_16 = 0.188521859064, u2_16 = -2.246190156187, u3_16 = -0.020649225035\n",
      "t17 = 0.85, u1_17 = 0.071616690323, u2_17 = -2.430943944929, u3_17 = -0.091297090096\n",
      "t18 = 0.90, u1_18 = -0.054666237521, u2_18 = -2.621319873662, u3_18 = -0.161716759338\n",
      "t19 = 0.95, u1_19 = -0.190611064212, u2_19 = -2.817441883004, u3_19 = -0.231732220247\n",
      "t20 = 1.00, u1_20 = -0.336508531225, u2_20 = -3.019450302806, u3_20 = -0.301168470618\n",
      "t21 = 1.05, u1_21 = -0.492656831722, u2_21 = -3.227503078062, u3_21 = -0.369851955968\n",
      "t22 = 1.10, u1_22 = -0.659362522723, u2_22 = -3.441777031627, u3_22 = -0.437611003331\n",
      "t23 = 1.15, u1_23 = -0.836941501354, u2_23 = -3.662469164728, u3_23 = -0.504276250355\n",
      "t24 = 1.20, u1_24 = -1.025720047082, u2_24 = -3.889797996387, u3_24 = -0.569681068616\n",
      "t25 = 1.25, u1_25 = -1.226035931928, u2_25 = -4.124004942966, u3_25 = -0.633661980101\n",
      "t26 = 1.30, u1_26 = -1.438239600683, u2_26 = -4.365355739233, u3_26 = -0.696059065822\n",
      "t27 = 1.35, u1_27 = -1.662695423247, u2_27 = -4.614141902425, u3_27 = -0.756716365527\n",
      "t28 = 1.40, u1_28 = -1.899783021281, u2_28 = -4.870682240995, u3_28 = -0.815482267521\n",
      "t29 = 1.45, u1_29 = -2.149898671453, u2_29 = -5.135324409863, u3_29 = -0.872209887613\n",
      "t30 = 1.50, u1_30 = -2.413456787646, u2_30 = -5.408446514147, u3_30 = -0.926757436253\n",
      "t31 = 1.55, u1_31 = -2.690891484616, u2_31 = -5.690458763577, u3_31 = -0.978988572932\n",
      "t32 = 1.60, u1_32 = -2.982658225676, u2_32 = -5.981805179933, u3_32 = -1.028772746960\n",
      "t33 = 1.65, u1_33 = -3.289235557144, u2_33 = -6.282965360082, u3_33 = -1.075985523773\n",
      "t34 = 1.70, u1_34 = -3.611126932381, u2_34 = -6.594456297395, u3_34 = -1.120508895960\n",
      "t35 = 1.75, u1_35 = -3.948862628422, u2_35 = -6.916834264538, u3_35 = -1.162231578215\n",
      "t36 = 1.80, u1_36 = -4.303001758351, u2_36 = -7.250696760866, u3_36 = -1.201049285495\n",
      "t37 = 1.85, u1_37 = -4.674134382731, u2_37 = -7.596684527908, u3_37 = -1.236864993676\n",
      "t38 = 1.90, u1_38 = -5.062883723589, u2_38 = -7.955483636679, u3_38 = -1.269589182062\n",
      "t39 = 1.95, u1_39 = -5.469908484644, u2_39 = -8.327827650815, u3_39 = -1.299140057144\n",
      "t40 = 2.00, u1_40 = -5.895905281674, u2_40 = -8.714499869831, u3_40 = -1.325443757036\n"
     ]
    }
   ],
   "source": [
    "wrk2 = ed2.sis_RK4()"
   ]
  },
  {
   "cell_type": "markdown",
   "metadata": {},
   "source": [
    "Según el método de Runge-Kutta:\n",
    "\n",
    "$$\\begin{split}\n",
    "    u_1(2) & = -5.895905281674 \\\\\n",
    "    u_2(2) & = -8.714499869831 \\\\ \n",
    "    u_3(2) & = -1.325443757036 \\\\  \n",
    "\\end{split}$$"
   ]
  },
  {
   "cell_type": "markdown",
   "metadata": {},
   "source": [
    "#### **4. Análisis de resultados**\n",
    "\n",
    "En el problema N°1 realizando una comparación del método de Euler y el de Runge-Kutta para la resolución de una ecuación diferencial ordinaria, se obtuvieron resultados aproximadamente iguales en el orden decimal de los $10^{-3}$ para la función evaluada $y(t_0)$ con $t_0$ dentro del intervalo dado. Cabe señalar el error del resultado respecto a la solución hallada con la libreria sympy de python con respecto al método de Runge-Kutta $|y_{sympy}(2) - y_{RK4}(2)| = 0.054345506613 - 0.048051751405 = 0.006293755208$\n",
    "\n",
    "Para el problema N°2 también se realizó una comparación del método de Euler y el de Runge-Kutta para la resolución de un sistema de ecuaciones diferenciales ordinarias, donde las variables dependientes corresponden a $u_1$, $u_2$ y $u_3$. Por consiguiente, se obtuvieron resultados aproximadamente iguales en el orden decimal de los $10^{-1}$ para la función evaluada $u_i(t_0), \\; \\forall \\; i = 1,2,3$ con $t_0$ dentro del intervalo dado.\n"
   ]
  },
  {
   "cell_type": "markdown",
   "metadata": {},
   "source": [
    "#### **5. Conclusión**\n",
    "\n",
    "Debido al proceso numérico que se realizó en el programa EDO y observando los resultados obtenidos y el menor error, se puede deducir que el método de Runge-Kutta es una mejor aproximación a la solución deseada respecto al método de Euler, sin embargo para grandes intervalos con divisiones en el orden de los millones se puede obterner una estimación por el método de Euler, ya que utiliza procesos más rápidos. Por otra parte hay que considerar que a medida que el punto a evaluar se aleja de la condición inicial la aproximación va alejandose considerablemente del resultado deseado.\n",
    "\n",
    "Los Métodos analizados anteriormente son factibles a la hora de resolver un sistema de ecuaciones diferenciales ordinarias, no obstante, es recomendable utilizar notaciones vectoriales para estos casos."
   ]
  },
  {
   "cell_type": "markdown",
   "metadata": {},
   "source": [
    "#### **6. Referencias**\n",
    "\n",
    "[1] **Analisis Numérico**, *Richard L. Burden • Douglas J. Faires • Annette M. Burden*, 10ma edición\n",
    "\n",
    "[2] **Métodos Numéricos con Python**, *Ovalle D., Bernal M., Posada J.*, Editorial Politecnico Grancolombiano, (2021).\n"
   ]
  }
 ],
 "metadata": {
  "kernelspec": {
   "display_name": "Python 3.7.6 32-bit",
   "language": "python",
   "name": "python3"
  },
  "language_info": {
   "codemirror_mode": {
    "name": "ipython",
    "version": 3
   },
   "file_extension": ".py",
   "mimetype": "text/x-python",
   "name": "python",
   "nbconvert_exporter": "python",
   "pygments_lexer": "ipython3",
   "version": "3.7.6"
  },
  "orig_nbformat": 4,
  "vscode": {
   "interpreter": {
    "hash": "788400b204fe04ac0104141e50cea79f99506ff2986f70a747d8d3a42cb0b336"
   }
  }
 },
 "nbformat": 4,
 "nbformat_minor": 2
}
