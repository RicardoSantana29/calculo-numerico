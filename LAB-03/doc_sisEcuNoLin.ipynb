{
 "cells": [
  {
   "cell_type": "markdown",
   "metadata": {},
   "source": [
    "#### <center>Programa: sisEcuNoLin (sistema de ecuaciones no lineales)<center>\n",
    "#### <center>por: Ricardo Santana<center>"
   ]
  },
  {
   "cell_type": "markdown",
   "metadata": {},
   "source": [
    "### A. Introducción\n",
    "\n",
    "El código proporcionado la funcion SENL que implementa el método de Newton-Raphson para resolver un sistema de ecuaciones no lineales, utilizando como herramienta la función jacobiano."
   ]
  },
  {
   "cell_type": "markdown",
   "metadata": {},
   "source": [
    "### B. SENL\n",
    "\n",
    "#### Entrada:\n",
    "\n",
    "* Vector inicial **$x0 \\in \\mathbb{R^{n×1}}$**\n",
    "* Vector funciones (definidas en sympy) **$F \\in \\mathbb{R^{n×1}}$**\n",
    "* máximo número de iteraciones **$itera \\in \\mathbb{Z}$**\n",
    "* tolerancia **$tol \\in \\mathbb{R}$**\n",
    "\n",
    "#### Salida:\n",
    "\n",
    "* Vector **$x0 \\in \\mathbb{R^{n×1}}$**, resultado del sistema **F = 0**\n",
    "* String 'numero de ecuaciones y variables diferentes' en casos de que el número de ecuaciones e incognitas no coincidan."
   ]
  },
  {
   "cell_type": "markdown",
   "metadata": {},
   "source": [
    "### C. Definición de la función jacobiano(F, var)\n",
    "\n",
    "La función jacobiano calcula el jacobiano de un sistema de ecuaciones representado simbólicamente. Toma dos argumentos: F, que es una lista de funciones que representan el sistema de ecuaciones, y var, que es una lista de variables simbólicas del sistema.\n",
    "\n",
    "Dentro de la función, se crea una matriz J de tamaño (len(F), len(var)) utilizando la función zeros de sympy. Luego, se utiliza un bucle for anidado para iterar sobre las funciones fi en F y las variables s en var. En cada iteración, se utiliza la función diff de sympy para calcular la derivada parcial de fi con respecto a s y se asigna el resultado a la posición correspondiente en la matriz J.\n",
    "\n",
    "Finalmente, la función devuelve la matriz J como resultado."
   ]
  },
  {
   "cell_type": "markdown",
   "metadata": {},
   "source": [
    "### D. Programa\n",
    "\n",
    "1. Se convierte el vector x0 en un array de numpy utilizando la función array de numpy.\n",
    "\n",
    "2. Se verifica si la longitud de x0 es igual a la longitud de F. Si no son iguales, se devuelve un mensaje de error indicando que el número de ecuaciones y variables es diferente y que el sistema no se puede resolver.\n",
    "\n",
    "3. Se crea una cadena de caracteres letras que representa las variables simbólicas del sistema. La cadena se construye concatenando las letras 'x' seguidas de un número que va desde 1 hasta la longitud de x0.\n",
    "\n",
    "4. Se utiliza la función symbols de sympy para crear una lista de variables simbólicas a partir de la cadena letras.\n",
    "\n",
    "5. Se crea una matriz F utilizando la función Matrix de sympy y la lista de funciones F.\n",
    "\n",
    "6. Se utiliza la función lambdify de sympy para convertir las funciones simbólicas en funciones numéricas que pueden ser evaluadas por numpy. Se crea una función F0 que toma como argumentos las variables simbólicas y devuelve el valor numérico de F.\n",
    "\n",
    "7. Se llama a la función jacobiano para calcular el jacobiano del sistema de ecuaciones y se asigna el resultado a la variable J.\n",
    "\n",
    "8. Se utiliza la función lambdify para convertir el jacobiano simbólico en una función numérica J0 que puede ser evaluada por numpy.\n",
    "\n",
    "9. Se inicializa una variable k con el valor 1 para contar el número de iteraciones.\n",
    "\n",
    "10. Se inicia un bucle while que se ejecuta mientras k sea menor o igual a itera.\n",
    "\n",
    "11. Dentro del bucle, se utiliza un bloque try-except para manejar sistemas con diferentes números de variables. En el bloque try, se evalúan las funciones F0 y J0 utilizando los valores actuales de x0. En el bloque except, se evalúan las funciones F0 y J0 con los valores correspondientes de x0.\n",
    "\n",
    "12. Se utiliza la función solve de numpy para resolver el sistema de ecuaciones lineales J_x * y = -F_x, donde J_x es el jacobiano evaluado en x0 y F_x es el sistema de ecuaciones evaluado en x0. El resultado y es un vector que representa la corrección a x0 en cada iteración.\n",
    "\n",
    "13. Se actualiza x0 sumándole y.\n",
    "\n",
    "14. Se verifica si la norma del vector y es menor que la tolerancia tol. Si es así, se devuelve x0 como resultado.\n",
    "\n",
    "15. Se incrementa k en 1.\n",
    "\n",
    "16. Si el bucle while termina sin alcanzar la condición de convergencia, se imprime un mensaje indicando que se ha excedido el número máximo de iteraciones.\n",
    "\n",
    "17. Finalmente, se devuelve x0 como resultado."
   ]
  },
  {
   "cell_type": "markdown",
   "metadata": {},
   "source": [
    "### D. Código"
   ]
  },
  {
   "cell_type": "code",
   "execution_count": null,
   "metadata": {},
   "outputs": [],
   "source": [
    "import numpy as np\n",
    "import sympy as sp\n",
    "\n",
    "def jacobiano(F, var):\n",
    "    J = sp.zeros(len(F),len(var))\n",
    "    for i, fi in enumerate(F):\n",
    "        for j, s in enumerate(var):\n",
    "            J[i,j] = sp.diff(fi, s)\n",
    "    return J\n",
    "\n",
    "def SENL(x0, F, itera, tol):\n",
    "    x0 = np.array(x0)\n",
    "\n",
    "    if len(x0) != len(F):\n",
    "        return 'numero de ecuaciones y variables diferentes, el sistema no se puede resolver'\n",
    "    \n",
    "    letras = ''\n",
    "    for i in range(len(x0)):\n",
    "        letras += f'x{i+1} '\n",
    "    var = sp.symbols(letras)\n",
    "\n",
    "    F = sp.matrices.Matrix(F)\n",
    "\n",
    "    F0 = sp.lambdify([i for i in var], F, 'numpy')\n",
    "\n",
    "    J = jacobiano(F, var)\n",
    "\n",
    "    J0 = sp.lambdify([i for i in var], J, 'numpy')\n",
    "\n",
    "    k = 1\n",
    "    while k <= itera:\n",
    "\n",
    "        try: #sistema con tres variables\n",
    "            F_x = F0(x0[0], x0[1], x0[2]) #agregar x[n] donde n es el numero de elementos de x0\n",
    "            J_x = J0(x0[0], x0[1], x0[2])\n",
    "        except: #sistema con dos variables\n",
    "            F_x = F0(x0[0], x0[1]) #agregar x[n] donde n es el numero de elementos de x0\n",
    "            J_x = J0(x0[0], x0[1])\n",
    "\n",
    "        y = np.linalg.solve(J_x, -F_x).reshape(1,len(x0))[0]\n",
    "        x0 = x0 + y\n",
    "        #print(x0)\n",
    "        if np.linalg.norm(y) < tol:\n",
    "            return x0\n",
    "        k += 1\n",
    "    print('Número máximo de iteraciones excedido')\n",
    "\n",
    "    return x0"
   ]
  }
 ],
 "metadata": {
  "kernelspec": {
   "display_name": "Python 3.7.6 32-bit",
   "language": "python",
   "name": "python3"
  },
  "language_info": {
   "name": "python",
   "version": "3.7.6"
  },
  "orig_nbformat": 4,
  "vscode": {
   "interpreter": {
    "hash": "788400b204fe04ac0104141e50cea79f99506ff2986f70a747d8d3a42cb0b336"
   }
  }
 },
 "nbformat": 4,
 "nbformat_minor": 2
}
