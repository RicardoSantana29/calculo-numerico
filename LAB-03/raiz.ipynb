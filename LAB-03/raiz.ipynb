{
 "cells": [
  {
   "cell_type": "markdown",
   "metadata": {},
   "source": [
    "### **Universidad Central de Venezuela**\n",
    "### **Facultad de Ingeniería**\n",
    "### **Escuela de Ingeniería Eléctrica**\n",
    "## <center>**Laboratorio N°3**<center>\n",
    "\n",
    "<div style='text-align: right;'>\n",
    "    <h4>Periodo 2023-3</h4>\n",
    "    <i>29/01/2023<br>CI 29571461 Ricardo Santana</i>\n",
    "</div>\n",
    "\n",
    "### **1. Introducción**\n",
    "\n",
    "Gracias a la matemática es posible representar modelos que describan el comportamiento de algunos de los fenomenos de la naturaleza, no obstante muchos de estos modelos son construidos con funciones no lineales, como las trigonometricas, las logaritmicas, las exponenciales, etc; lo cual dificulta en parte los cálculos necesarios para llegar a cierta hipótesis. Sin embargo gracias los procesadores modernos es posible obtener una aproximación razonable y que, a través de diversos métodos numéricos que pueden ser programados, se puede utilizar con fines práticos.   \n",
    "\n",
    "Uno de los cálculos más realizados en una función es la búsqueda de sus raíces, es decir, cuando la función se aproxima a cero, utilizado por ejemplo en la optimización. En la actualidad exiten diversos métodos númericos para resolver ésta problemática, de los cuales se presentarán los métodos de bisección, de Newton, de la secante y a través de punto fijo.\n",
    "\n",
    "Por otra parte, así como es posible obtener un sistema de ecuaciones lineales, también puede existir la posibilidad de obtener uno no lineal, entonces surge la necesidad de reponder la siguiente interrogante ¿Es posible calcular una solución razonable?; utilizando métodos numericos sí. Éstos últimos, como el de Newton, aproximan a través de iteraciones un resultado con errores que pueden considerarse despreciables dependiendo el uso que se le vaya a dar."
   ]
  },
  {
   "cell_type": "markdown",
   "metadata": {},
   "source": [
    "### **2. Marco teórico**\n",
    "\n",
    "#### **2.1 Biseccion [1]**\n",
    "\n",
    "El método de bisección se basa en el teorema del valor intermedio, que en una de sus\n",
    "versiones establece:\n",
    "\n",
    "**Teorema 1**. Si $f : [a, b] \\rightarrow \\mathbb{R}$ es una función continua y $f(a)f(b) < 0$, entonces existe $c \\in (a, b)$ tal que $f(c) = 0$.\n",
    "\n",
    "Ahora, si $f : [a, b] \\rightarrow \\mathbb{R}$ es una función continua y $f(a)f(b) < 0$, por el teorema del valor intermedio se conoce que existe al menos una solución de la ecuación $f(x) = 0$, y es posible aplicar el siguiente procedimiento, denominado método de bisección, para determinar dicha solución.\n",
    "\n",
    "1. Definir $a_0 = a$ y $b_0 = b$.\n",
    "2. Calcular el punto medio $c_0$ del intervalo $[a_0, b_0]$, es decir, $c_0 =\\frac{(a_0 + b_0)}{2}$\n",
    "  \n",
    "    a) Si $f(c_0) = 0$. entonces c0 es un cero de la función, y por lo tanto una solución al problema. Terminar el procedimiento.\n",
    "    b) Si $f(a_0).f(c_0) > 0$, entonces existe un cero de la función en el intervalo (c_0, b0).Seleccionar este intervalo y definir $a_1 = c_0$ y $b_1 = b_0$.\n",
    "    c) $Si f(a_0).f(c_0) < 0$, existe un cero de la función en el intervalo $(a_0, c_0)$. Seleccionar este intervalo y definir $a_1 = a_0$ y $b_1 = c_0$.\n",
    "\n",
    "    Nota: observar que ninguno de los tres casos mencionados arriba se puede dar\n",
    "    simultáneamente. Además, si la situación es la del caso b), donde se tiene seguridad\n",
    "    que hay un cero de la función en el intervalo $(c_0, b_0)$, esto no descarta que pueda\n",
    "    existir otra raíz en el intervalo $(a_0, c_0)$.\n",
    "3. Repetir el procedimiento con el nuevo intervalo $[a_1, b_1]$.\n",
    "\n",
    "#### **2.2 Metodo de Newton [1]**\n",
    "\n",
    "Este método se basa en elementos del cálculo diferencial y su interpretación gráfica. Es uno de los métodos más eficientes para determinar, con una precisión deseada, una aproximación de la solución de la ecuación $f(x) = 0$.\n",
    "\n",
    "Se puede interpretar el método de Newton de la siguiente manera:\n",
    "\n",
    "1. Seleccionar un punto inicial (semilla) $p_0$.\n",
    "2. Calcular la ecuación de la recta tangente a la curva $f(x)$ que pasa por el punto\n",
    "$(p_0, f(p_0))$.\n",
    "3. Determinar el corte con el eje x de la recta tangente y nombrar como $p_1$.\n",
    "4. Si $f(p_1) \\neq 0$ repetir los pasos 2, 3 y 4 para $p_1$.\n",
    "\n",
    "Ahora, la ecuación de la recta tangente a la curva $y = f(x)$ que pasa por el punto $(p_0, f(p_0))$ tiene como pendiente $m = f'(p_0)$ y corresponde a $y=f'(p_0)x + [f(p_0) − f'(p_0)p_0]$.\n",
    "\n",
    "Para calcular el cero de esta recta se reemplaza y por cero $0 = f'(p_0)x + f(p_0) − f'(p_0)p_0$ y al despejar x, se tiene $x = p_0 −\\frac{f(p_0)}{f'(p_0)}$. Dicho valor de x se nombra como $p_1$ y por tanto:\n",
    "$p_1 = p_0 −\\frac{f(p_0)}{f'(p_0)}$.\n",
    "\n",
    "Si se repite el proceso, pero ahora con el punto $(p_1, f(p_1))$, se obtiene:\n",
    "$p_2 = p_1 −\\frac{f(p_1)}{f'(p_1)}$.\n",
    "\n",
    "Repitiendo ahora con $(p_2, f(p_2))$\n",
    "$p_3 = p_2 −\\frac{f(p_2)}{f'(p_2)}$\n",
    ",\n",
    "y finalmente, en la n-ésima iteración\n",
    "$p_n = p_{n-1} −\\frac{f(p_{n-1})}{f'(p_{n−1})}$\n",
    "\n",
    "##### **2.2.1 Convergencia con el método de Newton [2]**\n",
    "\n",
    "La derivación del método de Newton por medio de la serie de Taylor al inicio de la sección señala la importancia de una aproximación inicial precisa. La suposición crucial es que el término relacionado con $(p - p_0)^2$ es, en comparación con $|p − p_0|$, tan pequeño que se puede eliminar. Claramente esto será falso a menos que $p_0$ sea una buena aproximación para $p$. Si $p_0$ no está suficientemente cerca de la raíz real, existen pocas razones para sospechar que el método de Newton convergerá en la raíz. Sin embargo, en algunos casos, incluso las malas aproximaciones iniciales producirán convergencia.\n",
    "\n",
    "**Teorema 2**. Sea $f ∈ C^2[a, b]$. Si $p ∈ (a, b)$ es tal que $f(p) = 0$ y $f'(p) = 0$, entonces existe una $\\delta > 0$ tal que el método de Newton genera una sucesión ${\\{pn\\}}_{n=1}^{\\infty}$ que converge a $p$ para cualquier aproximación inicial $p_0 ∈ [p - \\delta , p + \\delta]$.\n",
    "\n",
    "#### **2.3 Metodo de la secante [1]**\n",
    "\n",
    "Aunque el método de Newton-Raphson es uno de los más eficientes para determinar una solución de la ecuación $f(x) = 0$, la necesidad de conocer $f'(x)$ representa una de sus mayores debilidades, pues el cálculo de la derivada requiere y representa más operaciones por realizar. Una manera de evitar el problema de calcular la derivada, es recordar que\n",
    "\n",
    "$$f'(p_{n-1})=\\lim_{x\\rightarrow p_{n-1}}\\frac{f(x)-f(p_{n-1})}{x-p_{n-1}}$$\n",
    "\n",
    "y dado que $p_{n-2}$ se encuentra cerca de $p_{n-1}$ en caso de ser convergente el método de Newton-Raphson, entonces es posible aproximar $f'(p_{n-1})$ por\n",
    "\n",
    "$$f'(p_{n-1}) ≈\\frac{f(p_{n-2}) − f(p_{n-1})}{p_{n-2} − p_{n-1}}$$\n",
    "\n",
    "Al sustituir en la fórmula de iteración de Newton-Raphson, se obtiene\n",
    "\n",
    "$$p_n = p_{n-1} − \\frac{f(p_{n-1}).(p_{n-1} − p_{n-2})}{f(p_{n-1}) − f(p_{n-2})}$$\n",
    "\n",
    "#### **2.4 Metodo de punto fijo [1]**\n",
    "\n",
    "Desde la antigua Babilonia es conocido el siguiente método para calcular $\\sqrt{A}$:\n",
    "\n",
    "1. Seleccionar $x_0$ cercano a $\\sqrt{A}$.\n",
    "2. Calcular $x_{n+1} ={1 \\over 2}(x_n +\\frac{A}{x_n})$ para n > 0.\n",
    "\n",
    "Este método es eficiente y uno de los mejores ejemplos de la técnica que se desarrolla en\n",
    "esta sección para aproximar soluciones de ecuaciones. Aunque existen muchas técnicas\n",
    "numéricas que dan solución a la ecuación $f(x) = 0$, tal vez una de las más famosas es el\n",
    "llamado método del punto fijo, un procedimiento para aproximar la solución de la ecuación\n",
    "$x = g(x)$. Para comprender este método, es necesario dar algunas definiciones y ejemplos.\n",
    "\n",
    "**Definición 1**. Un punto fijo de una función $g(x)$ es un valor $c$ tal que $g(c) = c$.\n",
    "\n",
    "**Teorema 3**. Sean $[a, b] \\subseteq \\mathbb{R}$ y $g : [a, b] \\rightarrow [a, b]$ una función continua. Entonces $g$ tiene un punto fijo en $[a, b]$.\n",
    "\n",
    "Ahora, para calcular una aproximación de un punto fijo de una función $g$ es posible aplicar\n",
    "el siguiente procedimiento:\n",
    "1. Seleccionar un punto inicial $p_0$.\n",
    "2. Calcular $g(p_0)$ y nombrarlo como $p_1$.\n",
    "3. Si $g(p_1) \\neq p_1$, repetir los pasos 2 y 3 para $p_1$.\n",
    "\n",
    "**Teorema 4**. Sean $g : [a, b] \\rightarrow [a, b]$ una función continua, $s \\in [a, b]$ tal que $g(s) = s$ y\n",
    "$|g'(x)| \\leq α < 1$, donde $x \\in (a, b)$ y $\\alpha$ es constante. Sea $p_0 \\in [a, b]$. Entonces la sucesión\n",
    "${\\{p_n\\}}_{n=0}^{\\infty}$ dada por $p_{n+1} = g(p_n)$ es tal que $p_n \\rightarrow s$ cuando $n \\rightarrow \\infty$.\n",
    "\n",
    "#### **2.5 Análisis de error para métodos iterativos [2]**\n",
    "\n",
    "##### **2.5.1 Orden de convergencia**\n",
    "\n",
    "Suponga que ${\\{p_n\\}}_{n=0}^{\\infty} = 0$ es una sucesión que converge a $p$, con $p_n \\neq p$ para todas las n. Si existen constantes positivas $λ$ y $α$ con\n",
    "\n",
    "$$\\lim_{n \\to \\infty}\\frac{|p_{n+1}-p|}{{|p_n-p|}^\\alpha} = \\lambda$$\n",
    "\n",
    "Entonces ${\\{p_n\\}}_{n=0}^{\\infty} = 0$ converge a $p$ de orden $\\alpha$, con constante de error asintótica $\\lambda$.\n",
    "\n",
    "Se dice que una técnica iterativa de la forma $p_n = g(p_{n−1})$ es de orden $α$ si la sucesión\n",
    "${\\{p_n\\}}_{n=0}^{\\infty} = 0$ converge a la solución $p = g(p)$ de orden $α$.\n",
    "\n",
    "En general, una sucesión con un alto orden converge más rápidamente que una sucesión\n",
    "con un orden más bajo. La constante asintótica afecta la velocidad de convergencia pero no\n",
    "el grado del orden. Se presta atención especial a dos casos:\n",
    "\n",
    "1. Si $α = 1 (y \\; λ < 1)$, la sucesión es linealmente convergente.\n",
    "2. Si $α = 2$, la sucesión es cuadráticamente convergente.\n",
    "\n",
    "#### **2.6 seudocódigo: Método de Newton para sistemas [2]**\n",
    "\n",
    "Para aproximar la solución del sistema no lineal **$F(x) = 0$**, dada una aproximación inicial **$x$**:\n",
    "\n",
    "ENTRADA número $n$ de ecuaciones y valores desconocidos; aproximación inicial **$x$**$= (x_1,...,x_n)^t$, tolerancia TOL; número máximo de iteraciones N.\n",
    "\n",
    "SALIDA solución aproximada **$x$**$= (x_1,...,x_n)^t$ o un mensaje que indica que se excedió el número de iteraciones.\n",
    "\n",
    "Paso 1 Determine $k = 1$.\n",
    "\n",
    "Paso 2 Mientras $(k \\leq N)$ haga los pasos 3-7.\n",
    "\n",
    "Pase 3 Calcule **$F(x)$** y **$J(x)$**, donde **$J(x)$**$_{i,j} = \\frac{\\partial f_i(x)}{\\partial x_j}$ para $1 \\leq i,j \\leq n$.\n",
    "\n",
    "Paso 4 Resuelva el sistema lineal $n \\times n$ **$J(x)y = -F(x)$**.\n",
    "\n",
    "Paso 5 Determine **$x = x + y$**\n",
    "\n",
    "Paso 6 Si $||y|| < TOL$ entonces SALIDA $(x)$; (*El procedimiento fue exitoso.*) PARE.\n",
    "\n",
    "Paso 7 Determine $k = k+1$\n",
    "\n",
    "Paso 8 SALIDA ('Número máximo de iteraciones excedido'); (*El procedimiento no fue exitoso.*) PARE.\n"
   ]
  },
  {
   "cell_type": "markdown",
   "metadata": {},
   "source": [
    "### **3 Práctica**\n",
    "\n",
    "Herramientas a utilizar:"
   ]
  },
  {
   "cell_type": "code",
   "execution_count": 1,
   "metadata": {},
   "outputs": [
    {
     "name": "stdout",
     "output_type": "stream",
     "text": [
      "[3.78686414 4.85424866]\n"
     ]
    }
   ],
   "source": [
    "#importando librerias necesarias\n",
    "import math as mt\n",
    "import sympy as sp\n",
    "import numpy as np\n",
    "from sympy.plotting import plot as  plt\n",
    "\n",
    "#importando programas diseñados\n",
    "from cerosDeFunciones import *\n",
    "from sisEcuNoLin import *\n",
    "from funciones import *\n",
    "\n",
    "#funciones definidas para el problema test\n",
    "def trig(x):\n",
    "    return mt.cos(x) - x\n",
    "\n",
    "def trigPrima(x):\n",
    "    return -mt.sin(x) - 1\n",
    "\n",
    "def trigPuntoFijo(x):\n",
    "    return mt.cos(x)\n",
    "\n",
    "def trigPuntoFijoPrima(x):\n",
    "    return -mt.sin(x)\n",
    "\n",
    "#funciones definidas para el problema 1\n",
    "def exp(x):\n",
    "    return mt.exp(x)-2-x\n",
    "\n",
    "def expPrima(x):\n",
    "    return mt.exp(x)-1\n",
    "\n",
    "def expPuntoFijo(x):\n",
    "    return mt.exp(x)-2\n",
    "\n",
    "def expPuntoFijoPrima(x):\n",
    "    return mt.exp(x)"
   ]
  },
  {
   "cell_type": "markdown",
   "metadata": {},
   "source": [
    "#### **3.1 Problema Test**\n",
    "\n",
    "Se hallará la raíz de la función:\n",
    "\n",
    "$$f_1(x) = cos(x) - x$$"
   ]
  },
  {
   "cell_type": "code",
   "execution_count": 2,
   "metadata": {},
   "outputs": [],
   "source": [
    "#función dentro del programa funciones definida como trig(x)\n",
    "\n",
    "#intancia utilizada para el problema test\n",
    "iteraciones = 50\n",
    "tolerancia = 1e-9\n",
    "aproxInic = 0.5 \n",
    "test = zero(trig, trigPrima, iteraciones, tolerancia, aproxInic)"
   ]
  },
  {
   "cell_type": "markdown",
   "metadata": {},
   "source": [
    "##### **3.1.1 Bisección**"
   ]
  },
  {
   "cell_type": "code",
   "execution_count": 3,
   "metadata": {},
   "outputs": [
    {
     "name": "stdout",
     "output_type": "stream",
     "text": [
      "i = 1 , p = 0.000000000000\n",
      "i = 2 , p = 1.000000000000\n",
      "i = 3 , p = 0.500000000000\n",
      "i = 4 , p = 0.750000000000\n",
      "i = 5 , p = 0.625000000000\n",
      "i = 6 , p = 0.687500000000\n",
      "i = 7 , p = 0.718750000000\n",
      "i = 8 , p = 0.734375000000\n",
      "i = 9 , p = 0.742187500000\n",
      "i = 10, p = 0.738281250000\n",
      "i = 11, p = 0.740234375000\n",
      "i = 12, p = 0.739257812500\n",
      "i = 13, p = 0.738769531250\n",
      "i = 14, p = 0.739013671875\n",
      "i = 15, p = 0.739135742188\n",
      "i = 16, p = 0.739074707031\n",
      "i = 17, p = 0.739105224609\n",
      "i = 18, p = 0.739089965820\n",
      "i = 19, p = 0.739082336426\n",
      "i = 20, p = 0.739086151123\n",
      "i = 21, p = 0.739084243774\n",
      "i = 22, p = 0.739085197449\n",
      "i = 23, p = 0.739084720612\n",
      "i = 24, p = 0.739084959030\n",
      "i = 25, p = 0.739085078239\n",
      "i = 26, p = 0.739085137844\n",
      "i = 27, p = 0.739085108042\n",
      "i = 28, p = 0.739085122943\n",
      "i = 29, p = 0.739085130394\n",
      "i = 30, p = 0.739085134119\n",
      "i = 31, p = 0.739085132256\n",
      "i = 32, p = 0.739085133187\n",
      "raíz obtenida por el método de bisección:\n",
      "x =  0.7390851331874728\n",
      "f1(x) =  4.633871064640971e-11\n"
     ]
    }
   ],
   "source": [
    "test.biseccion(-2,2)\n",
    "raizBiseccion = test.p\n",
    "print('raíz obtenida por el método de bisección:')\n",
    "print('x = ', raizBiseccion)\n",
    "print('f1(x) = ', trig(raizBiseccion))"
   ]
  },
  {
   "cell_type": "markdown",
   "metadata": {},
   "source": [
    "##### **3.1.2 Newton**"
   ]
  },
  {
   "cell_type": "code",
   "execution_count": 4,
   "metadata": {},
   "outputs": [
    {
     "name": "stdout",
     "output_type": "stream",
     "text": [
      "i = 1 , p = 0.755222417106\n",
      "i = 2 , p = 0.739141666150\n",
      "i = 3 , p = 0.739085133921\n",
      "i = 4 , p = 0.739085133215\n",
      "i = 5 , p = 0.739085133215\n",
      "i = 6 , p = 0.739085133215\n",
      "i = 7 , p = 0.739085133215\n",
      "i = 8 , p = 0.739085133215\n",
      "i = 9 , p = 0.739085133215\n",
      "i = 10, p = 0.739085133215\n",
      "i = 11, p = 0.739085133215\n",
      "i = 12, p = 0.739085133215\n",
      "i = 13, p = 0.739085133215\n",
      "i = 14, p = 0.739085133215\n",
      "i = 15, p = 0.739085133215\n",
      "i = 16, p = 0.739085133215\n",
      "i = 17, p = 0.739085133215\n",
      "i = 18, p = 0.739085133215\n",
      "i = 19, p = 0.739085133215\n",
      "i = 20, p = 0.739085133215\n",
      "i = 21, p = 0.739085133215\n",
      "i = 22, p = 0.739085133215\n",
      "i = 23, p = 0.739085133215\n",
      "i = 24, p = 0.739085133215\n",
      "i = 25, p = 0.739085133215\n",
      "i = 26, p = 0.739085133215\n",
      "i = 27, p = 0.739085133215\n",
      "i = 28, p = 0.739085133215\n",
      "i = 29, p = 0.739085133215\n",
      "i = 30, p = 0.739085133215\n",
      "i = 31, p = 0.739085133215\n",
      "i = 32, p = 0.739085133215\n",
      "i = 33, p = 0.739085133215\n",
      "i = 34, p = 0.739085133215\n",
      "i = 35, p = 0.739085133215\n",
      "i = 36, p = 0.739085133215\n",
      "i = 37, p = 0.739085133215\n",
      "i = 38, p = 0.739085133215\n",
      "i = 39, p = 0.739085133215\n",
      "i = 40, p = 0.739085133215\n",
      "i = 41, p = 0.739085133215\n",
      "i = 42, p = 0.739085133215\n",
      "i = 43, p = 0.739085133215\n",
      "i = 44, p = 0.739085133215\n",
      "i = 45, p = 0.739085133215\n",
      "i = 46, p = 0.739085133215\n",
      "i = 47, p = 0.739085133215\n",
      "i = 48, p = 0.739085133215\n",
      "i = 49, p = 0.739085133215\n",
      "i = 50, p = 0.739085133215\n",
      "Iteraciones agotadas: Error!\n",
      "raíz obtenida por el método de Newton:\n",
      "x =  0.7390851332151607\n",
      "f1(x) =  0.0\n"
     ]
    }
   ],
   "source": [
    "raizNewton = test.newton()\n",
    "raizNewton = test.p\n",
    "print('raíz obtenida por el método de Newton:')\n",
    "print('x = ', raizNewton)\n",
    "print('f1(x) = ', trig(raizNewton))"
   ]
  },
  {
   "cell_type": "markdown",
   "metadata": {},
   "source": [
    "##### **3.1.3 Secante**"
   ]
  },
  {
   "cell_type": "code",
   "execution_count": 5,
   "metadata": {},
   "outputs": [
    {
     "name": "stdout",
     "output_type": "stream",
     "text": [
      "i = 2 , p = 0.283662185463\n",
      "i = 3 , p = 0.875203409055\n",
      "i = 4 , p = 0.722980400685\n",
      "i = 5 , p = 0.738630908537\n",
      "i = 6 , p = 0.739086762519\n",
      "i = 7 , p = 0.739085133052\n",
      "i = 8 , p = 0.739085133215\n",
      "raíz obtenida por el método de Secante:\n",
      "x =  0.7390851332151606\n",
      "f1(x) =  1.1102230246251565e-16\n"
     ]
    }
   ],
   "source": [
    "test.p0, test.p00 = -5, 5 #modificando aproximaciones iniciales\n",
    "raizSecante = test.secante()\n",
    "raizSecante = test.p\n",
    "print('raíz obtenida por el método de Secante:')\n",
    "print('x = ', raizSecante)\n",
    "print('f1(x) = ', trig(raizSecante))"
   ]
  },
  {
   "cell_type": "markdown",
   "metadata": {},
   "source": [
    "##### **3.1.4 Punto fijo**\n",
    "\n",
    "$$f_1(x) = cos(x) - x = 0$$\n",
    "\n",
    "Despejando $x$\n",
    "\n",
    "$$x = cos(x)$$\n",
    "\n",
    "Tomando como función punto fijo\n",
    "\n",
    "$$g_1(x) = cos(x)$$\n",
    "\n",
    "Se verifica si la función cumple con las condiciones necesarias para ser punto fijo"
   ]
  },
  {
   "cell_type": "code",
   "execution_count": 6,
   "metadata": {},
   "outputs": [
    {
     "data": {
      "image/png": "[encoded data removed]",
      "text/plain": [
       "<Figure size 640x480 with 1 Axes>"
      ]
     },
     "metadata": {},
     "output_type": "display_data"
    },
    {
     "data": {
      "text/plain": [
       "<sympy.plotting.plot.Plot at 0x9e3fdf0>"
      ]
     },
     "execution_count": 6,
     "metadata": {},
     "output_type": "execute_result"
    }
   ],
   "source": [
    "x = sp.symbols('x')\n",
    "#graficando el valor absoluto de la derivada de g(x)\n",
    "plt(sp.Abs(sp.diff(sp.cos(x),x)), (x, -sp.pi, sp.pi), ylabel=\"|g1'(x)|\", xlabel= 'x')"
   ]
  },
  {
   "cell_type": "markdown",
   "metadata": {},
   "source": [
    "ya que $|g_1'(x)|<1$ en un intervalo $[-\\pi , \\pi]$ se puede tomar $g_1(x) = cos(x)$ como función punto fijo"
   ]
  },
  {
   "cell_type": "code",
   "execution_count": 7,
   "metadata": {},
   "outputs": [
    {
     "name": "stdout",
     "output_type": "stream",
     "text": [
      "i = 1 , p = 0.877582561890\n",
      "i = 2 , p = 0.639012494165\n",
      "i = 3 , p = 0.802685100682\n",
      "i = 4 , p = 0.694778026788\n",
      "i = 5 , p = 0.768195831282\n",
      "i = 6 , p = 0.719165445942\n",
      "i = 7 , p = 0.752355759422\n",
      "i = 8 , p = 0.730081063138\n",
      "i = 9 , p = 0.745120341351\n",
      "i = 10, p = 0.735006309015\n",
      "i = 11, p = 0.741826522643\n",
      "i = 12, p = 0.737235725442\n",
      "i = 13, p = 0.740329651878\n",
      "i = 14, p = 0.738246238332\n",
      "i = 15, p = 0.739649962770\n",
      "i = 16, p = 0.738704539357\n",
      "i = 17, p = 0.739341452281\n",
      "i = 18, p = 0.738912449332\n",
      "i = 19, p = 0.739201444136\n",
      "i = 20, p = 0.739006779781\n",
      "i = 21, p = 0.739137910762\n",
      "i = 22, p = 0.739049580595\n",
      "i = 23, p = 0.739109081421\n",
      "i = 24, p = 0.739069001204\n",
      "i = 25, p = 0.739095999836\n",
      "i = 26, p = 0.739077813285\n",
      "i = 27, p = 0.739090063988\n",
      "i = 28, p = 0.739081811778\n",
      "i = 29, p = 0.739087370571\n",
      "i = 30, p = 0.739083626103\n",
      "i = 31, p = 0.739086148423\n",
      "i = 32, p = 0.739084449359\n",
      "i = 33, p = 0.739085593869\n",
      "i = 34, p = 0.739084822913\n",
      "i = 35, p = 0.739085342238\n",
      "i = 36, p = 0.739084992415\n",
      "i = 37, p = 0.739085228060\n",
      "i = 38, p = 0.739085069326\n",
      "i = 39, p = 0.739085176251\n",
      "i = 40, p = 0.739085104225\n",
      "i = 41, p = 0.739085152743\n",
      "i = 42, p = 0.739085120061\n",
      "i = 43, p = 0.739085142076\n",
      "i = 44, p = 0.739085127246\n",
      "i = 45, p = 0.739085137236\n",
      "i = 46, p = 0.739085130507\n",
      "i = 47, p = 0.739085135040\n",
      "i = 48, p = 0.739085131986\n",
      "i = 49, p = 0.739085134043\n",
      "i = 50, p = 0.739085132658\n",
      "Iteraciones agotadas: Error!\n",
      "raíz obtenida por el método de PuntoFijo:\n",
      "x =  0.7390851326575361\n",
      "f1(x) =  9.332472572509687e-10\n"
     ]
    }
   ],
   "source": [
    "test.p0 = -0.5 #modificando aproximacion inicial\n",
    "raizPuntoFijo = test.puntofijo(trigPuntoFijo, trigPuntoFijoPrima, -mt.pi, mt.pi)\n",
    "raizPuntoFijo = test.p\n",
    "print('raíz obtenida por el método de PuntoFijo:')\n",
    "print('x = ', raizPuntoFijo)\n",
    "print('f1(x) = ', trig(raizPuntoFijo))"
   ]
  },
  {
   "cell_type": "markdown",
   "metadata": {},
   "source": [
    "corroborando"
   ]
  },
  {
   "cell_type": "code",
   "execution_count": 8,
   "metadata": {},
   "outputs": [
    {
     "data": {
      "image/png": "[encoded data removed]",
      "text/plain": [
       "<Figure size 640x480 with 1 Axes>"
      ]
     },
     "metadata": {},
     "output_type": "display_data"
    },
    {
     "data": {
      "text/plain": [
       "<sympy.plotting.plot.Plot at 0xc72b850>"
      ]
     },
     "execution_count": 8,
     "metadata": {},
     "output_type": "execute_result"
    }
   ],
   "source": [
    "plt(sp.cos(x)-x, (x, -sp.pi, sp.pi), ylabel=\"f1(x)\", xlabel= 'x')"
   ]
  },
  {
   "cell_type": "markdown",
   "metadata": {},
   "source": []
  },
  {
   "cell_type": "markdown",
   "metadata": {},
   "source": [
    "##### **3.1.5 Resumen de resultados del problema test**\n",
    "\n",
    "|               |$x_0$              |$f_1(x_0)$                     |\n",
    "|:--------------|:-----------------:|:-----------------------------:|\n",
    "| Bisección     |0.7390851331874728 |4.633871064640971($10^{-11}$)  |\n",
    "| Newton        |0.7390851332151607 |0.0                            |\n",
    "| Secante       |0.7390851332151606 |1.110223024625156($10^{-16}$)  |\n",
    "| Punto fijo    |0.7390851326575361 |9.332472572509687($10^{-10}$)  |"
   ]
  },
  {
   "cell_type": "markdown",
   "metadata": {},
   "source": [
    "#### **3.2 Problema 1**\n",
    "\n",
    "Resolver la ecuación:\n",
    "\n",
    "$$e^x-2-x = 0, \\; en \\; el \\; intervalo \\; [-2.4 ; -1.0]$$\n",
    "\n",
    "define la raíz de la funcion:\n",
    "\n",
    "$$f_2(x) = e^x-2-x$$"
   ]
  },
  {
   "cell_type": "code",
   "execution_count": 9,
   "metadata": {},
   "outputs": [],
   "source": [
    "#función dentro del programa funciones definida como exp(x)\n",
    "\n",
    "#intancia utilizada para el problema 1\n",
    "iteraciones = 50\n",
    "tolerancia = 1e-9\n",
    "aproxInic = 0.5 \n",
    "pro1 = zero(exp, expPrima, iteraciones, tolerancia, aproxInic)\n",
    "pro1.proceso = False #no se mostrará el proceso de iteración, a menos que sea necesario"
   ]
  },
  {
   "cell_type": "markdown",
   "metadata": {},
   "source": [
    "##### **3.2.1 Bisección**"
   ]
  },
  {
   "cell_type": "code",
   "execution_count": 10,
   "metadata": {},
   "outputs": [
    {
     "name": "stdout",
     "output_type": "stream",
     "text": [
      "raíz 1 obtenida por el método de bisección:\n",
      "x =  -1.8414056609617546\n",
      "f2(x) =  4.41564562692065e-10\n"
     ]
    }
   ],
   "source": [
    "pro1.biseccion(-5,5) #prueba 1\n",
    "raizBiseccion = pro1.p\n",
    "print('raíz 1 obtenida por el método de bisección:')\n",
    "print('x = ', raizBiseccion)\n",
    "print('f2(x) = ', exp(raizBiseccion))"
   ]
  },
  {
   "cell_type": "code",
   "execution_count": 11,
   "metadata": {},
   "outputs": [
    {
     "name": "stdout",
     "output_type": "stream",
     "text": [
      "raíz 2 obtenida por el método de bisección:\n",
      "x =  1.1461932206293568\n",
      "f2(x) =  1.8831158854482055e-11\n"
     ]
    }
   ],
   "source": [
    "pro1.biseccion(0,5) #prueba 2\n",
    "raizBiseccion = pro1.p\n",
    "print('raíz 2 obtenida por el método de bisección:')\n",
    "print('x = ', raizBiseccion)\n",
    "print('f2(x) = ', exp(raizBiseccion))"
   ]
  },
  {
   "cell_type": "markdown",
   "metadata": {},
   "source": [
    "#### **3.2.2 Newton**"
   ]
  },
  {
   "cell_type": "code",
   "execution_count": 12,
   "metadata": {},
   "outputs": [
    {
     "name": "stdout",
     "output_type": "stream",
     "text": [
      "Iteraciones agotadas: Error!\n",
      "raíz 2 obtenida por el método de Newton:\n",
      "x =  1.1461932206205825\n",
      "f2(x) =  0.0\n"
     ]
    }
   ],
   "source": [
    "pro1.p0 = 10 #cambiando aproximacion inicial\n",
    "raizNewton = pro1.newton()\n",
    "raizNewton = pro1.p\n",
    "print('raíz 2 obtenida por el método de Newton:')\n",
    "print('x = ', raizNewton)\n",
    "print('f2(x) = ', exp(raizNewton))"
   ]
  },
  {
   "cell_type": "code",
   "execution_count": 13,
   "metadata": {},
   "outputs": [
    {
     "name": "stdout",
     "output_type": "stream",
     "text": [
      "Iteraciones agotadas: Error!\n",
      "raíz 1 obtenida por el método de Newton:\n",
      "x =  -1.8414056604369606\n",
      "f2(x) =  0.0\n"
     ]
    }
   ],
   "source": [
    "pro1.p0 = -10 #cambiando aproximacion inicial\n",
    "raizNewton = pro1.newton()\n",
    "raizNewton = pro1.p\n",
    "print('raíz 1 obtenida por el método de Newton:')\n",
    "print('x = ', raizNewton)\n",
    "print('f2(x) = ', exp(raizNewton))"
   ]
  },
  {
   "cell_type": "markdown",
   "metadata": {},
   "source": [
    "#### **3.2.3 Secante**"
   ]
  },
  {
   "cell_type": "code",
   "execution_count": 14,
   "metadata": {},
   "outputs": [
    {
     "name": "stdout",
     "output_type": "stream",
     "text": [
      "raíz 1 obtenida por el método de Secante:\n",
      "x =  1.1461932206205827\n",
      "f2(x) =  2.220446049250313e-16\n"
     ]
    }
   ],
   "source": [
    "#test.p0, test.p00 = -5, 5 #modificando aproximaciones iniciales\n",
    "raizSecante = pro1.secante()\n",
    "raizSecante = pro1.p\n",
    "print('raíz 1 obtenida por el método de Secante:')\n",
    "print('x = ', raizSecante)\n",
    "print('f2(x) = ', exp(raizSecante))"
   ]
  },
  {
   "cell_type": "code",
   "execution_count": 15,
   "metadata": {},
   "outputs": [
    {
     "name": "stdout",
     "output_type": "stream",
     "text": [
      "raíz 2 obtenida por el método de Secante:\n",
      "x =  1.1461932206205825\n",
      "f2(x) =  0.0\n"
     ]
    }
   ],
   "source": [
    "pro1.p0 = 0.1 #modificando aproximacion inicial\n",
    "raizSecante = pro1.secante()\n",
    "raizSecante = pro1.p\n",
    "print('raíz 2 obtenida por el método de Secante:')\n",
    "print('x = ', raizSecante)\n",
    "print('f2(x) = ', exp(raizSecante))"
   ]
  },
  {
   "cell_type": "markdown",
   "metadata": {},
   "source": [
    "##### **3.2.4 Punto fijo**\n",
    "\n",
    "$$f_2(x) = e^x - x - 2 = 0$$\n",
    "\n",
    "Despejando $x$\n",
    "\n",
    "$$x = e^x - 2$$\n",
    "\n",
    "Tomando como función punto fijo\n",
    "\n",
    "$$g_2(x) = e^x - 2$$\n",
    "\n",
    "Se verifica si la función cumple con las condiciones necesarias para ser punto fijo"
   ]
  },
  {
   "cell_type": "code",
   "execution_count": 16,
   "metadata": {},
   "outputs": [
    {
     "data": {
      "image/png": "[encoded data removed]",
      "text/plain": [
       "<Figure size 640x480 with 1 Axes>"
      ]
     },
     "metadata": {},
     "output_type": "display_data"
    },
    {
     "data": {
      "text/plain": [
       "<sympy.plotting.plot.Plot at 0xc7c33f0>"
      ]
     },
     "execution_count": 16,
     "metadata": {},
     "output_type": "execute_result"
    }
   ],
   "source": [
    "#graficando el valor absoluto de la derivada de g(x)\n",
    "plt(sp.Abs(sp.diff(sp.exp(x) - 2,x)), (x, -2, 2), ylabel=\"|g2'(x)|\", xlabel= 'x')"
   ]
  },
  {
   "cell_type": "markdown",
   "metadata": {},
   "source": [
    "ya que $|g_2'(x)|<1$ en un intervalo $[-\\infty , 0)$ se puede tomar $g_2(x) = e^x-2$ como función punto fijo. Sin embargo, solo nos permite obtener una sóla raíz"
   ]
  },
  {
   "cell_type": "code",
   "execution_count": 17,
   "metadata": {},
   "outputs": [
    {
     "name": "stdout",
     "output_type": "stream",
     "text": [
      "raíz 1 obtenida por el método de PuntoFijo:\n",
      "x =  -1.841405660285948\n",
      "f2(x) =  -1.2706280472229992e-10\n"
     ]
    }
   ],
   "source": [
    "pro1.p0 = -0.5 #modificando aproximacion inicial\n",
    "raizPuntoFijo = pro1.puntofijo(expPuntoFijo, expPuntoFijoPrima, -3, 0)\n",
    "raizPuntoFijo = pro1.p\n",
    "print('raíz 1 obtenida por el método de PuntoFijo:')\n",
    "print('x = ', raizPuntoFijo)\n",
    "print('f2(x) = ', exp(raizPuntoFijo))"
   ]
  },
  {
   "cell_type": "markdown",
   "metadata": {},
   "source": [
    "Corroborando resultados obtenidos"
   ]
  },
  {
   "cell_type": "code",
   "execution_count": 18,
   "metadata": {},
   "outputs": [
    {
     "data": {
      "image/png": "[encoded data removed]",
      "text/plain": [
       "<Figure size 640x480 with 1 Axes>"
      ]
     },
     "metadata": {},
     "output_type": "display_data"
    },
    {
     "data": {
      "text/plain": [
       "<sympy.plotting.plot.Plot at 0xc7d71d0>"
      ]
     },
     "execution_count": 18,
     "metadata": {},
     "output_type": "execute_result"
    }
   ],
   "source": [
    "plt(sp.exp(x) - x - 2, (x, -2, 2), ylabel=\"f2(x)\", xlabel= 'x')"
   ]
  },
  {
   "cell_type": "markdown",
   "metadata": {},
   "source": [
    "##### **3.2.5 Resumen de resultados del problema test**\n",
    "\n",
    "|               |$x_1$              |$f_2(x_1)$                    |$x_2$              |$f_2(x_2)$            |\n",
    "|:--------------|:-----------------:|:----------------------------:|:-----------------:|:--------------------:|\n",
    "| Bisección     |-1.8414056608453393|3.436120277200416($10^{-10}$)|1.1461932206293568|1.8831158854482055($10^{-11}$)|\n",
    "| Newton        |-1.8414056604369606|0.0                           |1.1461932206205825| 0.0|\n",
    "| Secante       |-1.8414056604369606|0.0                       |0.6859224077218748| -0.7003198815333824|\n",
    "| Punto fijo    |-1.841405660285948| -1.2706280472229992($10^{-10}$)|-|-|"
   ]
  },
  {
   "cell_type": "markdown",
   "metadata": {},
   "source": [
    "#### **3.4 problema 3**\n",
    "\n",
    "determinar los valores de las fuentes $E_1$ y $E_2$ sabiendo que la potencia asociada a cada una es $W_1 = 2watt$ y $W_2 = 3watt$, considere la siguiente figura e inicie en el iterado $x_0 = [4, 4]^t$, escriba un sistema de ecuaciones con variables $E_1$ y $E_2$.\n",
    "\n",
    "<center><image src='pro4.jpg' style='height: 8cm'></center>"
   ]
  },
  {
   "cell_type": "markdown",
   "metadata": {},
   "source": [
    "Aplicando ley de mallas, se toma $I_1$ e $I_2$ como las corrientes que circulan por las baterias $E_1$ y $E_2$ respectivamente. $I_1$ se tomará en sentido horario e $I_2$ se tomará en sentido antiorario.\n",
    "\n",
    "Para la malla 1\n",
    "\n",
    "$$6I_1 + I_2 = E_1$$\n",
    "\n",
    "sabiendo que en módulo $W_i = E_iI_i \\rightarrow I_i={W_i \\over E_i}$\n",
    "\n",
    "$$\\begin{array}{rcl}\n",
    "6I_1 + I_2 & = & E_1\\\\\n",
    "6{W_1 \\over E_1} + {W_2 \\over E_2} & = & E_1\\\\\n",
    "6W_1E_2 + W_2E_1 & = & E_1^2E_2\\\\\n",
    "-E_1^2E_2 + 6W_1E_2 + W_2E_1 & = & 0\\\\\n",
    "-E_1^2E_2 + 6(2)E_2 + 3E_1 & = & 0\\\\\n",
    "-E_1^2E_2 + 3E_1 + 12E_2 & = & 0 \\; \\; \\; \\; \\; \\; \\; \\; \\; \\; (1)\\\\\n",
    "\\end{array}$$\n",
    "\n",
    "Para la malla 1 (de la misma manera que la malla 1)\n",
    "\n",
    "$$\\begin{array}{rcl}\n",
    "7I_2 + I_1 & = & E_2\\\\\n",
    "7{W_2 \\over E_2} + {W_1 \\over E_1} & = & E_2\\\\\n",
    "7W_2E_1 + W_1E_2 & = & E_1E_2^2\\\\\n",
    "-E_1E_2^2 + 7W_2E_1 + W_1E_2 & = & 0\\\\\n",
    "-E_1E_2^2 + 7(3)E_1 + 2E_2 & = & 0\\\\\n",
    "-E_1E_2^2 + 21E_1 + 2E_2 & = & 0 \\; \\; \\; \\; \\; \\; \\; \\; \\; \\; (2)\\\\\n",
    "\\end{array}$$\n",
    "\n",
    "Resolviendo, a través del método de Newton, el sistema de ecuaciones no lineales conformado por (1) y (2):\n",
    "\n",
    "$$\n",
    "\\{ \\begin{array}{rcl}\n",
    "-E_1^2E_2 + 3E_1 + 12E_2 & = & 0 \\\\\n",
    "-E_1E_2^2 + 21E_1 + 2E_2 & = & 0 \\\\\n",
    "\\end{array}\n",
    "$$"
   ]
  },
  {
   "cell_type": "code",
   "execution_count": 19,
   "metadata": {},
   "outputs": [
    {
     "name": "stdout",
     "output_type": "stream",
     "text": [
      "E1 =  3.786864141330596\n",
      "E2 =  4.854248657521035\n"
     ]
    }
   ],
   "source": [
    "var = sp.symbols('x1 x2')\n",
    "f1 = -var[0]**2*var[1] + 3*var[0] + 12*var[1]\n",
    "f2 = -var[0]*var[1]**2 + 21*var[0] + 2*var[1] #seguir agregando funciones de ser necesario\n",
    "F = [f1, f2]\n",
    "x0 = [4, 4]\n",
    "itera = 10\n",
    "tol = 1e-6\n",
    "\n",
    "E = SENL(x0, F, itera, tol)\n",
    "print('E1 = ',E[0])\n",
    "print('E2 = ',E[1])"
   ]
  },
  {
   "cell_type": "code",
   "execution_count": 21,
   "metadata": {},
   "outputs": [
    {
     "data": {
      "text/plain": [
       "array([[ 7.10542736e-15],\n",
       "       [-2.48689958e-14]])"
      ]
     },
     "execution_count": 21,
     "metadata": {},
     "output_type": "execute_result"
    }
   ],
   "source": [
    "#comprobación\n",
    "F0 = sp.lambdify([i for i in var], sp.matrices.Matrix(F))\n",
    "F0(E[0],E[1])"
   ]
  },
  {
   "cell_type": "markdown",
   "metadata": {},
   "source": [
    "##### **3.4.1 Resultados problema 3**\n",
    "\n",
    "| <!-- -->          | <!-- -->          |\n",
    "|:-----------------:|:-----------------:|\n",
    "| $E_1[V]$          | 3.786864141330596 |\n",
    "| $E_2[V]$          | 4.854248657521035 |\n"
   ]
  },
  {
   "cell_type": "markdown",
   "metadata": {},
   "source": [
    "#### 4. Análisis de resultados\n",
    "\n",
    "En el problema 1 se puede observar que las raíces obtenidas con los métodos de Newton y de la secante fueron las más cercanas a cero al evaluarla en la función de interés, incluso cabe resaltar que el método de Newton después de acabar las respectivas iteraciones establecidas alcanza el cero absoluto definido por el programa. No obstante, las demás aproximaciones también pueden tomarse en cuenta, dependiendo de la aplicación se puede despreciar la diferencia con respecto al cero. Cabe señalar que el método de bisección es considerado el más lento de todas las formas establecidas.\n",
    "\n",
    "En el problema 2, en la función, es notable que se establacieran dos raíces distintas; debido a ésto ocurrieron algunos eventos partículares que se describirán a continuación. El método de bisección proporcionó una buena aproximación en el orden de $10^{-10}$ cifras decimales; tomando un intervalo de una longitud de 10 unidades se aproximó hasta el cero más a la izquierda dentro del intervalo, en consecuencia, fue necesario dejar este punto fuera del intervalo de interés para obtener una aproximación del cero más a la derecha; por tanto para múltiples raíces dentro de un intervalo no es recomendable utlizar bisección. El método de Newton sigue siendo igual de efectivo que en el problema 1, siempre y cuando la aproximación inicial esté cerca del cero de interés. Con el método de la secante no fue posible obtener la raíz 2, esto puede deberse a que una de las aproximaciones que se utilizan estaba relativamente cerca, ya que con el cero negativo no hubo problemas e incluso se realizó una excelente aproximación a la raíz. Por último al utilizar el método del punto fijo quedó demostrado que con una sola función de punto fijo no es posible obtener todos los ceros de una función, ésto debido a las condiciones particulares que debe cumplir la función para la convergencia del método en sí.\n",
    "\n",
    "Al resolver el sistema de ecuaciones no lineales del problema 3 por el método numérico de Newton se estableció que el vector de funciones F era aproximadamente cero por $10^{-14}$ cifras decimales significativas, además al estar analizando un sistema de potencia el orden de los $picowatts$ puede considerarse despreciable en cuanto a cifras significativas. Por tanto, las tensiones obtenidas en la última tabla se adecuan perfectamente al sistema, sin embargo estos valores exactos no se pueden considerar en una bateria debido al deterioro de la misma y la incertidumbre que ésta poseé. "
   ]
  },
  {
   "cell_type": "markdown",
   "metadata": {},
   "source": [
    "#### 5. Conclusión\n",
    "\n",
    "Se concluye que el método de Newton para hallar los ceros de una funcion es el más efectivo de todos, debido a su aproximación a cero presentada en las tablas de rsultados, el problema se podría presentar si en algunos casos la derivada de la funcion se vuelve complicada de calcular, por lo que seria útil utilizar otro método, además es necesario considerar una cercana aproximación inicial. En cuanto a los sistemas de ecuaciones no lineales se puede decir que despues de ciertas iteraciones llega a converjer a un resultado en el orden $10^{-14}$ de los decimales, que para aplicaciones de potencia, como es el caso, puede llegar a considerarse cero; se recuerda siempre tomar en cuenta que el numero de ecuaciones e incognitas deben ser iguales para que los sistemas tengan una solución. "
   ]
  },
  {
   "cell_type": "markdown",
   "metadata": {},
   "source": []
  },
  {
   "cell_type": "markdown",
   "metadata": {},
   "source": [
    "#### 6. Referencias\n",
    "\n",
    "[1] **Métodos Numéricos con Python**, *Ovalle D., Bernal M., Posada J.*, Editorial Politecnico Grancolombiano, (2021)\n",
    "\n",
    "[2] **Analisis Numérico**, *Richard L. Burden • Douglas J. Faires • Annette M. Burden*, 10ma edición\n"
   ]
  }
 ],
 "metadata": {
  "kernelspec": {
   "display_name": "Python 3.7.6 32-bit",
   "language": "python",
   "name": "python3"
  },
  "language_info": {
   "codemirror_mode": {
    "name": "ipython",
    "version": 3
   },
   "file_extension": ".py",
   "mimetype": "text/x-python",
   "name": "python",
   "nbconvert_exporter": "python",
   "pygments_lexer": "ipython3",
   "version": "3.7.6"
  },
  "orig_nbformat": 4,
  "vscode": {
   "interpreter": {
    "hash": "788400b204fe04ac0104141e50cea79f99506ff2986f70a747d8d3a42cb0b336"
   }
  }
 },
 "nbformat": 4,
 "nbformat_minor": 2
}
